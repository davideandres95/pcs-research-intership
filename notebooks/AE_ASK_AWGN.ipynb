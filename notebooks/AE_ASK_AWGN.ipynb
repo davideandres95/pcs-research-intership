{
 "cells": [
  {
   "cell_type": "code",
   "execution_count": 1,
   "metadata": {
    "collapsed": true
   },
   "outputs": [],
   "source": [
    "# -*- coding: utf-8 -*-:\n",
    "import matplotlib.pyplot as plt\n",
    "import torch\n",
    "import torch.nn.functional as F\n",
    "import torch.nn as nn\n",
    "import torch.optim as optim\n",
    "import numpy as np"
   ]
  },
  {
   "cell_type": "code",
   "execution_count": 2,
   "outputs": [],
   "source": [
    "from pcs import tx\n",
    "from pcs import helper as hlp\n",
    "from pcs import utils\n",
    "from pcs import autoencoder as ae"
   ],
   "metadata": {
    "collapsed": false
   }
  },
  {
   "cell_type": "markdown",
   "source": [
    "# Parameters"
   ],
   "metadata": {
    "collapsed": false
   }
  },
  {
   "cell_type": "code",
   "execution_count": 3,
   "outputs": [],
   "source": [
    "# Channel Parameters\n",
    "chParam = utils.AttrDict()\n",
    "chParam.M = 8\n",
    "chParam.SNR_db = 5\n",
    "\n",
    "# Auto-Encoder Parameters\n",
    "aeParam = utils.AttrDict()\n",
    "aeParam.nLayersEnc  = 1\n",
    "aeParam.nLayersDec  = 5\n",
    "aeParam.nFeaturesEnc  = 128\n",
    "aeParam.nFeaturesDec  = 128\n",
    "\n",
    "# Training Parameters\n",
    "trainingParam = utils.AttrDict()\n",
    "trainingParam.nBatches      = 16\n",
    "trainingParam.batchSize     = 10_000\n",
    "trainingParam.learningRate  = 0.01\n",
    "trainingParam.iterations    = 4000\n",
    "trainingParam.displayStep   = 500"
   ],
   "metadata": {
    "collapsed": false
   }
  },
  {
   "cell_type": "code",
   "execution_count": 4,
   "outputs": [],
   "source": [
    "enc_inp = torch.tensor([[1]], dtype=torch.float)\n",
    "# AWGN Capacity\n",
    "AWGN_Cap = 0.5 * np.log2(1 + hlp.dB2lin(chParam.SNR_db, 'dB'))"
   ],
   "metadata": {
    "collapsed": false
   }
  },
  {
   "cell_type": "markdown",
   "source": [
    "# Implementation"
   ],
   "metadata": {
    "collapsed": false
   }
  },
  {
   "cell_type": "code",
   "execution_count": 5,
   "outputs": [],
   "source": [
    "def sampler(P_M, B):\n",
    "    samples = torch.empty(0)\n",
    "    for idx, p in enumerate(P_M):\n",
    "        occurrences = torch.round(B * p).type(torch.LongTensor)\n",
    "        samples = torch.cat((samples, torch.ones(occurrences, dtype=torch.int64) * torch.tensor(idx)))\n",
    "    indexes = torch.randperm(samples.shape[0])\n",
    "    return samples[indexes]"
   ],
   "metadata": {
    "collapsed": false
   }
  },
  {
   "cell_type": "code",
   "execution_count": 6,
   "outputs": [],
   "source": [
    "def generate_AWGN(x_shape, SNR_db):\n",
    "    noise = torch.randn(x_shape)\n",
    "    sigma2 = torch.tensor(1) / hlp.dB2lin(SNR_db, 'dB')  # 1 corresponds to the Power\n",
    "    noise = torch.sqrt(sigma2) * noise\n",
    "    noise_power = torch.mean(torch.square(torch.abs(noise)))\n",
    "    return noise, sigma2, noise_power"
   ],
   "metadata": {
    "collapsed": false
   }
  },
  {
   "cell_type": "code",
   "execution_count": 7,
   "outputs": [],
   "source": [
    "def plot_PDF( ask, pmf, db):\n",
    "    fig = plt.figure()\n",
    "    ax = fig.add_axes([0,0,1,1])\n",
    "    ax.bar(ask, pmf)\n",
    "    ax.set_title(f'SNR = {db} dB')\n",
    "    ax.grid()\n",
    "    fig.show()"
   ],
   "metadata": {
    "collapsed": false
   }
  },
  {
   "cell_type": "code",
   "execution_count": 12,
   "outputs": [],
   "source": [
    "# Initialize network\n",
    "encoder = ae.Encoder_Aref_single_layer(in_features=1, out_features=chParam.M, bias=False)\n",
    "decoder = ae.Decoder_Aref(in_features=1, width=aeParam.nFeaturesDec, out_features=chParam.M)\n",
    "CEloss = nn.CrossEntropyLoss()"
   ],
   "metadata": {
    "collapsed": false
   }
  },
  {
   "cell_type": "code",
   "execution_count": 13,
   "outputs": [],
   "source": [
    "# Optimizer\n",
    "optimizer = optim.Adam(list(encoder.parameters()) + list(decoder.parameters()), lr=trainingParam.learningRate)"
   ],
   "metadata": {
    "collapsed": false
   }
  },
  {
   "cell_type": "code",
   "execution_count": 14,
   "outputs": [
    {
     "name": "stdout",
     "output_type": "stream",
     "text": [
      "tensor(1., grad_fn=<SumBackward0>)\n"
     ]
    },
    {
     "name": "stderr",
     "output_type": "stream",
     "text": [
      "/tmp/ipykernel_828852/4269678781.py:7: UserWarning: Matplotlib is currently using module://matplotlib_inline.backend_inline, which is a non-GUI backend, so cannot show the figure.\n",
      "  fig.show()\n"
     ]
    },
    {
     "data": {
      "text/plain": "<Figure size 432x288 with 1 Axes>",
      "image/png": "[encoded data removed]"
     },
     "metadata": {
      "needs_background": "light"
     },
     "output_type": "display_data"
    }
   ],
   "source": [
    "p_s_t = F.softmax(encoder(enc_inp), dim=1)\n",
    "p_s = p_s_t.detach().numpy()[0]\n",
    "constellation = np.linspace(-chParam.M+1, chParam.M-1, num=chParam.M)\n",
    "constellation_t = torch.tensor(constellation, dtype=torch.float)\n",
    "plot_PDF(constellation, p_s, chParam.SNR_db)\n",
    "print(torch.sum(p_s_t))"
   ],
   "metadata": {
    "collapsed": false
   }
  },
  {
   "cell_type": "code",
   "execution_count": 15,
   "outputs": [
    {
     "name": "stdout",
     "output_type": "stream",
     "text": [
      "epoch 0: Loss = 0.0012 - always 1: 1.0 - MI: 0.9794 - Cap.: 1.0287\n",
      "epoch 500: Loss = -1.0011 - always 1: 1.0 - MI: 1.0057 - Cap.: 1.0287\n",
      "epoch 1000: Loss = -0.9683 - always 1: 1.0 - MI: 0.9704 - Cap.: 1.0287\n"
     ]
    },
    {
     "ename": "KeyboardInterrupt",
     "evalue": "",
     "output_type": "error",
     "traceback": [
      "\u001B[0;31m---------------------------------------------------------------------------\u001B[0m",
      "\u001B[0;31mKeyboardInterrupt\u001B[0m                         Traceback (most recent call last)",
      "\u001B[0;32m/tmp/ipykernel_828852/3243041027.py\u001B[0m in \u001B[0;36m<module>\u001B[0;34m\u001B[0m\n\u001B[1;32m     57\u001B[0m     \u001B[0moptimizer\u001B[0m\u001B[0;34m.\u001B[0m\u001B[0mstep\u001B[0m\u001B[0;34m(\u001B[0m\u001B[0;34m)\u001B[0m\u001B[0;34m\u001B[0m\u001B[0;34m\u001B[0m\u001B[0m\n\u001B[1;32m     58\u001B[0m \u001B[0;34m\u001B[0m\u001B[0m\n\u001B[0;32m---> 59\u001B[0;31m     \u001B[0mMI\u001B[0m \u001B[0;34m=\u001B[0m \u001B[0mutils\u001B[0m\u001B[0;34m.\u001B[0m\u001B[0mgaussianMI_ASK_Non_Uniform\u001B[0m\u001B[0;34m(\u001B[0m\u001B[0mindices\u001B[0m\u001B[0;34m,\u001B[0m \u001B[0mx\u001B[0m\u001B[0;34m,\u001B[0m \u001B[0my\u001B[0m\u001B[0;34m,\u001B[0m \u001B[0mnorm_constellation\u001B[0m\u001B[0;34m,\u001B[0m \u001B[0mchParam\u001B[0m\u001B[0;34m.\u001B[0m\u001B[0mM\u001B[0m\u001B[0;34m,\u001B[0m \u001B[0mP_M\u001B[0m\u001B[0;34m,\u001B[0m \u001B[0mdtype\u001B[0m\u001B[0;34m=\u001B[0m\u001B[0mtorch\u001B[0m\u001B[0;34m.\u001B[0m\u001B[0mdouble\u001B[0m\u001B[0;34m)\u001B[0m\u001B[0;34m.\u001B[0m\u001B[0mdetach\u001B[0m\u001B[0;34m(\u001B[0m\u001B[0;34m)\u001B[0m\u001B[0;34m.\u001B[0m\u001B[0mnumpy\u001B[0m\u001B[0;34m(\u001B[0m\u001B[0;34m)\u001B[0m\u001B[0;34m\u001B[0m\u001B[0;34m\u001B[0m\u001B[0m\n\u001B[0m\u001B[1;32m     60\u001B[0m \u001B[0;34m\u001B[0m\u001B[0m\n\u001B[1;32m     61\u001B[0m     \u001B[0;31m# Printout and visualization\u001B[0m\u001B[0;34m\u001B[0m\u001B[0;34m\u001B[0m\u001B[0m\n",
      "\u001B[0;32m~/Projects/internship_pcs/pcs/utils.py\u001B[0m in \u001B[0;36mgaussianMI_ASK_Non_Uniform\u001B[0;34m(idx, x, y, constellation, M, P_X, dtype)\u001B[0m\n\u001B[1;32m    143\u001B[0m     \u001B[0mHX\u001B[0m \u001B[0;34m=\u001B[0m \u001B[0;34m-\u001B[0m\u001B[0mp_norm\u001B[0m\u001B[0;34m(\u001B[0m\u001B[0mP_X\u001B[0m\u001B[0;34m,\u001B[0m \u001B[0mP_X\u001B[0m\u001B[0;34m,\u001B[0m \u001B[0;32mlambda\u001B[0m \u001B[0mx\u001B[0m\u001B[0;34m:\u001B[0m \u001B[0mtorch\u001B[0m\u001B[0;34m.\u001B[0m\u001B[0mlog2\u001B[0m\u001B[0;34m(\u001B[0m\u001B[0mx\u001B[0m\u001B[0;34m)\u001B[0m\u001B[0;34m)\u001B[0m\u001B[0;34m\u001B[0m\u001B[0;34m\u001B[0m\u001B[0m\n\u001B[1;32m    144\u001B[0m \u001B[0;34m\u001B[0m\u001B[0m\n\u001B[0;32m--> 145\u001B[0;31m     \u001B[0mMI\u001B[0m \u001B[0;34m=\u001B[0m \u001B[0mHX\u001B[0m \u001B[0;34m-\u001B[0m \u001B[0mtorch\u001B[0m\u001B[0;34m.\u001B[0m\u001B[0mmean\u001B[0m\u001B[0;34m(\u001B[0m\u001B[0;34m-\u001B[0m\u001B[0mtorch\u001B[0m\u001B[0;34m.\u001B[0m\u001B[0mlog2\u001B[0m\u001B[0;34m(\u001B[0m\u001B[0mqXonY\u001B[0m\u001B[0;34m)\u001B[0m\u001B[0;34m)\u001B[0m\u001B[0;34m\u001B[0m\u001B[0;34m\u001B[0m\u001B[0m\n\u001B[0m\u001B[1;32m    146\u001B[0m \u001B[0;34m\u001B[0m\u001B[0m\n\u001B[1;32m    147\u001B[0m     \u001B[0;32mreturn\u001B[0m \u001B[0mMI\u001B[0m\u001B[0;34m\u001B[0m\u001B[0;34m\u001B[0m\u001B[0m\n",
      "\u001B[0;31mKeyboardInterrupt\u001B[0m: "
     ]
    }
   ],
   "source": [
    "def sampler(P_M, B):\n",
    "    samples = torch.empty(0)\n",
    "    for idx, p in enumerate(P_M):\n",
    "        occurrences = torch.round(B * p).type(torch.LongTensor)\n",
    "        samples = torch.cat((samples, torch.ones(occurrences, dtype=torch.int64) * torch.tensor(idx)))\n",
    "    indexes = torch.randperm(samples.shape[0])\n",
    "    return samples[indexes]\n",
    "\n",
    "def gradient_correction_factor(app, idx, prob, M):\n",
    "    (nn,M)= app.shape\n",
    "    cf  = torch.zeros(M)\n",
    "    for j in range(M):\n",
    "        tmp = app[:, j]\n",
    "        cf[j] = torch.sum(torch.log(tmp[idx==j])) / (nn*prob[j]) # tmp[idx==j] selects the ll of those xy pairs which belong to the current symbol j\n",
    "    return cf\n",
    "\n",
    "# Training loop\n",
    "for j in range(trainingParam.iterations):\n",
    "    # first generate the distribution\n",
    "    l_M = encoder(enc_inp)\n",
    "    P_M = F.softmax(l_M, -1)\n",
    "\n",
    "    # Sample indexes\n",
    "    indices = sampler(torch.squeeze(P_M), trainingParam.batchSize).type(torch.LongTensor)  # labels\n",
    "    # get onehot from sampled indices\n",
    "    onehot = F.one_hot(indices, chParam.M).float()\n",
    "\n",
    "    # normalization & Modulation\n",
    "    norm_factor = torch.rsqrt(utils.p_norm(P_M, constellation_t))\n",
    "    norm_constellation = torch.mul(constellation_t, norm_factor)\n",
    "    x = torch.matmul(onehot, norm_constellation)\n",
    "    should_always_be_one = utils.p_norm(P_M, norm_constellation)\n",
    "\n",
    "    # Channel\n",
    "    noise_snr, sigma2, noise_power = generate_AWGN(x.shape, chParam.SNR_db)\n",
    "    y = torch.add(x, noise_snr)\n",
    "    #y_power = utils.p_norm(P_M, torch.add(norm_constellation, generate_AWGN(norm_constellation.shape, chParam.SNR_db)[0] ))\n",
    "\n",
    "    # demodulator\n",
    "    y_vec = torch.reshape(y, (-1, 1))\n",
    "    ll = decoder(y_vec)\n",
    "    app = nn.functional.softmax(ll, 1) #Q(X|Y)\n",
    "\n",
    "    # loss\n",
    "    loss = -(torch.sum(-P_M*torch.log(P_M)) -CEloss(ll, indices))\n",
    "\n",
    "    optimizer.zero_grad()\n",
    "    loss.backward()\n",
    "\n",
    "    probs = P_M.transpose(0,1).squeeze()\n",
    "    cf = - (gradient_correction_factor(app, indices, probs, chParam.M) - probs)\n",
    "\n",
    "    for name, param in encoder.named_parameters():\n",
    "        if 'weight' in name:\n",
    "            param.grad += cf.reshape(-1,1).detach()\n",
    "\n",
    "    optimizer.step()\n",
    "\n",
    "    MI = utils.gaussianMI_ASK_Non_Uniform(indices, x, y, norm_constellation, chParam.M, P_M, dtype=torch.double).detach().numpy()\n",
    "\n",
    "    # Printout and visualization\n",
    "    if j % int(trainingParam.displayStep) == 0:\n",
    "        print(f'epoch {j}: Loss = {loss.detach().numpy() / np.log(2) :.4f} - always 1: {should_always_be_one :.2} - MI: {MI :.4f} - Cap.: {AWGN_Cap:.4f}')"
   ],
   "metadata": {
    "collapsed": false
   }
  },
  {
   "cell_type": "code",
   "execution_count": 16,
   "outputs": [
    {
     "name": "stdout",
     "output_type": "stream",
     "text": [
      "<class 'torch.Tensor'> torch.Size([8, 1])\n",
      "tensor([[-13.7274],\n",
      "        [-14.9575],\n",
      "        [-14.3291],\n",
      "        [-13.9646],\n",
      "        [-13.9843],\n",
      "        [-14.3054],\n",
      "        [-15.1549],\n",
      "        [-13.6744]])\n"
     ]
    }
   ],
   "source": [
    " for param in encoder.parameters():\n",
    "            print(type(param.data), param.size())\n",
    "            print(param.data)"
   ],
   "metadata": {
    "collapsed": false
   }
  },
  {
   "cell_type": "code",
   "execution_count": 17,
   "outputs": [
    {
     "name": "stdout",
     "output_type": "stream",
     "text": [
      "Power should always be one: tensor(1., dtype=torch.float64, grad_fn=<SumBackward0>)\n"
     ]
    },
    {
     "name": "stderr",
     "output_type": "stream",
     "text": [
      "/tmp/ipykernel_828852/4269678781.py:7: UserWarning: Matplotlib is currently using module://matplotlib_inline.backend_inline, which is a non-GUI backend, so cannot show the figure.\n",
      "  fig.show()\n"
     ]
    },
    {
     "data": {
      "text/plain": "<Figure size 432x288 with 1 Axes>",
      "image/png": "[encoded data removed]"
     },
     "metadata": {
      "needs_background": "light"
     },
     "output_type": "display_data"
    }
   ],
   "source": [
    "# Data for the plots\n",
    "p_s_t = F.softmax(encoder(enc_inp), dim=1)\n",
    "p_s = p_s_t.detach().numpy()[0]\n",
    "constellation = np.linspace(-chParam.M+1, chParam.M-1, num=chParam.M)\n",
    "constellation_t = torch.tensor(constellation, dtype=torch.float64)\n",
    "norm_factor = torch.rsqrt(utils.p_norm(p_s_t, constellation_t))\n",
    "norm_constellation = norm_factor * constellation_t\n",
    "print('Power should always be one:', utils.p_norm(p_s_t, norm_constellation))\n",
    "plot_PDF(constellation, p_s, chParam.SNR_db)"
   ],
   "metadata": {
    "collapsed": false
   }
  },
  {
   "cell_type": "code",
   "execution_count": 101,
   "outputs": [],
   "source": [],
   "metadata": {
    "collapsed": false
   }
  }
 ],
 "metadata": {
  "kernelspec": {
   "display_name": "Python 3",
   "language": "python",
   "name": "python3"
  },
  "language_info": {
   "codemirror_mode": {
    "name": "ipython",
    "version": 2
   },
   "file_extension": ".py",
   "mimetype": "text/x-python",
   "name": "python",
   "nbconvert_exporter": "python",
   "pygments_lexer": "ipython2",
   "version": "2.7.6"
  }
 },
 "nbformat": 4,
 "nbformat_minor": 0
}
