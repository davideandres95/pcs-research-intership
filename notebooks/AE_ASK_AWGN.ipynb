{
 "cells": [
  {
   "cell_type": "code",
   "execution_count": 1,
   "metadata": {
    "collapsed": true
   },
   "outputs": [],
   "source": [
    "# -*- coding: utf-8 -*-:\n",
    "import time\n",
    "\n",
    "import matplotlib.pyplot as plt\n",
    "import torch\n",
    "import torch.nn.functional as F\n",
    "import torch.nn as nn\n",
    "import torch.optim as optim\n",
    "import numpy as np"
   ]
  },
  {
   "cell_type": "code",
   "execution_count": 2,
   "outputs": [],
   "source": [
    "from pcs import tx\n",
    "from pcs import helper as hlp\n",
    "from pcs import utils\n",
    "from pcs import autoencoder as ae"
   ],
   "metadata": {
    "collapsed": false,
    "pycharm": {
     "name": "#%%\n"
    }
   }
  },
  {
   "cell_type": "markdown",
   "source": [
    "# Parameters"
   ],
   "metadata": {
    "collapsed": false,
    "pycharm": {
     "name": "#%% md\n"
    }
   }
  },
  {
   "cell_type": "code",
   "execution_count": 3,
   "outputs": [],
   "source": [
    "# Channel Parameters\n",
    "chParam = utils.AttrDict()\n",
    "chParam.M = 8\n",
    "chParam.SNR_db = 5\n",
    "\n",
    "# Auto-Encoder Parameters\n",
    "aeParam = utils.AttrDict()\n",
    "aeParam.nLayersEnc  = 1\n",
    "aeParam.nLayersDec  = 5\n",
    "aeParam.nFeaturesEnc  = 128\n",
    "aeParam.nFeaturesDec  = 128\n",
    "\n",
    "# Training Parameters\n",
    "trainingParam = utils.AttrDict()\n",
    "trainingParam.nBatches      = 16\n",
    "trainingParam.batchSize     = 64*chParam.M\n",
    "trainingParam.learningRate  = 0.01\n",
    "trainingParam.iterations    = 31\n",
    "trainingParam.displayStep   = 5"
   ],
   "metadata": {
    "collapsed": false,
    "pycharm": {
     "name": "#%%\n"
    }
   }
  },
  {
   "cell_type": "code",
   "execution_count": 4,
   "outputs": [],
   "source": [
    "enc_inp = torch.tensor([[1]], dtype=torch.float)\n",
    "# AWGN Capacity\n",
    "AWGN_Cap = 0.5 * np.log2(1 + hlp.dB2lin(chParam.SNR_db, 'dB'))"
   ],
   "metadata": {
    "collapsed": false,
    "pycharm": {
     "name": "#%%\n"
    }
   }
  },
  {
   "cell_type": "markdown",
   "source": [
    "# Experiments"
   ],
   "metadata": {
    "collapsed": false
   }
  },
  {
   "cell_type": "code",
   "execution_count": 5,
   "outputs": [],
   "source": [
    "def p_norm(p, x, fun=lambda x: torch.pow(torch.abs(x), 2)):\n",
    "    return torch.sum(p * fun(x))"
   ],
   "metadata": {
    "collapsed": false,
    "pycharm": {
     "name": "#%%\n"
    }
   }
  },
  {
   "cell_type": "code",
   "execution_count": 6,
   "outputs": [],
   "source": [
    "indices = np.random.choice(chParam.M,1)\n",
    "onehot = F.one_hot(torch.tensor(indices, dtype=torch.int64), chParam.M)\n",
    "P_M = torch.tensor(np.ones(chParam.M)*1/chParam.M)\n",
    "norm_constellation = np.array([[-1.6953, -1.4693, -1.2432, -1.0172, -0.7912, -0.5651, -0.3391, -0.1130,\n",
    "         0.1130,  0.3391,  0.5651,  0.7912,  1.0172,  1.2432,  1.4693,  1.6953]]).transpose()\n",
    "x = np.matmul(onehot, torch.tensor(norm_constellation))"
   ],
   "metadata": {
    "collapsed": false,
    "pycharm": {
     "name": "#%%\n"
    }
   }
  },
  {
   "cell_type": "code",
   "execution_count": 7,
   "outputs": [],
   "source": [
    "noise = torch.randn(1).reshape(-1, 1)\n",
    "sigma2 = torch.tensor(1) / hlp.dB2lin(chParam.SNR_db, 'dB')  # 1 corresponds to the Power\n",
    "noise = torch.sqrt(sigma2) * noise\n",
    "y = torch.add(x, noise)"
   ],
   "metadata": {
    "collapsed": false,
    "pycharm": {
     "name": "#%%\n"
    }
   }
  },
  {
   "cell_type": "code",
   "execution_count": 8,
   "outputs": [],
   "source": [
    "N0 = torch.mean(torch.square(torch.abs(x - y)))\n",
    "\n",
    "qY = []\n",
    "\n",
    "qYonX = (1 / torch.sqrt(torch.tensor(2) * torch.pi * N0)) * torch.exp( -torch.square(y - x) / (torch.tensor(2) * N0))\n",
    "\n",
    "for ii in np.arange(chParam.M):\n",
    "    temp = P_M[ii] * (1 / torch.sqrt(torch.tensor(2) * torch.pi * N0)) * torch.exp(-torch.square( y - norm_constellation[ii]) / (torch.tensor(2) * N0 ))\n",
    "    qY.append(temp)\n",
    "\n",
    "qY = torch.sum(torch.cat(qY, dim=0), dim=0)\n",
    "\n",
    "qXonY = P_M[indices] * qYonX / qY\n",
    "\n",
    "HX = -p_norm(P_M, P_M, lambda x: torch.log2(x))\n",
    "\n",
    "MI = HX - torch.mean(-torch.log2(qXonY))\n"
   ],
   "metadata": {
    "collapsed": false,
    "pycharm": {
     "name": "#%%\n"
    }
   }
  },
  {
   "cell_type": "code",
   "execution_count": 254,
   "outputs": [
    {
     "name": "stdout",
     "output_type": "stream",
     "text": [
      "tensor([-1.4949, -1.0678, -0.6407, -0.2136,  0.2136,  0.6407,  1.0678,  1.4949],\n",
      "       grad_fn=<MvBackward0>)\n"
     ]
    }
   ],
   "source": [
    "constellation = np.linspace(-chParam.M+1, chParam.M-1, num=chParam.M)\n",
    "constellation_t = torch.tensor(constellation, dtype=torch.float)\n",
    "norm_factor = torch.rsqrt(utils.p_norm(P_M, constellation_t))\n",
    "norm_constellation = torch.mul(constellation_t, norm_factor)\n",
    "x = torch.matmul(F.one_hot(torch.arange(chParam.M), chParam.M).type(torch.FloatTensor), norm_constellation)\n",
    "\n",
    "print(x)"
   ],
   "metadata": {
    "collapsed": false,
    "pycharm": {
     "name": "#%%\n"
    }
   }
  },
  {
   "cell_type": "markdown",
   "source": [
    "# Implementation"
   ],
   "metadata": {
    "collapsed": false
   }
  },
  {
   "cell_type": "code",
   "execution_count": 5,
   "outputs": [],
   "source": [
    "def sampler(P_M, B):\n",
    "    samples = torch.empty(0)\n",
    "    for idx, p in enumerate(P_M):\n",
    "        occurrences = torch.round(B * p).type(torch.LongTensor)\n",
    "        samples = torch.cat((samples, torch.ones(occurrences, dtype=torch.int64) * torch.tensor(idx)))\n",
    "    indexes = torch.randperm(samples.shape[0])\n",
    "    return samples[indexes]"
   ],
   "metadata": {
    "collapsed": false,
    "pycharm": {
     "name": "#%%\n"
    }
   }
  },
  {
   "cell_type": "code",
   "execution_count": 6,
   "outputs": [],
   "source": [
    "def calculate_py_given_x(z, sig2):\n",
    "     return (1 / (torch.sqrt(2 * torch.pi * sig2))) * torch.exp(-torch.square(z) / (sig2 * torch.tensor(2)))"
   ],
   "metadata": {
    "collapsed": false,
    "pycharm": {
     "name": "#%%\n"
    }
   }
  },
  {
   "cell_type": "code",
   "execution_count": 6,
   "outputs": [],
   "source": [],
   "metadata": {
    "collapsed": false,
    "pycharm": {
     "name": "#%%\n"
    }
   }
  },
  {
   "cell_type": "code",
   "execution_count": 7,
   "outputs": [],
   "source": [
    "def calculate_px_given_y(x, y, sigma2, chi):\n",
    "    py = 0\n",
    "    for i in chi:\n",
    "        py += 0.25 * calculate_py_given_x(i, y, sigma2)\n",
    "    pxy = 0.25 * calculate_py_given_x(x, y, sigma2) / py\n",
    "    return pxy"
   ],
   "metadata": {
    "collapsed": false,
    "pycharm": {
     "name": "#%%\n"
    }
   }
  },
  {
   "cell_type": "code",
   "execution_count": 8,
   "outputs": [],
   "source": [
    "def generate_AWGN(x_shape, SNR_db):\n",
    "    noise = torch.randn(x_shape)\n",
    "    sigma2 = torch.tensor(1) / hlp.dB2lin(SNR_db, 'dB')  # 1 corresponds to the Power\n",
    "    noise = torch.sqrt(sigma2) * noise\n",
    "    noise_power = torch.mean(torch.square(torch.abs(noise)))\n",
    "    return noise, sigma2, noise_power"
   ],
   "metadata": {
    "collapsed": false,
    "pycharm": {
     "name": "#%%\n"
    }
   }
  },
  {
   "cell_type": "code",
   "execution_count": 9,
   "outputs": [],
   "source": [
    "def plot_PDF( ask, pmf, db):\n",
    "    fig = plt.figure()\n",
    "    ax = fig.add_axes([0,0,1,1])\n",
    "    ax.bar(ask, pmf)\n",
    "    ax.set_title(f'SNR = {db} dB')\n",
    "    ax.grid()\n",
    "    fig.show()"
   ],
   "metadata": {
    "collapsed": false,
    "pycharm": {
     "name": "#%%\n"
    }
   }
  },
  {
   "cell_type": "code",
   "execution_count": 31,
   "outputs": [],
   "source": [
    "# Initialize network\n",
    "# encoder = ae.Encoder_Aref(in_features=1, width=aeParam.nFeaturesEnc, out_features=chParam.M)\n",
    "encoder = ae.Encoder_Aref_single_layer(in_features=1, out_features=chParam.M, bias=False)\n",
    "decoder = ae.Decoder_Aref(in_features=1, width=aeParam.nFeaturesDec, out_features=chParam.M)\n",
    "CEloss = nn.CrossEntropyLoss()"
   ],
   "metadata": {
    "collapsed": false,
    "pycharm": {
     "name": "#%%\n"
    }
   }
  },
  {
   "cell_type": "code",
   "execution_count": 32,
   "outputs": [],
   "source": [
    "# Optimizer\n",
    "optimizer = optim.Adam(list(encoder.parameters()) + list(decoder.parameters()), lr=trainingParam.learningRate)"
   ],
   "metadata": {
    "collapsed": false,
    "pycharm": {
     "name": "#%%\n"
    }
   }
  },
  {
   "cell_type": "code",
   "execution_count": 33,
   "outputs": [
    {
     "name": "stderr",
     "output_type": "stream",
     "text": [
      "C:\\Users\\David\\AppData\\Local\\Temp/ipykernel_4952/4269678781.py:7: UserWarning: Matplotlib is currently using module://matplotlib_inline.backend_inline, which is a non-GUI backend, so cannot show the figure.\n",
      "  fig.show()\n"
     ]
    },
    {
     "name": "stdout",
     "output_type": "stream",
     "text": [
      "tensor(1., grad_fn=<SumBackward0>)\n"
     ]
    },
    {
     "data": {
      "text/plain": "<Figure size 432x288 with 1 Axes>",
      "image/png": "[encoded data removed]"
     },
     "metadata": {
      "needs_background": "light"
     },
     "output_type": "display_data"
    }
   ],
   "source": [
    "p_s_t = F.softmax(encoder(enc_inp), dim=1)\n",
    "p_s = p_s_t.detach().numpy()[0]\n",
    "constellation = np.linspace(-chParam.M+1, chParam.M-1, num=chParam.M)\n",
    "plot_PDF(constellation, p_s, chParam.SNR_db)\n",
    "print(torch.sum(p_s_t))"
   ],
   "metadata": {
    "collapsed": false,
    "pycharm": {
     "name": "#%%\n"
    }
   }
  },
  {
   "cell_type": "code",
   "execution_count": 34,
   "outputs": [
    {
     "name": "stdout",
     "output_type": "stream",
     "text": [
      "epoch 0: Loss = 2.0723 - always 1: 1.0 - MI: 0.9634 - Cap.: 1.0287\n",
      "epoch 5: Loss = 2.0881 - always 1: 1.0 - MI: 0.9214 - Cap.: 1.0287\n",
      "epoch 10: Loss = 2.0343 - always 1: 1.0 - MI: 0.9732 - Cap.: 1.0287\n",
      "epoch 15: Loss = 1.9610 - always 1: 1.0 - MI: 1.0583 - Cap.: 1.0287\n",
      "epoch 20: Loss = 2.0487 - always 1: 1.0 - MI: 0.9620 - Cap.: 1.0287\n",
      "epoch 25: Loss = 2.0218 - always 1: 1.0 - MI: 0.9903 - Cap.: 1.0287\n",
      "epoch 30: Loss = 2.0627 - always 1: 1.0 - MI: 0.9553 - Cap.: 1.0287\n"
     ]
    }
   ],
   "source": [
    "def loss_correction_factor(dec, zhat, sig2): # Initial loss function. \"Worked\" together with the complex encoder\n",
    "     q = torch.amax(dec, 1)  # Q(c_i|Y_n) <-- learned\n",
    "     p = calculate_py_given_x(zhat, sig2) # P(Y_n|c_i)\n",
    "     return torch.sum(p * torch.log(q))\n",
    "\n",
    "def loss_correction_factor_2(dec, zhat, sig2): #first attempt to get M different factors. But the P(Y_n|c_i) is not correct\n",
    "     q = torch.transpose(dec, 0, 1) # Q(c_i|Y_n) <-- learned, dec is (1025, 16)\n",
    "     p = calculate_py_given_x(zhat, sig2) # P(Y_n|c_i)\n",
    "     factor = torch.sum(p * torch.log(q), dim=1)\n",
    "     return torch.reshape(factor, (-1, 1))\n",
    "\n",
    "def loss_correction_factor_3(dec): # Just averaging over the Yn the output probabilities. Loosing the information of which one is correct\n",
    "    factor = torch.mean(torch.log(dec), dim=0)\n",
    "    return torch.reshape(factor, (-1, 1))\n",
    "\n",
    "def loss_correction_factor_4(dec, z_all, sig2): # right implementation if we want to use the AWGN P(Y_n|c_i) and obtain M factors.\n",
    "     p = calculate_py_given_x(z_all, sig2) # P(Y_n|c_i)\n",
    "     factor = torch.sum(torch.mul(p,torch.log(dec)), dim=0)  # dec =  Q(c_i|Y_n)\n",
    "     return torch.reshape(factor, (-1, 1))\n",
    "\n",
    "def loss_correction_factor_5(dec): # like 1 but without using P(Y_n|c_i). Averaging the M values\n",
    "    q = torch.amax(dec, 1)\n",
    "    factor = torch.mean(torch.log(q), dim=0)\n",
    "    return factor\n",
    "\n",
    "# Training loop\n",
    "for j in range(trainingParam.iterations):\n",
    "    for i in range(trainingParam.nBatches):\n",
    "        # first generate the distribution\n",
    "        l_M = encoder(enc_inp)\n",
    "        P_M = F.softmax(l_M, dim=1)\n",
    "        d_H = torch.reshape(-torch.log(P_M * torch.e), (-1, 1))\n",
    "        # d_H = torch.mean(-torch.log(P_M * torch.e))\n",
    "\n",
    "\n",
    "        # Sample indexes\n",
    "        indices = sampler(torch.squeeze(P_M), trainingParam.batchSize).type(torch.LongTensor)  # labels\n",
    "        # get onehot from sampled indices\n",
    "        onehot = F.one_hot(indices, chParam.M)\n",
    "\n",
    "\n",
    "        # normalization & Modulation\n",
    "        constellation = np.linspace(-chParam.M+1, chParam.M-1, num=chParam.M)\n",
    "        constellation_t = torch.tensor(constellation, dtype=torch.float)\n",
    "        norm_factor = torch.rsqrt(utils.p_norm(P_M, constellation_t))\n",
    "        norm_constellation = torch.mul(constellation_t, norm_factor)\n",
    "        x = torch.matmul(onehot.type(torch.FloatTensor), norm_constellation)\n",
    "        x_all = torch.matmul(F.one_hot(torch.arange(chParam.M), chParam.M).type(torch.FloatTensor), norm_constellation)\n",
    "        should_always_be_one = utils.p_norm(P_M, norm_constellation)\n",
    "\n",
    "        # Channel\n",
    "        noise_snr, sigma2, noise_power = generate_AWGN(x.shape, chParam.SNR_db)\n",
    "        y = torch.add(x, noise_snr)\n",
    "        y_power = utils.p_norm(P_M, torch.add(norm_constellation, generate_AWGN(norm_constellation.shape, chParam.SNR_db)[0] ))\n",
    "\n",
    "        # demodulator\n",
    "        y_vec = torch.reshape(y, (-1, 1))\n",
    "        dec = decoder(y_vec)\n",
    "\n",
    "\n",
    "        # loss\n",
    "        #zhat = torch.sub(y, x)\n",
    "        z_all = torch.abs(y.reshape(-1,1) - x_all.reshape(1, -1))\n",
    "        loss = CEloss(dec, onehot.type(torch.float))\n",
    "        #factor = loss_correction_factor(F.softmax(dec, 1), zhat, sigma2)\n",
    "        # factor = loss_correction_factor_2(F.softmax(dec, 1), zhat, sigma2)\n",
    "        # factor = loss_correction_factor_3(F.softmax(dec, 1))\n",
    "        factor = loss_correction_factor_4(F.softmax(dec, 1), z_all, sigma2)\n",
    "        # factor = loss_correction_factor_5(F.softmax(dec, 1))\n",
    "\n",
    "        optimizer.zero_grad()\n",
    "        loss.backward()\n",
    "\n",
    "        # for param in encoder.parameters():\n",
    "        #     print(type(param.data), param.size())\n",
    "        #     print(param.data)\n",
    "\n",
    "        # for w in encoder.parameters():\n",
    "        #     w.grad += (d_H + factor)\n",
    "\n",
    "\n",
    "        for name, param in encoder.named_parameters():\n",
    "            if 'weight' in name:\n",
    "                param.grad += d_H #change the sign\n",
    "                param.grad += factor\n",
    "\n",
    "        optimizer.step()\n",
    "\n",
    "        MI = utils.gaussianMI_ASK_Non_Uniform(indices, x, y, norm_constellation, chParam.M, P_M, dtype=torch.double).detach().numpy()\n",
    "\n",
    "    # Printout and visualization\n",
    "    if j % int(trainingParam.displayStep) == 0:\n",
    "        print(f'epoch {j}: Loss = {loss.detach().numpy() / np.log(2) :.4f} - always 1: {should_always_be_one :.2} - MI: {MI :.4f} - Cap.: {AWGN_Cap:.4f}')\n"
   ],
   "metadata": {
    "collapsed": false,
    "pycharm": {
     "name": "#%%\n"
    }
   }
  },
  {
   "cell_type": "code",
   "execution_count": 35,
   "outputs": [
    {
     "name": "stdout",
     "output_type": "stream",
     "text": [
      "<class 'torch.Tensor'> torch.Size([8, 1])\n",
      "tensor([[4.9665],\n",
      "        [4.9666],\n",
      "        [4.9666],\n",
      "        [4.9666],\n",
      "        [4.9666],\n",
      "        [4.9666],\n",
      "        [4.9666],\n",
      "        [4.9665]])\n"
     ]
    }
   ],
   "source": [
    " for param in encoder.parameters():\n",
    "            print(type(param.data), param.size())\n",
    "            print(param.data)"
   ],
   "metadata": {
    "collapsed": false,
    "pycharm": {
     "name": "#%%\n"
    }
   }
  },
  {
   "cell_type": "code",
   "execution_count": 36,
   "outputs": [
    {
     "name": "stdout",
     "output_type": "stream",
     "text": [
      "Power should always be one: tensor(1., dtype=torch.float64, grad_fn=<SumBackward0>)\n"
     ]
    },
    {
     "name": "stderr",
     "output_type": "stream",
     "text": [
      "C:\\Users\\David\\AppData\\Local\\Temp/ipykernel_4952/4269678781.py:7: UserWarning: Matplotlib is currently using module://matplotlib_inline.backend_inline, which is a non-GUI backend, so cannot show the figure.\n",
      "  fig.show()\n"
     ]
    },
    {
     "data": {
      "text/plain": "<Figure size 432x288 with 1 Axes>",
      "image/png": "[encoded data removed]"
     },
     "metadata": {
      "needs_background": "light"
     },
     "output_type": "display_data"
    }
   ],
   "source": [
    "# Data for the plots\n",
    "p_s_t = F.softmax(encoder(enc_inp), dim=1)\n",
    "p_s = p_s_t.detach().numpy()[0]\n",
    "constellation = np.linspace(-chParam.M+1, chParam.M-1, num=chParam.M)\n",
    "constellation_t = torch.tensor(constellation, dtype=torch.float64)\n",
    "norm_factor = torch.rsqrt(utils.p_norm(p_s_t, constellation_t))\n",
    "norm_constellation = norm_factor * constellation_t\n",
    "print('Power should always be one:', utils.p_norm(p_s_t, norm_constellation))\n",
    "plot_PDF(constellation, p_s, chParam.SNR_db)"
   ],
   "metadata": {
    "collapsed": false,
    "pycharm": {
     "name": "#%%\n"
    }
   }
  },
  {
   "cell_type": "code",
   "execution_count": 101,
   "outputs": [],
   "source": [],
   "metadata": {
    "collapsed": false,
    "pycharm": {
     "name": "#%%\n"
    }
   }
  }
 ],
 "metadata": {
  "kernelspec": {
   "display_name": "Python 3",
   "language": "python",
   "name": "python3"
  },
  "language_info": {
   "codemirror_mode": {
    "name": "ipython",
    "version": 2
   },
   "file_extension": ".py",
   "mimetype": "text/x-python",
   "name": "python",
   "nbconvert_exporter": "python",
   "pygments_lexer": "ipython2",
   "version": "2.7.6"
  }
 },
 "nbformat": 4,
 "nbformat_minor": 0
}