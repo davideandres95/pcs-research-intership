{
 "cells": [
  {
   "cell_type": "code",
   "execution_count": 2,
   "id": "e3dd0037",
   "metadata": {},
   "outputs": [],
   "source": [
    "import matplotlib.pyplot as plt\n",
    "import torch\n",
    "import torch.distributions as torch_d\n",
    "import torch.nn.functional as F\n",
    "import torch.nn as nn\n",
    "import torch.optim as optim\n",
    "import numpy as np\n",
    "\n",
    "from pcs import tx\n",
    "from pcs import helper as hlp\n",
    "from pcs import utils\n",
    "from pcs import autoencoder as ae"
   ]
  },
  {
   "cell_type": "markdown",
   "id": "65c61ec6",
   "metadata": {
    "pycharm": {
     "name": "#%% md\n"
    }
   },
   "source": [
    "# Parameters"
   ]
  },
  {
   "cell_type": "code",
   "execution_count": 3,
   "id": "2d396a93",
   "metadata": {
    "pycharm": {
     "name": "#%%\n"
    }
   },
   "outputs": [
    {
     "ename": "NameError",
     "evalue": "name 'utils' is not defined",
     "output_type": "error",
     "traceback": [
      "\u001B[1;31m---------------------------------------------------------------------------\u001B[0m",
      "\u001B[1;31mNameError\u001B[0m                                 Traceback (most recent call last)",
      "\u001B[1;32m~\\AppData\\Local\\Temp/ipykernel_18124/3551230402.py\u001B[0m in \u001B[0;36m<module>\u001B[1;34m\u001B[0m\n\u001B[0;32m      1\u001B[0m \u001B[1;31m# Channel Parameters\u001B[0m\u001B[1;33m\u001B[0m\u001B[1;33m\u001B[0m\u001B[0m\n\u001B[1;32m----> 2\u001B[1;33m \u001B[0mchParam\u001B[0m \u001B[1;33m=\u001B[0m \u001B[0mutils\u001B[0m\u001B[1;33m.\u001B[0m\u001B[0mAttrDict\u001B[0m\u001B[1;33m(\u001B[0m\u001B[1;33m)\u001B[0m\u001B[1;33m\u001B[0m\u001B[1;33m\u001B[0m\u001B[0m\n\u001B[0m\u001B[0;32m      3\u001B[0m \u001B[0mchParam\u001B[0m\u001B[1;33m.\u001B[0m\u001B[0mM\u001B[0m \u001B[1;33m=\u001B[0m \u001B[1;36m64\u001B[0m\u001B[1;33m\u001B[0m\u001B[1;33m\u001B[0m\u001B[0m\n\u001B[0;32m      4\u001B[0m \u001B[1;31m# chParam.SNR_db = [5, 12 ]\u001B[0m\u001B[1;33m\u001B[0m\u001B[1;33m\u001B[0m\u001B[0m\n\u001B[0;32m      5\u001B[0m \u001B[0mchParam\u001B[0m\u001B[1;33m.\u001B[0m\u001B[0mSNR_db\u001B[0m \u001B[1;33m=\u001B[0m \u001B[1;33m[\u001B[0m\u001B[1;36m0.5\u001B[0m\u001B[1;33m,\u001B[0m \u001B[1;36m1\u001B[0m\u001B[1;33m,\u001B[0m \u001B[1;36m3\u001B[0m\u001B[1;33m,\u001B[0m \u001B[1;36m5\u001B[0m\u001B[1;33m,\u001B[0m \u001B[1;36m7\u001B[0m\u001B[1;33m,\u001B[0m \u001B[1;36m12\u001B[0m\u001B[1;33m,\u001B[0m \u001B[1;36m30\u001B[0m\u001B[1;33m]\u001B[0m\u001B[1;33m\u001B[0m\u001B[1;33m\u001B[0m\u001B[0m\n",
      "\u001B[1;31mNameError\u001B[0m: name 'utils' is not defined"
     ]
    }
   ],
   "source": [
    "# Channel Parameters\n",
    "chParam = utils.AttrDict()\n",
    "chParam.M = 64\n",
    "# chParam.SNR_db = [5, 12 ]\n",
    "chParam.SNR_db = [0.5, 1, 3, 5, 7, 12, 30]\n",
    "\n",
    "# Auto-Encoder Parameters\n",
    "aeParam = utils.AttrDict()\n",
    "aeParam.nLayersEnc  = 1\n",
    "aeParam.nLayersDec  = 5\n",
    "aeParam.nFeaturesEnc  = 128\n",
    "aeParam.nFeaturesDec  = 128\n",
    "\n",
    "# Training Parameters\n",
    "trainingParam = utils.AttrDict()\n",
    "trainingParam.nBatches      = 16\n",
    "trainingParam.batchSize     = 128*chParam.M\n",
    "trainingParam.learningRate  = 0.0001\n",
    "trainingParam.iterations    = 31\n",
    "trainingParam.displayStep   = 5"
   ]
  },
  {
   "cell_type": "markdown",
   "id": "413867d9",
   "metadata": {
    "pycharm": {
     "name": "#%% md\n"
    }
   },
   "source": [
    "## Helper Functions"
   ]
  },
  {
   "cell_type": "code",
   "execution_count": 23,
   "id": "2a2aaa12",
   "metadata": {},
   "outputs": [],
   "source": [
    "def p_norm(p, x, fun=lambda x: torch.pow(torch.abs(x), 2)):\n",
    "    return torch.sum(p * fun(x))"
   ]
  },
  {
   "cell_type": "code",
   "execution_count": 24,
   "id": "2698c61c",
   "metadata": {},
   "outputs": [],
   "source": [
    "def sampler(P_M, B):\n",
    "    samples = np.zeros((np.sum(np.rint(B*P_M).astype(int)), 0))\n",
    "    total_occurrences = np.sum(np.rint(B * P_M).astype(int))\n",
    "    for idx, p in enumerate(P_M):\n",
    "        occurrences = np.rint(B*p).astype(int)\n",
    "        samples = np.append(samples, np.ones(occurrences)*(idx))\n",
    "    np.random.shuffle(samples)\n",
    "    return samples"
   ]
  },
  {
   "cell_type": "code",
   "execution_count": 25,
   "id": "b865b935",
   "metadata": {
    "pycharm": {
     "name": "#%%\n"
    }
   },
   "outputs": [],
   "source": [
    "def sampler_t(P_M, B):\n",
    "    samples = torch.empty(0)\n",
    "    for idx, p in enumerate(P_M):\n",
    "        occurrences = torch.round(B*p).type(torch.LongTensor)\n",
    "        samples = torch.cat((samples, torch.ones(occurrences, dtype=torch.int64)*torch.tensor(idx)))\n",
    "    indexes = torch.randperm(samples.shape[0])\n",
    "    return samples[indexes]"
   ]
  },
  {
   "cell_type": "code",
   "execution_count": 26,
   "id": "dc23eeac",
   "metadata": {},
   "outputs": [],
   "source": [
    "def calculate_py_given_x(z, sig2):\n",
    "    return (1 / (torch.sqrt(2 * torch.pi * sig2))) * torch.exp(-torch.square(z) / (sig2 * torch.tensor(2)))"
   ]
  },
  {
   "cell_type": "markdown",
   "id": "ecd00409",
   "metadata": {
    "pycharm": {
     "name": "#%% md\n"
    }
   },
   "source": [
    "## Loss Function\n",
    "The Cross Equivocation must be corrected with an additional term to account for the changing statistics of the information source:\n",
    "$$CE_{loss} + \\sum \\limits_{Y_{n}} P(Y_{n}|c_{i})log_{2}(Q_{\\theta,P_{M},C_{M}}(c_{m}|Y_{n})$$\n",
    "Regarding the prior term, the complex representation is reduced from (N,2) to N by means of multiplication. This is because we have a complex AWGN where the Noise is circularly symmetric.\n",
    "This means:\n",
    "$$P(Y_{R}Y_{I}|X_{R}X_{I}) = P(Y_{R}|X_{R})P(Y_{I}|_{R}X_{I})$$\n",
    "While the posterior term is computed from the learned distribution and taking the max."
   ]
  },
  {
   "cell_type": "code",
   "execution_count": 27,
   "id": "4758fcd4",
   "metadata": {
    "pycharm": {
     "name": "#%%\n"
    }
   },
   "outputs": [],
   "source": [
    "# CE loss function and correct with additional term\n",
    "def loss_correction_factor(dec, zhat, sig2):\n",
    "    q = torch.amax(dec, 1)  # Q(c_i|Y_n) <-- learned\n",
    "    p = torch.prod(calculate_py_given_x(zhat, sig2), 1)  # P(Y_n|c_i)\n",
    "    return torch.mean(p * torch.log2(q))"
   ]
  },
  {
   "cell_type": "code",
   "execution_count": 28,
   "id": "eef05b6c",
   "metadata": {
    "pycharm": {
     "name": "#%%\n"
    }
   },
   "outputs": [],
   "source": [
    "def r2c(x):\n",
    "    #a = torch.tensor(x, dtype=torch.double)\n",
    "    return x.type(torch.complex64)"
   ]
  },
  {
   "cell_type": "code",
   "execution_count": 29,
   "id": "d2d938f0",
   "metadata": {
    "pycharm": {
     "name": "#%%\n"
    }
   },
   "outputs": [],
   "source": [
    "def plot_2D_PDF(const, pmf, db):\n",
    "    s = pmf * 400\n",
    "    plt.figure(figsize=(5, 5))\n",
    "    plt.scatter(const.real, const.imag, s, c=\"r\")\n",
    "    plt.title(f'SNR = {db} dB')\n",
    "    plt.grid()\n",
    "    plt.show()"
   ]
  },
  {
   "cell_type": "markdown",
   "id": "6a3673fd",
   "metadata": {
    "pycharm": {
     "name": "#%% md\n"
    }
   },
   "source": [
    "## Training Loop"
   ]
  },
  {
   "cell_type": "code",
   "execution_count": 30,
   "id": "af5e07fc",
   "metadata": {
    "pycharm": {
     "name": "#%%\n"
    }
   },
   "outputs": [
    {
     "name": "stdout",
     "output_type": "stream",
     "text": [
      "---SNR = 0.5 dB---\n",
      "epoch 0: Loss = 4.9831 - always 1: 1.0 - MI: 1.0600 - Cap.: 1.0854\n",
      "epoch 5: Loss = 4.8386 - always 1: 1.0 - MI: 1.0690 - Cap.: 1.0854\n",
      "epoch 10: Loss = 3.7978 - always 1: 1.0 - MI: 1.0822 - Cap.: 1.0854\n",
      "epoch 15: Loss = 2.9095 - always 1: 1.0 - MI: 1.0811 - Cap.: 1.0854\n",
      "epoch 20: Loss = 2.3534 - always 1: 1.0 - MI: 1.0666 - Cap.: 1.0854\n"
     ]
    },
    {
     "ename": "RuntimeError",
     "evalue": "shape '[64]' is invalid for input of size 63",
     "output_type": "error",
     "traceback": [
      "\u001B[1;31m---------------------------------------------------------------------------\u001B[0m",
      "\u001B[1;31mRuntimeError\u001B[0m                              Traceback (most recent call last)",
      "\u001B[1;32m~\\AppData\\Local\\Temp/ipykernel_11328/1596859911.py\u001B[0m in \u001B[0;36m<module>\u001B[1;34m\u001B[0m\n\u001B[0;32m     55\u001B[0m             \u001B[0moptimizer\u001B[0m\u001B[1;33m.\u001B[0m\u001B[0mstep\u001B[0m\u001B[1;33m(\u001B[0m\u001B[1;33m)\u001B[0m\u001B[1;33m\u001B[0m\u001B[1;33m\u001B[0m\u001B[0m\n\u001B[0;32m     56\u001B[0m \u001B[1;33m\u001B[0m\u001B[0m\n\u001B[1;32m---> 57\u001B[1;33m             \u001B[0mMI\u001B[0m \u001B[1;33m=\u001B[0m \u001B[0mutils\u001B[0m\u001B[1;33m.\u001B[0m\u001B[0mgaussianMI\u001B[0m\u001B[1;33m(\u001B[0m\u001B[0mx\u001B[0m\u001B[1;33m,\u001B[0m \u001B[0my\u001B[0m\u001B[1;33m,\u001B[0m \u001B[0mnorm_constellation\u001B[0m\u001B[1;33m,\u001B[0m \u001B[0mchParam\u001B[0m\u001B[1;33m.\u001B[0m\u001B[0mM\u001B[0m\u001B[1;33m,\u001B[0m \u001B[0mdtype\u001B[0m\u001B[1;33m=\u001B[0m\u001B[0mtorch\u001B[0m\u001B[1;33m.\u001B[0m\u001B[0mdouble\u001B[0m\u001B[1;33m)\u001B[0m\u001B[1;33m.\u001B[0m\u001B[0mdetach\u001B[0m\u001B[1;33m(\u001B[0m\u001B[1;33m)\u001B[0m\u001B[1;33m.\u001B[0m\u001B[0mnumpy\u001B[0m\u001B[1;33m(\u001B[0m\u001B[1;33m)\u001B[0m\u001B[1;33m\u001B[0m\u001B[1;33m\u001B[0m\u001B[0m\n\u001B[0m\u001B[0;32m     58\u001B[0m             \u001B[0mAWGN_Cap\u001B[0m \u001B[1;33m=\u001B[0m \u001B[0mnp\u001B[0m\u001B[1;33m.\u001B[0m\u001B[0mlog2\u001B[0m\u001B[1;33m(\u001B[0m\u001B[1;36m1\u001B[0m \u001B[1;33m+\u001B[0m \u001B[0mhlp\u001B[0m\u001B[1;33m.\u001B[0m\u001B[0mdB2lin\u001B[0m\u001B[1;33m(\u001B[0m\u001B[0mSNR_db\u001B[0m\u001B[1;33m,\u001B[0m \u001B[1;34m'dB'\u001B[0m\u001B[1;33m)\u001B[0m\u001B[1;33m)\u001B[0m\u001B[1;33m\u001B[0m\u001B[1;33m\u001B[0m\u001B[0m\n\u001B[0;32m     59\u001B[0m \u001B[1;33m\u001B[0m\u001B[0m\n",
      "\u001B[1;32m~\\PycharmProjects\\internship_pcs\\pcs_gumbel_softmax\\utils.py\u001B[0m in \u001B[0;36mgaussianMI\u001B[1;34m(x, y, constellation, M, dtype)\u001B[0m\n\u001B[0;32m    101\u001B[0m     \u001B[0mxint\u001B[0m \u001B[1;33m=\u001B[0m \u001B[0mtorch\u001B[0m\u001B[1;33m.\u001B[0m\u001B[0margmin\u001B[0m\u001B[1;33m(\u001B[0m\u001B[0mtorch\u001B[0m\u001B[1;33m.\u001B[0m\u001B[0msquare\u001B[0m\u001B[1;33m(\u001B[0m\u001B[0mtorch\u001B[0m\u001B[1;33m.\u001B[0m\u001B[0mabs\u001B[0m\u001B[1;33m(\u001B[0m\u001B[0mx\u001B[0m \u001B[1;33m-\u001B[0m \u001B[0mconstellation\u001B[0m\u001B[1;33m)\u001B[0m\u001B[1;33m)\u001B[0m\u001B[1;33m,\u001B[0m \u001B[0maxis\u001B[0m\u001B[1;33m=\u001B[0m\u001B[1;36m0\u001B[0m\u001B[1;33m)\u001B[0m\u001B[1;33m.\u001B[0m\u001B[0mtype\u001B[0m\u001B[1;33m(\u001B[0m\u001B[0mtorch\u001B[0m\u001B[1;33m.\u001B[0m\u001B[0mint32\u001B[0m\u001B[1;33m)\u001B[0m\u001B[1;33m\u001B[0m\u001B[1;33m\u001B[0m\u001B[0m\n\u001B[0;32m    102\u001B[0m     \u001B[0mx_count\u001B[0m \u001B[1;33m=\u001B[0m \u001B[0mtorch\u001B[0m\u001B[1;33m.\u001B[0m\u001B[0mbincount\u001B[0m\u001B[1;33m(\u001B[0m\u001B[0mxint\u001B[0m\u001B[1;33m)\u001B[0m\u001B[1;33m\u001B[0m\u001B[1;33m\u001B[0m\u001B[0m\n\u001B[1;32m--> 103\u001B[1;33m     \u001B[0mx_count\u001B[0m \u001B[1;33m=\u001B[0m \u001B[0mtorch\u001B[0m\u001B[1;33m.\u001B[0m\u001B[0mreshape\u001B[0m\u001B[1;33m(\u001B[0m\u001B[0mx_count\u001B[0m\u001B[1;33m,\u001B[0m \u001B[1;33m(\u001B[0m\u001B[0mM\u001B[0m\u001B[1;33m,\u001B[0m\u001B[1;33m)\u001B[0m\u001B[1;33m)\u001B[0m\u001B[1;33m\u001B[0m\u001B[1;33m\u001B[0m\u001B[0m\n\u001B[0m\u001B[0;32m    104\u001B[0m     \u001B[0mP_X\u001B[0m \u001B[1;33m=\u001B[0m \u001B[0mx_count\u001B[0m\u001B[1;33m.\u001B[0m\u001B[0mtype\u001B[0m\u001B[1;33m(\u001B[0m\u001B[0mtorch\u001B[0m\u001B[1;33m.\u001B[0m\u001B[0mfloat\u001B[0m\u001B[1;33m)\u001B[0m \u001B[1;33m/\u001B[0m \u001B[0mN\u001B[0m\u001B[1;33m\u001B[0m\u001B[1;33m\u001B[0m\u001B[0m\n\u001B[0;32m    105\u001B[0m \u001B[1;33m\u001B[0m\u001B[0m\n",
      "\u001B[1;31mRuntimeError\u001B[0m: shape '[64]' is invalid for input of size 63"
     ]
    }
   ],
   "source": [
    "enc_inp = torch.tensor([[1]], dtype=torch.float)\n",
    "\n",
    "for (k, SNR_db) in enumerate(chParam.SNR_db):\n",
    "    print(f'---SNR = {chParam.SNR_db[k]} dB---')\n",
    "\n",
    "    # Initialize network\n",
    "    encoder = ae.Encoder_Aref(in_features=1, width=aeParam.nFeaturesEnc, out_features=chParam.M)\n",
    "    decoder = ae.Decoder_Aref(in_features=2, width=aeParam.nFeaturesDec, out_features=chParam.M)\n",
    "    CEloss = nn.CrossEntropyLoss()\n",
    "\n",
    "    # Optimizer\n",
    "    optimizer = optim.Adam(list(encoder.parameters()) + list(decoder.parameters()), lr=trainingParam.learningRate)\n",
    "\n",
    "    # AWGN Capacity\n",
    "    AWGN_Cap = np.log2(1 + hlp.dB2lin(SNR_db, 'dB'))\n",
    "\n",
    "    # Training loop\n",
    "    for j in range(trainingParam.iterations):\n",
    "        for i in range (trainingParam.nBatches):\n",
    "            # first generate the distribution\n",
    "            l_M = encoder(enc_inp)\n",
    "            P_M = F.softmax(l_M, dim=1)\n",
    "\n",
    "            # Sample indexes\n",
    "            indices = sampler_t(torch.squeeze(P_M), trainingParam.batchSize) # labels\n",
    "            # get onehot from sampled indices\n",
    "            onehot = F.one_hot(indices.type(torch.LongTensor), 64)\n",
    "\n",
    "\n",
    "            # normalization & Modulation\n",
    "            constellation = tx.qammod(chParam.M)\n",
    "            constellation_t = torch.tensor(constellation, dtype=torch.cfloat)\n",
    "            norm_factor = torch.rsqrt(p_norm(P_M, constellation_t))\n",
    "            norm_constellation = torch.mul(constellation_t, r2c(norm_factor))\n",
    "            x = torch.matmul(r2c(onehot), torch.transpose(input=norm_constellation, dim0=0, dim1=1))\n",
    "            should_always_be_one = p_norm(P_M, norm_constellation)\n",
    "\n",
    "            # Channel\n",
    "            noise_cpx = torch.complex(torch.randn(x.shape), torch.randn(x.shape))\n",
    "            sigma2 = torch.tensor(1) / hlp.dB2lin(SNR_db, 'dB')  # 1 corresponds to the Power\n",
    "            noise_snr = r2c(torch.sqrt(sigma2)) * torch.rsqrt(torch.tensor(2)) * noise_cpx\n",
    "            # https://stats.stackexchange.com/questions/187491/why-standard-normal-samples-multiplied-by-sd-are-samples-from-a-normal-dist-with\n",
    "\n",
    "            y = torch.add(x, noise_snr)\n",
    "\n",
    "            # demodulator\n",
    "            y_vec = hlp.complex2real(torch.squeeze(y))\n",
    "            dec = decoder(y_vec)\n",
    "\n",
    "\n",
    "            # loss\n",
    "            zhat = (y_vec - hlp.complex2real(torch.squeeze(x)))\n",
    "            loss = CEloss(dec, onehot.type(torch.float))\n",
    "            loss_hat = loss + loss_correction_factor(F.softmax(dec, 1), zhat, sigma2)\n",
    "\n",
    "            optimizer.zero_grad()\n",
    "            loss_hat.backward()\n",
    "            optimizer.step()\n",
    "\n",
    "            MI = utils.gaussianMI(x, y, norm_constellation, chParam.M, dtype=torch.double).detach().numpy()\n",
    "\n",
    "\n",
    "        # Printout and visualization\n",
    "        if j % int(trainingParam.displayStep) == 0:\n",
    "            print(f'epoch {j}: Loss = {loss_hat.detach().numpy() / np.log(2) :.4f} - always 1: {should_always_be_one :.2} - MI: {MI :.4f} - Cap.: {AWGN_Cap:.4f}')\n",
    "        if loss < 1e-3:\n",
    "            break\n",
    "\n",
    "    # Data for the plots\n",
    "    p_s_t = F.softmax(encoder(enc_inp), dim=1)\n",
    "    p_s = p_s_t.detach().numpy()[0]\n",
    "    constellation = tx.qammod(chParam.M)\n",
    "    constellation_t = torch.tensor(constellation, dtype=torch.cfloat)\n",
    "    norm_factor = torch.rsqrt(p_norm(p_s_t, constellation_t))\n",
    "    norm_constellation = r2c(norm_factor) * constellation_t\n",
    "    #print(p_s)\n",
    "    print('Power should always be one:', p_norm(p_s_t, norm_constellation))\n",
    "    plot_2D_PDF(constellation, p_s, SNR_db)"
   ]
  },
  {
   "cell_type": "code",
   "execution_count": null,
   "id": "1c1cce98",
   "metadata": {
    "pycharm": {
     "name": "#%%\n"
    }
   },
   "outputs": [],
   "source": []
  }
 ],
 "metadata": {
  "kernelspec": {
   "display_name": "Python 3 (ipykernel)",
   "language": "python",
   "name": "python3"
  },
  "language_info": {
   "codemirror_mode": {
    "name": "ipython",
    "version": 3
   },
   "file_extension": ".py",
   "mimetype": "text/x-python",
   "name": "python",
   "nbconvert_exporter": "python",
   "pygments_lexer": "ipython3",
   "version": "3.10.0"
  }
 },
 "nbformat": 4,
 "nbformat_minor": 5
}