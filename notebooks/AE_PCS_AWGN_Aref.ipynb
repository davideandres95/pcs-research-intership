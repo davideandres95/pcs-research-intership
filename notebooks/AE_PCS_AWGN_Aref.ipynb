{
 "cells": [
  {
   "cell_type": "code",
   "execution_count": 1,
   "id": "e3dd0037",
   "metadata": {},
   "outputs": [],
   "source": [
    "import matplotlib.pyplot as plt\n",
    "import torch\n",
    "import torch.distributions as torch_d\n",
    "import torch.nn.functional as F\n",
    "import torch.nn as nn\n",
    "import torch.optim as optim\n",
    "import numpy as np\n",
    "\n",
    "from pcs_gumbel_softmax import tx\n",
    "from pcs_gumbel_softmax import helper as hlp\n",
    "from pcs_gumbel_softmax import utils\n",
    "from pcs_gumbel_softmax import autoencoder as ae"
   ]
  },
  {
   "cell_type": "markdown",
   "source": [
    "# Parameters"
   ],
   "metadata": {
    "collapsed": false,
    "pycharm": {
     "name": "#%% md\n"
    }
   }
  },
  {
   "cell_type": "code",
   "execution_count": 10,
   "outputs": [],
   "source": [
    "# Channel Parameters\n",
    "chParam = utils.AttrDict()\n",
    "chParam.M = 64\n",
    "# chParam.SNR_db = [5, 12, 18, 30]\n",
    "chParam.SNR_db = [0, 5, 12, 18, 30]\n",
    "\n",
    "# Auto-Encoder Parameters\n",
    "aeParam = utils.AttrDict()\n",
    "aeParam.temperature = 1\n",
    "aeParam.nLayersEnc  = 1\n",
    "aeParam.nLayersDec  = 2\n",
    "aeParam.nFeaturesEnc  = 256\n",
    "aeParam.nFeaturesDec  = 256\n",
    "\n",
    "# Training Parameters\n",
    "trainingParam = utils.AttrDict()\n",
    "trainingParam.nBatches      = 16\n",
    "trainingParam.batchSize     = 128*chParam.M\n",
    "trainingParam.learningRate  = 0.001\n",
    "trainingParam.iterations    = 31\n",
    "trainingParam.displayStep   = 5"
   ],
   "metadata": {
    "collapsed": false,
    "pycharm": {
     "name": "#%%\n"
    }
   }
  },
  {
   "cell_type": "markdown",
   "source": [
    "## Helper Functions"
   ],
   "metadata": {
    "collapsed": false,
    "pycharm": {
     "name": "#%% md\n"
    }
   }
  },
  {
   "cell_type": "code",
   "execution_count": 3,
   "id": "2a2aaa12",
   "metadata": {},
   "outputs": [],
   "source": [
    "def p_norm(p, x, fun=lambda x: torch.pow(torch.abs(x), 2)):\n",
    "    return torch.sum(p * fun(x))"
   ]
  },
  {
   "cell_type": "code",
   "execution_count": 4,
   "id": "2698c61c",
   "metadata": {},
   "outputs": [],
   "source": [
    "def sampler(P_M, B):\n",
    "    samples = np.zeros((np.sum(np.rint(B*P_M).astype(int)), 0))\n",
    "    total_occurrences = np.sum(np.rint(B * P_M).astype(int))\n",
    "    for idx, p in enumerate(P_M):\n",
    "        occurrences = np.rint(B*p).astype(int)\n",
    "        samples = np.append(samples, np.ones(occurrences)*(idx))\n",
    "    np.random.shuffle(samples)\n",
    "    return samples.astype(int)"
   ]
  },
  {
   "cell_type": "code",
   "execution_count": 5,
   "id": "dc23eeac",
   "metadata": {},
   "outputs": [],
   "source": [
    "def calculate_py_given_x(z, sig2):\n",
    "    return (1 / (torch.sqrt(2 * torch.pi * sig2))) * torch.exp(-torch.square(z) / (sig2 * torch.tensor(2)))"
   ]
  },
  {
   "cell_type": "markdown",
   "source": [
    "## Loss Function\n",
    "The Cross Equivocation must be corrected with an additional term to account for the changing statistics of the information source:\n",
    "$$CE_{loss} + \\sum \\limits_{Y_{n}} P(Y_{n}|c_{i})log_{2}(Q_{\\theta,P_{M},C_{M}}(c_{m}|Y_{n})$$\n",
    "Regarding the prior term, the complex representation is reduced from (N,2) to N by means of multiplication. This is because we have a complex AWGN where the Noise is circularly symmetric.\n",
    "This means:\n",
    "$$P(Y_{R}Y_{I}|X_{R}X_{I}) = P(Y_{R}|X_{R})P(Y_{I}|_{R}X_{I})$$\n",
    "While the posterior term is computed from the learned distribution and taking the max."
   ],
   "metadata": {
    "collapsed": false,
    "pycharm": {
     "name": "#%% md\n"
    }
   }
  },
  {
   "cell_type": "code",
   "execution_count": 6,
   "outputs": [],
   "source": [
    "# CE loss function and correct with additional term\n",
    "def loss_correction_factor(dec, zhat, sig2):\n",
    "    q = torch.amax(dec, 1)  # Q(c_i|Y_n) <-- learned\n",
    "    p = torch.prod(calculate_py_given_x(zhat, sig2), 1)  # P(Y_n|c_i)\n",
    "    return torch.mean(p * torch.log2(q))"
   ],
   "metadata": {
    "collapsed": false,
    "pycharm": {
     "name": "#%%\n"
    }
   }
  },
  {
   "cell_type": "code",
   "execution_count": 7,
   "outputs": [],
   "source": [
    "def r2c(x):\n",
    "    #a = torch.tensor(x, dtype=torch.double)\n",
    "    return x.type(torch.complex64)"
   ],
   "metadata": {
    "collapsed": false,
    "pycharm": {
     "name": "#%%\n"
    }
   }
  },
  {
   "cell_type": "code",
   "execution_count": 8,
   "outputs": [],
   "source": [
    "def plot_2D_PDF(const, pmf, db):\n",
    "    s = pmf * 400\n",
    "    plt.figure(figsize=(3, 3))\n",
    "    plt.scatter(const.real, const.imag, s, c=\"r\")\n",
    "    plt.title(f'SNR = {db} dB')\n",
    "    plt.grid()\n",
    "    plt.show()"
   ],
   "metadata": {
    "collapsed": false,
    "pycharm": {
     "name": "#%%\n"
    }
   }
  },
  {
   "cell_type": "markdown",
   "source": [
    "## Training Loop"
   ],
   "metadata": {
    "collapsed": false,
    "pycharm": {
     "name": "#%% md\n"
    }
   }
  },
  {
   "cell_type": "code",
   "execution_count": 11,
   "outputs": [
    {
     "name": "stdout",
     "output_type": "stream",
     "text": [
      "---SNR = 0 dB---\n",
      "epoch 0: Loss = 6.0170 dB - always 1: 1.0\n",
      "epoch 5: Loss = 5.7706 dB - always 1: 1.0\n",
      "epoch 10: Loss = 5.5432 dB - always 1: 1.0\n",
      "epoch 15: Loss = 5.1841 dB - always 1: 1.0\n",
      "epoch 20: Loss = 4.6911 dB - always 1: 1.0\n",
      "epoch 25: Loss = 4.1584 dB - always 1: 1.0\n",
      "epoch 30: Loss = 3.5983 dB - always 1: 1.0\n",
      "Power should always be one: tensor(1.0000, grad_fn=<SumBackward0>)\n"
     ]
    },
    {
     "data": {
      "text/plain": "<Figure size 216x216 with 1 Axes>",
      "image/png": "[encoded data removed]"
     },
     "metadata": {
      "needs_background": "light"
     },
     "output_type": "display_data"
    },
    {
     "name": "stdout",
     "output_type": "stream",
     "text": [
      "---SNR = 5 dB---\n",
      "epoch 0: Loss = 5.9943 dB - always 1: 1.0\n",
      "epoch 5: Loss = 5.8465 dB - always 1: 1.0\n",
      "epoch 10: Loss = 5.7227 dB - always 1: 1.0\n",
      "epoch 15: Loss = 5.5921 dB - always 1: 1.0\n",
      "epoch 20: Loss = 5.4042 dB - always 1: 1.0\n",
      "epoch 25: Loss = 5.1288 dB - always 1: 1.0\n",
      "epoch 30: Loss = 4.7026 dB - always 1: 1.0\n",
      "Power should always be one: tensor(1., grad_fn=<SumBackward0>)\n"
     ]
    },
    {
     "data": {
      "text/plain": "<Figure size 216x216 with 1 Axes>",
      "image/png": "[encoded data removed]"
     },
     "metadata": {
      "needs_background": "light"
     },
     "output_type": "display_data"
    },
    {
     "name": "stdout",
     "output_type": "stream",
     "text": [
      "---SNR = 12 dB---\n",
      "epoch 0: Loss = 5.9898 dB - always 1: 1.0\n",
      "epoch 5: Loss = 5.9616 dB - always 1: 1.0\n",
      "epoch 10: Loss = 5.9593 dB - always 1: 1.0\n",
      "epoch 15: Loss = 5.9571 dB - always 1: 1.0\n",
      "epoch 20: Loss = 5.9664 dB - always 1: 1.0\n",
      "epoch 25: Loss = 5.9724 dB - always 1: 1.0\n",
      "epoch 30: Loss = 5.9743 dB - always 1: 1.0\n",
      "Power should always be one: tensor(1., grad_fn=<SumBackward0>)\n"
     ]
    },
    {
     "data": {
      "text/plain": "<Figure size 216x216 with 1 Axes>",
      "image/png": "[encoded data removed]"
     },
     "metadata": {
      "needs_background": "light"
     },
     "output_type": "display_data"
    },
    {
     "name": "stdout",
     "output_type": "stream",
     "text": [
      "---SNR = 18 dB---\n",
      "epoch 0: Loss = 5.9978 dB - always 1: 1.0\n",
      "epoch 5: Loss = 6.0071 dB - always 1: 1.0\n",
      "epoch 10: Loss = 6.0084 dB - always 1: 1.0\n",
      "epoch 15: Loss = 6.0035 dB - always 1: 1.0\n",
      "epoch 20: Loss = 6.0044 dB - always 1: 1.0\n",
      "epoch 25: Loss = 6.0001 dB - always 1: 1.0\n",
      "epoch 30: Loss = 5.9936 dB - always 1: 1.0\n",
      "Power should always be one: tensor(1.0000, grad_fn=<SumBackward0>)\n"
     ]
    },
    {
     "data": {
      "text/plain": "<Figure size 216x216 with 1 Axes>",
      "image/png": "[encoded data removed]"
     },
     "metadata": {
      "needs_background": "light"
     },
     "output_type": "display_data"
    },
    {
     "name": "stdout",
     "output_type": "stream",
     "text": [
      "---SNR = 30 dB---\n",
      "epoch 0: Loss = 5.9907 dB - always 1: 1.0\n",
      "epoch 5: Loss = 6.0274 dB - always 1: 1.0\n",
      "epoch 10: Loss = 6.0427 dB - always 1: 1.0\n",
      "epoch 15: Loss = 6.0456 dB - always 1: 1.0\n",
      "epoch 20: Loss = 6.0434 dB - always 1: 1.0\n",
      "epoch 25: Loss = 6.0374 dB - always 1: 1.0\n",
      "epoch 30: Loss = 6.0315 dB - always 1: 1.0\n",
      "Power should always be one: tensor(1.0000, grad_fn=<SumBackward0>)\n"
     ]
    },
    {
     "data": {
      "text/plain": "<Figure size 216x216 with 1 Axes>",
      "image/png": "[encoded data removed]"
     },
     "metadata": {
      "needs_background": "light"
     },
     "output_type": "display_data"
    }
   ],
   "source": [
    "enc_inp = torch.tensor([[1]], dtype=torch.float)\n",
    "\n",
    "for (k, SNR_db) in enumerate(chParam.SNR_db):\n",
    "    print(f'---SNR = {chParam.SNR_db[k]} dB---')\n",
    "\n",
    "    # Initialize network\n",
    "    encoder = ae.Encoder(in_features=1, width=aeParam.nFeaturesEnc, out_features=chParam.M)\n",
    "    decoder = ae.Decoder(in_features=2, width=aeParam.nFeaturesDec, out_features=chParam.M)\n",
    "    CEloss = nn.CrossEntropyLoss()\n",
    "\n",
    "    # Optimizer\n",
    "    optimizer = optim.Adam(list(encoder.parameters()) + list(decoder.parameters()), lr=trainingParam.learningRate)\n",
    "\n",
    "    # Training loop\n",
    "    for j in range(trainingParam.iterations):\n",
    "        # first generate the distribution\n",
    "        l_M = encoder(enc_inp)\n",
    "        P_M = F.softmax(l_M, dim=1)\n",
    "\n",
    "        # Sample indexes\n",
    "        indices = sampler(P_M.detach().numpy()[0], trainingParam.batchSize)  # labels\n",
    "        # get onehot from sampled indices\n",
    "        onehot = F.one_hot(torch.tensor(indices, dtype=torch.int64), 64)\n",
    "        #onehot = np.array([hlp.one_hot(i, chParam.M) for i in indices_t])\n",
    "        # convert array to tensors\n",
    "        #onehot_t = torch.tensor(onehot).float()\n",
    "\n",
    "        # normalization & Modulation\n",
    "        constellation = tx.qammod(chParam.M)\n",
    "        constellation_t = torch.tensor(constellation, dtype=torch.cfloat)\n",
    "        norm_factor = torch.rsqrt(p_norm(P_M, constellation_t))\n",
    "        norm_constellation = torch.mul(constellation_t, r2c(norm_factor))\n",
    "        x = torch.matmul(r2c(onehot), torch.transpose(input=norm_constellation, dim0=0, dim1=1))\n",
    "        should_always_be_one = p_norm(P_M, norm_constellation)\n",
    "\n",
    "        # Channel\n",
    "        noise_cpx = torch.complex(torch.randn(x.shape), torch.randn(x.shape))\n",
    "        # noise_cpx = F.normalize(torch.complex(torch.randn(x.shape), torch.randn(x.shape)))\n",
    "        #should_always_be_one = p_norm(torch.ones(noise_cpx.shape)/noise_cpx.shape[0], noise_cpx)\n",
    "        sigma2 = torch.tensor(1) / hlp.dB2lin(SNR_db, 'dB')  # 1 corresponds to the Power\n",
    "        # noise_snr = r2c(torch.sqrt(sigma2)) * noise_cpx\n",
    "        noise_snr = r2c(torch.sqrt(sigma2)) * torch.rsqrt(torch.tensor(2)) * noise_cpx\n",
    "        # https://stats.stackexchange.com/questions/187491/why-standard-normal-samples-multiplied-by-sd-are-samples-from-a-normal-dist-with\n",
    "\n",
    "        y = torch.add(x, noise_snr)\n",
    "        #should_always_be_one = p_norm(torch.ones(y.shape)/y.shape[0], y)\n",
    "\n",
    "        # demodulator\n",
    "        y_vec = hlp.complex2real(torch.squeeze(y)) #perhaps squeeze before transforming\n",
    "        dec = decoder(y_vec)\n",
    "\n",
    "\n",
    "        # loss\n",
    "        zhat = (y_vec - hlp.complex2real(torch.squeeze(x)))\n",
    "        loss = CEloss(dec, onehot.type(torch.float))\n",
    "        loss_hat = loss + loss_correction_factor(F.softmax(dec, 1), zhat, sigma2)\n",
    "\n",
    "        optimizer.zero_grad()\n",
    "        loss_hat.backward()\n",
    "        optimizer.step()\n",
    "\n",
    "        # Printout and visualization\n",
    "        if j % int(trainingParam.displayStep) == 0:\n",
    "            print(f'epoch {j}: Loss = {loss.detach().numpy() / np.log(2) :.4f} dB - always 1: {should_always_be_one :.2}')\n",
    "        if loss < 1e-3:\n",
    "            break\n",
    "\n",
    "    # Data for the plots\n",
    "    p_s_t = F.softmax(encoder(enc_inp), dim=1)\n",
    "    p_s = p_s_t.detach().numpy()[0]\n",
    "    constellation = tx.qammod(chParam.M)\n",
    "    constellation_t = torch.tensor(constellation, dtype=torch.cfloat)\n",
    "    norm_factor = torch.rsqrt(p_norm(p_s_t, constellation_t))\n",
    "    norm_constellation = r2c(norm_factor) * constellation_t\n",
    "    #print(p_s)\n",
    "    print('Power should always be one:', p_norm(p_s_t, norm_constellation))\n",
    "    plot_2D_PDF(constellation, p_s, SNR_db)"
   ],
   "metadata": {
    "collapsed": false,
    "pycharm": {
     "name": "#%%\n"
    }
   }
  },
  {
   "cell_type": "code",
   "execution_count": null,
   "outputs": [],
   "source": [],
   "metadata": {
    "collapsed": false,
    "pycharm": {
     "name": "#%%\n"
    }
   }
  }
 ],
 "metadata": {
  "kernelspec": {
   "display_name": "Python 3 (ipykernel)",
   "language": "python",
   "name": "python3"
  },
  "language_info": {
   "codemirror_mode": {
    "name": "ipython",
    "version": 3
   },
   "file_extension": ".py",
   "mimetype": "text/x-python",
   "name": "python",
   "nbconvert_exporter": "python",
   "pygments_lexer": "ipython3",
   "version": "3.8.10"
  }
 },
 "nbformat": 4,
 "nbformat_minor": 5
}