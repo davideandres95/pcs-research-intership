{
 "cells": [
  {
   "cell_type": "code",
   "execution_count": 15,
   "id": "e3dd0037",
   "metadata": {},
   "outputs": [],
   "source": [
    "import matplotlib.pyplot as plt\n",
    "import torch\n",
    "import torch.distributions as torch_d\n",
    "import torch.nn.functional as F\n",
    "import torch.nn as nn\n",
    "import torch.optim as optim\n",
    "import numpy as np\n",
    "\n",
    "from pcs_gumbel_softmax import tx\n",
    "from pcs_gumbel_softmax import helper as hlp\n",
    "from pcs_gumbel_softmax import utils\n",
    "from pcs_gumbel_softmax import autoencoder as ae"
   ]
  },
  {
   "cell_type": "markdown",
   "source": [
    "# Parameters"
   ],
   "metadata": {
    "collapsed": false,
    "pycharm": {
     "name": "#%% md\n"
    }
   }
  },
  {
   "cell_type": "code",
   "execution_count": 16,
   "id": "3a9c25b8",
   "metadata": {},
   "outputs": [],
   "source": [
    "# Channel Parameters\n",
    "chParam = utils.AttrDict()\n",
    "chParam.M = 64\n",
    "# chParam.SNR_db = [5, 12, 18, 30]\n",
    "chParam.SNR_db = [0, 5, 12, 18, 30]\n",
    "\n",
    "# Auto-Encoder Parameters\n",
    "aeParam = utils.AttrDict()\n",
    "aeParam.temperature = 1\n",
    "aeParam.nLayersEnc  = 1\n",
    "aeParam.nLayersDec  = 2\n",
    "aeParam.nFeaturesEnc  = 128\n",
    "aeParam.nFeaturesDec  = 128\n",
    "\n",
    "# Training Parameters\n",
    "trainingParam = utils.AttrDict()\n",
    "trainingParam.nBatches      = 16\n",
    "trainingParam.batchSize     = 128*chParam.M\n",
    "trainingParam.learningRate  = 0.001\n",
    "trainingParam.iterations    = 101\n",
    "trainingParam.displayStep   = 5"
   ]
  },
  {
   "cell_type": "markdown",
   "source": [
    "## Helper Functions"
   ],
   "metadata": {
    "collapsed": false,
    "pycharm": {
     "name": "#%% md\n"
    }
   }
  },
  {
   "cell_type": "code",
   "execution_count": 17,
   "id": "2a2aaa12",
   "metadata": {},
   "outputs": [],
   "source": [
    "def p_norm(p, x, fun=lambda x: torch.pow(torch.abs(x), 2)):\n",
    "    return torch.sum(p * fun(x))"
   ]
  },
  {
   "cell_type": "code",
   "execution_count": 18,
   "id": "2698c61c",
   "metadata": {},
   "outputs": [],
   "source": [
    "class STEFunction(torch.autograd.Function):\n",
    "    @staticmethod\n",
    "    def forward(ctx, input):\n",
    "        return F.one_hot(torch.argmax(input, axis=-1), chParam.M)\n",
    "\n",
    "    @staticmethod\n",
    "    def backward(ctx, grad_output):\n",
    "        return grad_output"
   ]
  },
  {
   "cell_type": "code",
   "execution_count": 19,
   "id": "dc23eeac",
   "metadata": {},
   "outputs": [],
   "source": [
    "def r2c(x):\n",
    "    return x.type(torch.complex64)"
   ]
  },
  {
   "cell_type": "code",
   "execution_count": 20,
   "outputs": [],
   "source": [
    "def plot_2D_PDF(const, pmf, db):\n",
    "    s = pmf * 200\n",
    "    plt.figure(figsize=(3, 3))\n",
    "    plt.scatter(const.real, const.imag, s, c=\"r\")\n",
    "    plt.title(f'SNR = {db} dB')\n",
    "    plt.grid()\n",
    "    plt.show()"
   ],
   "metadata": {
    "collapsed": false,
    "pycharm": {
     "name": "#%%\n"
    }
   }
  },
  {
   "cell_type": "markdown",
   "source": [
    "## Training Loop"
   ],
   "metadata": {
    "collapsed": false,
    "pycharm": {
     "name": "#%% md\n"
    }
   }
  },
  {
   "cell_type": "code",
   "execution_count": 21,
   "id": "b525941c",
   "metadata": {
    "pycharm": {
     "name": "#%%\n"
    }
   },
   "outputs": [
    {
     "name": "stdout",
     "output_type": "stream",
     "text": [
      "---SNR = 0 dB---\n",
      "epoch 0: Loss = 6.0262 dB - always 1: 1.0\n",
      "epoch 5: Loss = 5.9114 dB - always 1: 1.0\n",
      "epoch 10: Loss = 5.8033 dB - always 1: 1.0\n",
      "epoch 15: Loss = 5.6658 dB - always 1: 1.0\n",
      "epoch 20: Loss = 5.5336 dB - always 1: 1.0\n",
      "epoch 25: Loss = 5.3716 dB - always 1: 1.0\n",
      "epoch 30: Loss = 5.2580 dB - always 1: 1.0\n",
      "epoch 35: Loss = 5.1834 dB - always 1: 1.0\n",
      "epoch 40: Loss = 5.0941 dB - always 1: 1.0\n",
      "epoch 45: Loss = 5.0551 dB - always 1: 1.0\n",
      "epoch 50: Loss = 5.0327 dB - always 1: 1.0\n",
      "epoch 55: Loss = 5.0229 dB - always 1: 1.0\n",
      "epoch 60: Loss = 4.9978 dB - always 1: 1.0\n",
      "epoch 65: Loss = 4.9868 dB - always 1: 1.0\n",
      "epoch 70: Loss = 4.9848 dB - always 1: 1.0\n",
      "epoch 75: Loss = 4.9976 dB - always 1: 1.0\n",
      "epoch 80: Loss = 5.0006 dB - always 1: 1.0\n",
      "epoch 85: Loss = 4.9760 dB - always 1: 1.0\n",
      "epoch 90: Loss = 5.0279 dB - always 1: 1.0\n",
      "epoch 95: Loss = 4.9926 dB - always 1: 1.0\n",
      "epoch 100: Loss = 4.9484 dB - always 1: 1.0\n",
      "Power should always be one: tensor(1., grad_fn=<SumBackward0>)\n"
     ]
    },
    {
     "data": {
      "text/plain": "<Figure size 216x216 with 1 Axes>",
      "image/png": "[encoded data removed]"
     },
     "metadata": {
      "needs_background": "light"
     },
     "output_type": "display_data"
    },
    {
     "name": "stdout",
     "output_type": "stream",
     "text": [
      "---SNR = 5 dB---\n",
      "epoch 0: Loss = 5.9783 dB - always 1: 1.0\n",
      "epoch 5: Loss = 5.8475 dB - always 1: 1.0\n",
      "epoch 10: Loss = 5.6933 dB - always 1: 1.0\n",
      "epoch 15: Loss = 5.5034 dB - always 1: 1.0\n",
      "epoch 20: Loss = 5.2871 dB - always 1: 1.0\n",
      "epoch 25: Loss = 5.0556 dB - always 1: 1.0\n",
      "epoch 30: Loss = 4.8579 dB - always 1: 1.0\n",
      "epoch 35: Loss = 4.6758 dB - always 1: 1.0\n",
      "epoch 40: Loss = 4.5125 dB - always 1: 1.0\n",
      "epoch 45: Loss = 4.3718 dB - always 1: 1.0\n",
      "epoch 50: Loss = 4.2912 dB - always 1: 1.0\n",
      "epoch 55: Loss = 4.2097 dB - always 1: 1.0\n",
      "epoch 60: Loss = 4.1390 dB - always 1: 1.0\n",
      "epoch 65: Loss = 4.0867 dB - always 1: 1.0\n",
      "epoch 70: Loss = 4.0516 dB - always 1: 1.0\n",
      "epoch 75: Loss = 3.9964 dB - always 1: 1.0\n",
      "epoch 80: Loss = 3.9843 dB - always 1: 1.0\n",
      "epoch 85: Loss = 3.9668 dB - always 1: 1.0\n",
      "epoch 90: Loss = 3.9504 dB - always 1: 1.0\n",
      "epoch 95: Loss = 3.9247 dB - always 1: 1.0\n",
      "epoch 100: Loss = 3.9228 dB - always 1: 1.0\n",
      "Power should always be one: tensor(1., grad_fn=<SumBackward0>)\n"
     ]
    },
    {
     "data": {
      "text/plain": "<Figure size 216x216 with 1 Axes>",
      "image/png": "[encoded data removed]"
     },
     "metadata": {
      "needs_background": "light"
     },
     "output_type": "display_data"
    },
    {
     "name": "stdout",
     "output_type": "stream",
     "text": [
      "---SNR = 12 dB---\n",
      "epoch 0: Loss = 6.0192 dB - always 1: 1.0\n",
      "epoch 5: Loss = 5.8722 dB - always 1: 1.0\n",
      "epoch 10: Loss = 5.7317 dB - always 1: 1.0\n",
      "epoch 15: Loss = 5.5502 dB - always 1: 1.0\n",
      "epoch 20: Loss = 5.3114 dB - always 1: 1.0\n",
      "epoch 25: Loss = 5.0534 dB - always 1: 1.0\n",
      "epoch 30: Loss = 4.7649 dB - always 1: 1.0\n",
      "epoch 35: Loss = 4.4858 dB - always 1: 1.0\n",
      "epoch 40: Loss = 4.2461 dB - always 1: 1.0\n",
      "epoch 45: Loss = 4.0111 dB - always 1: 1.0\n",
      "epoch 50: Loss = 3.8126 dB - always 1: 1.0\n",
      "epoch 55: Loss = 3.6289 dB - always 1: 1.0\n",
      "epoch 60: Loss = 3.4659 dB - always 1: 1.0\n",
      "epoch 65: Loss = 3.3145 dB - always 1: 1.0\n",
      "epoch 70: Loss = 3.1834 dB - always 1: 1.0\n",
      "epoch 75: Loss = 3.0542 dB - always 1: 1.0\n",
      "epoch 80: Loss = 2.9396 dB - always 1: 1.0\n",
      "epoch 85: Loss = 2.8305 dB - always 1: 1.0\n",
      "epoch 90: Loss = 2.7411 dB - always 1: 1.0\n",
      "epoch 95: Loss = 2.6573 dB - always 1: 1.0\n",
      "epoch 100: Loss = 2.5806 dB - always 1: 1.0\n",
      "Power should always be one: tensor(1., grad_fn=<SumBackward0>)\n"
     ]
    },
    {
     "data": {
      "text/plain": "<Figure size 216x216 with 1 Axes>",
      "image/png": "[encoded data removed]"
     },
     "metadata": {
      "needs_background": "light"
     },
     "output_type": "display_data"
    },
    {
     "name": "stdout",
     "output_type": "stream",
     "text": [
      "---SNR = 18 dB---\n",
      "epoch 0: Loss = 6.0091 dB - always 1: 1.0\n",
      "epoch 5: Loss = 5.8762 dB - always 1: 1.0\n",
      "epoch 10: Loss = 5.7402 dB - always 1: 1.0\n",
      "epoch 15: Loss = 5.5666 dB - always 1: 1.0\n",
      "epoch 20: Loss = 5.3435 dB - always 1: 1.0\n",
      "epoch 25: Loss = 5.0843 dB - always 1: 1.0\n",
      "epoch 30: Loss = 4.8081 dB - always 1: 1.0\n",
      "epoch 35: Loss = 4.5203 dB - always 1: 1.0\n",
      "epoch 40: Loss = 4.2518 dB - always 1: 1.0\n",
      "epoch 45: Loss = 3.9981 dB - always 1: 1.0\n",
      "epoch 50: Loss = 3.7679 dB - always 1: 1.0\n",
      "epoch 55: Loss = 3.5549 dB - always 1: 1.0\n",
      "epoch 60: Loss = 3.3593 dB - always 1: 1.0\n",
      "epoch 65: Loss = 3.1809 dB - always 1: 1.0\n",
      "epoch 70: Loss = 3.0122 dB - always 1: 1.0\n",
      "epoch 75: Loss = 2.8483 dB - always 1: 1.0\n",
      "epoch 80: Loss = 2.7019 dB - always 1: 1.0\n",
      "epoch 85: Loss = 2.5537 dB - always 1: 1.0\n",
      "epoch 90: Loss = 2.4161 dB - always 1: 1.0\n",
      "epoch 95: Loss = 2.2965 dB - always 1: 1.0\n",
      "epoch 100: Loss = 2.1833 dB - always 1: 1.0\n",
      "Power should always be one: tensor(1., grad_fn=<SumBackward0>)\n"
     ]
    },
    {
     "data": {
      "text/plain": "<Figure size 216x216 with 1 Axes>",
      "image/png": "[encoded data removed]"
     },
     "metadata": {
      "needs_background": "light"
     },
     "output_type": "display_data"
    },
    {
     "name": "stdout",
     "output_type": "stream",
     "text": [
      "---SNR = 30 dB---\n",
      "epoch 0: Loss = 6.0024 dB - always 1: 1.0\n",
      "epoch 5: Loss = 5.8543 dB - always 1: 1.0\n",
      "epoch 10: Loss = 5.7107 dB - always 1: 1.0\n",
      "epoch 15: Loss = 5.5344 dB - always 1: 1.0\n",
      "epoch 20: Loss = 5.3089 dB - always 1: 1.0\n",
      "epoch 25: Loss = 5.0589 dB - always 1: 1.0\n",
      "epoch 30: Loss = 4.7858 dB - always 1: 1.0\n",
      "epoch 35: Loss = 4.4937 dB - always 1: 1.0\n",
      "epoch 40: Loss = 4.2107 dB - always 1: 1.0\n",
      "epoch 45: Loss = 3.9709 dB - always 1: 1.0\n",
      "epoch 50: Loss = 3.7330 dB - always 1: 1.0\n",
      "epoch 55: Loss = 3.5116 dB - always 1: 1.0\n",
      "epoch 60: Loss = 3.3114 dB - always 1: 1.0\n",
      "epoch 65: Loss = 3.1138 dB - always 1: 1.0\n",
      "epoch 70: Loss = 2.9352 dB - always 1: 1.0\n",
      "epoch 75: Loss = 2.7581 dB - always 1: 1.0\n",
      "epoch 80: Loss = 2.5898 dB - always 1: 1.0\n",
      "epoch 85: Loss = 2.4356 dB - always 1: 1.0\n",
      "epoch 90: Loss = 2.2924 dB - always 1: 1.0\n",
      "epoch 95: Loss = 2.1462 dB - always 1: 1.0\n",
      "epoch 100: Loss = 2.0097 dB - always 1: 1.0\n",
      "Power should always be one: tensor(1.0000, grad_fn=<SumBackward0>)\n"
     ]
    },
    {
     "data": {
      "text/plain": "<Figure size 216x216 with 1 Axes>",
      "image/png": "[encoded data removed]"
     },
     "metadata": {
      "needs_background": "light"
     },
     "output_type": "display_data"
    }
   ],
   "source": [
    "enc_inp = torch.tensor([[1]], dtype=torch.float)\n",
    "\n",
    "for (k, SNR_db) in enumerate(chParam.SNR_db):\n",
    "    print(f'---SNR = {chParam.SNR_db[k]} dB---')\n",
    "\n",
    "    # Initialize network\n",
    "    encoder = ae.Encoder(in_features=1, width=aeParam.nFeaturesEnc, out_features=chParam.M)\n",
    "    decoder = ae.Decoder(in_features=2, width=aeParam.nFeaturesDec, out_features=chParam.M)\n",
    "    CEloss = nn.CrossEntropyLoss()\n",
    "    # Optimizer\n",
    "    optimizer = optim.Adam(list(encoder.parameters()) + list(decoder.parameters()), lr=trainingParam.learningRate)\n",
    "\n",
    "    # Training loop\n",
    "    for j in range(trainingParam.iterations):\n",
    "        # first generate the distribution\n",
    "        s_logits = encoder(enc_inp)\n",
    "        g_dist = torch_d.Gumbel(loc=torch.tensor([0.]), scale=torch.tensor([1.])) # create Gumbel dist\n",
    "        g = torch.squeeze(g_dist.sample(sample_shape=[trainingParam.batchSize, chParam.M]))\n",
    "        s_bar = F.softmax(input=((g + s_logits) / aeParam.temperature), dim=1)\n",
    "        s = STEFunction.apply(s_bar) # straight through estimator\n",
    "\n",
    "        # normalization & Modulation\n",
    "        p_s = F.softmax(s_logits, dim=1)\n",
    "        constellation = tx.qammod(chParam.M)\n",
    "        constellation_t = torch.tensor(constellation, dtype=torch.cfloat)\n",
    "        norm_factor = torch.rsqrt(p_norm(p_s, constellation_t))\n",
    "        norm_constellation = torch.mul(constellation_t, r2c(norm_factor))\n",
    "        x = torch.matmul(r2c(s), torch.transpose(input=norm_constellation, dim0=0, dim1=1))\n",
    "        should_always_be_one = p_norm(p_s, norm_constellation)\n",
    "\n",
    "        # Channel\n",
    "        noise_cpx = torch.complex(torch.randn(x.shape), torch.randn(x.shape))\n",
    "        # noise_cpx = F.normalize(torch.complex(torch.randn(x.shape), torch.randn(x.shape)))\n",
    "        #should_always_be_one = p_norm(torch.ones(noise_cpx.shape)/noise_cpx.shape[0], noise_cpx)\n",
    "        sigma2 = torch.tensor(1) / hlp.dB2lin(SNR_db, 'dB')  # 1 corresponds to the Power\n",
    "        # noise_snr = r2c(torch.sqrt(sigma2)) * noise_cpx\n",
    "        noise_snr = r2c(torch.sqrt(sigma2)) * torch.rsqrt(torch.tensor(2)) * noise_cpx\n",
    "        # https://stats.stackexchange.com/questions/187491/why-standard-normal-samples-multiplied-by-sd-are-samples-from-a-normal-dist-with\n",
    "\n",
    "        y = torch.add(x, noise_snr)\n",
    "        #should_always_be_one = p_norm(torch.ones(y.shape)/y.shape[0], y)\n",
    "\n",
    "        # demodulator\n",
    "        y_vec = hlp.complex2real(torch.squeeze(y)) #perhaps squeeze before transforming\n",
    "        dec = decoder(y_vec)\n",
    "\n",
    "\n",
    "        # loss\n",
    "        loss = CEloss(dec, s.type(torch.float))\n",
    "        entropy_S = -p_norm(p_s, p_s, lambda x: torch.log2(x))\n",
    "        loss_hat = loss - entropy_S\n",
    "\n",
    "        optimizer.zero_grad()\n",
    "        loss_hat.backward()\n",
    "        optimizer.step()\n",
    "\n",
    "        # Printout and visualization\n",
    "        if j % int(trainingParam.displayStep) == 0:\n",
    "            print(f'epoch {j}: Loss = {loss.detach().numpy() / np.log(2) :.4f} dB - always 1: {should_always_be_one :.2}')\n",
    "        if loss < 1e-3:\n",
    "            break\n",
    "\n",
    "    # Data for the plots\n",
    "    p_s_t = F.softmax(encoder(enc_inp), dim=1)\n",
    "    p_s = p_s_t.detach().numpy()[0]\n",
    "    constellation = tx.qammod(chParam.M)  # ToDo: returns a complex\n",
    "    constellation_t = torch.tensor(constellation, dtype=torch.cfloat)\n",
    "    norm_factor = torch.rsqrt(p_norm(p_s_t, constellation_t))  # ToDo: returns a real\n",
    "    norm_constellation = r2c(norm_factor) * constellation_t\n",
    "    #print(p_s)\n",
    "    print('Power should always be one:', p_norm(p_s_t, norm_constellation))\n",
    "    plot_2D_PDF(constellation, p_s, SNR_db)"
   ]
  }
 ],
 "metadata": {
  "kernelspec": {
   "display_name": "Python 3 (ipykernel)",
   "language": "python",
   "name": "python3"
  },
  "language_info": {
   "codemirror_mode": {
    "name": "ipython",
    "version": 3
   },
   "file_extension": ".py",
   "mimetype": "text/x-python",
   "name": "python",
   "nbconvert_exporter": "python",
   "pygments_lexer": "ipython3",
   "version": "3.8.10"
  }
 },
 "nbformat": 4,
 "nbformat_minor": 5
}