{
 "cells": [
  {
   "cell_type": "code",
   "execution_count": 148,
   "id": "5cf98e9b",
   "metadata": {},
   "outputs": [],
   "source": [
    "import numpy as np\n",
    "import matplotlib.pyplot as plt\n",
    "import torch\n",
    "import torch.nn as nn\n",
    "import torch.optim as optim\n",
    "import torch.distributions as torch_d"
   ]
  },
  {
   "cell_type": "code",
   "execution_count": 149,
   "outputs": [],
   "source": [
    "import matplotlib\n",
    "matplotlib.use(\"pgf\")\n",
    "matplotlib.rcParams.update({\n",
    "    \"pgf.texsystem\": \"pdflatex\",\n",
    "    'font.family': 'serif',\n",
    "    'text.usetex': True,\n",
    "    'pgf.rcfonts': False,\n",
    "})"
   ],
   "metadata": {
    "collapsed": false
   }
  },
  {
   "cell_type": "code",
   "execution_count": 150,
   "id": "c9a65c99",
   "metadata": {},
   "outputs": [],
   "source": [
    "class Receiver(nn.Module):\n",
    "    def __init__(self, M):\n",
    "        super().__init__()\n",
    "        self.lin1 = nn.Linear(1, M)\n",
    "\n",
    "    def forward(self, y):\n",
    "        y = self.lin1(y)\n",
    "        return y\n",
    "\n",
    "class Receiver2(nn.Module):\n",
    "    def __init__(self, M):\n",
    "        super().__init__()\n",
    "        self.lin1 = nn.Linear(1, 128)\n",
    "        self.act1 = nn.ReLU()\n",
    "        self.lin2 = nn.Linear(128, 128)\n",
    "        self.act2 = nn.ReLU()\n",
    "        self.lin3 = nn.Linear(128, M)\n",
    "\n",
    "    def forward(self, y):\n",
    "        y = self.act1(self.lin1(y))\n",
    "        y = self.act2(self.lin2(y))\n",
    "        return self.lin3(y)\n",
    "\n",
    "\n",
    "class Encoder2(nn.Module):\n",
    "    def __init__(self, M):\n",
    "        super().__init__()\n",
    "        self.lin1 = nn.Linear(1, 128)\n",
    "        self.act1 = nn.ReLU()\n",
    "        self.lin2 = nn.Linear(128, M)\n",
    "\n",
    "    def forward(self, y):\n",
    "        y = self.act1(self.lin1(y))\n",
    "        return self.lin2(y)\n",
    "\n",
    "class Encoder(nn.Module):\n",
    "    def __init__(self, M):\n",
    "        super().__init__()\n",
    "        self.lin1 = nn.Linear(1, M, bias=False)\n",
    "        nn.init.constant_(self.lin1.weight, 1 / M)\n",
    "\n",
    "    def forward(self, y):\n",
    "        return self.lin1(y)\n",
    "\n",
    "class Mapper(nn.Module):\n",
    "    def __init__(self, M):\n",
    "        super().__init__()\n",
    "        alphabet = np.arange(-(M-1),M,2)\n",
    "        self.lin1 = nn.Linear(M, 1)\n",
    "        self.lin1.weight = nn.Parameter(torch.Tensor([[i for i in alphabet]])) # set weigths equal to alphabet\n",
    "\n",
    "    def forward(self, y):\n",
    "        y = self.lin1(y)\n",
    "        return y\n",
    "\n",
    "class STEFunction(torch.autograd.Function):\n",
    "    @staticmethod\n",
    "    def forward(ctx, input):\n",
    "        ctx.input = input\n",
    "        return nn.functional.one_hot(torch.argmax(input, dim=-1), 8).float()\n",
    "\n",
    "    @staticmethod\n",
    "    def backward(ctx, grad_output):\n",
    "        return grad_output"
   ]
  },
  {
   "cell_type": "code",
   "execution_count": 150,
   "outputs": [],
   "source": [],
   "metadata": {
    "collapsed": false
   }
  },
  {
   "cell_type": "code",
   "execution_count": 151,
   "id": "57d61f4c",
   "metadata": {},
   "outputs": [],
   "source": [
    "def gradient_correction_factor(app, idx, prob, M):\n",
    "    (nn,M)= app.shape\n",
    "    cf  = torch.zeros(M)\n",
    "    for j in range(M):\n",
    "        tmp = app[:, j]\n",
    "        cf[j] = torch.sum(torch.log(tmp[idx==j])) / (nn*prob[j]) # tmp[idx==j] selects the ll of those xy pairs which belong to the current symbol j\n",
    "    return cf"
   ]
  },
  {
   "cell_type": "code",
   "execution_count": 152,
   "id": "4616a6cb",
   "metadata": {},
   "outputs": [],
   "source": [
    "def AWGN_channel(x, sigma2):\n",
    "    noise_t = np.sqrt(sigma2)*torch.randn(x.shape)\n",
    "    return x + noise_t"
   ]
  },
  {
   "cell_type": "code",
   "execution_count": 153,
   "id": "4957d2ed",
   "metadata": {},
   "outputs": [],
   "source": [
    "M = 8\n",
    "n = 10_000\n",
    "SNR_dB = 5\n",
    "SNR = 10**(SNR_dB/10)\n",
    "sigma2 = 1/SNR\n",
    "nepochs = 4000\n",
    "\n",
    "mapper = Mapper(M)\n",
    "dec = Receiver2(M)\n",
    "enc = Encoder2(M)\n",
    "loss_fn = nn.CrossEntropyLoss()"
   ]
  },
  {
   "cell_type": "code",
   "execution_count": 154,
   "outputs": [
    {
     "name": "stdout",
     "output_type": "stream",
     "text": [
      "tensor([-6.8976], grad_fn=<AddBackward0>)\n",
      "tensor([-4.8976], grad_fn=<AddBackward0>)\n",
      "tensor([-2.8976], grad_fn=<AddBackward0>)\n",
      "tensor([-0.8976], grad_fn=<AddBackward0>)\n",
      "tensor([1.1024], grad_fn=<AddBackward0>)\n",
      "tensor([3.1024], grad_fn=<AddBackward0>)\n",
      "tensor([5.1024], grad_fn=<AddBackward0>)\n",
      "tensor([7.1024], grad_fn=<AddBackward0>)\n"
     ]
    }
   ],
   "source": [
    "for i in range(0, M):\n",
    "    i_onehot = nn.functional.one_hot(torch.tensor(i), 8).float()\n",
    "    print(mapper(i_onehot))"
   ],
   "metadata": {
    "collapsed": false
   }
  },
  {
   "cell_type": "code",
   "execution_count": 155,
   "id": "ecb002a1",
   "metadata": {},
   "outputs": [],
   "source": [
    "lr = 0.001\n",
    "opt = optim.Adam( list(enc.parameters()) + list(dec.parameters()) + list(mapper.parameters()), lr=lr)"
   ]
  },
  {
   "cell_type": "code",
   "execution_count": 156,
   "outputs": [
    {
     "name": "stdout",
     "output_type": "stream",
     "text": [
      "epoch 0: Loss = 0.1414\n",
      "epoch 500: Loss = -1.0213\n",
      "epoch 1000: Loss = -1.0248\n",
      "epoch 1500: Loss = -1.0120\n",
      "epoch 2000: Loss = -1.0289\n",
      "epoch 2500: Loss = -1.0428\n",
      "epoch 3000: Loss = -1.0203\n",
      "epoch 3500: Loss = -1.0183\n"
     ]
    }
   ],
   "source": [
    "def sampler(logits, n, M):\n",
    "    temperature = 10\n",
    "    estimator = STEFunction.apply\n",
    "    g_dist = torch_d.Gumbel(loc=torch.tensor([0.]), scale=torch.tensor([1.])) # create Gumbel dist\n",
    "    g = g_dist.sample(sample_shape=[n, M]).squeeze()\n",
    "    s_bar = nn.functional.softmax(input=((g + logits) / temperature), dim=1)\n",
    "    s = estimator(s_bar) # straight through estimator\n",
    "    return s\n",
    "\n",
    "for j in range(nepochs):\n",
    "    logits = enc(torch.tensor([1], dtype=torch.float))\n",
    "\n",
    "    # Sample indexes\n",
    "    # onehot = sampler(probs, n, M)\n",
    "    onehot = nn.functional.gumbel_softmax(logits.expand(n, -1), tau=10, hard=True)\n",
    "    indices = torch.argmax(onehot, dim=1)\n",
    "\n",
    "    # Modulation\n",
    "    alphabet_t = mapper(nn.functional.one_hot(torch.arange(M),M).float()).squeeze()\n",
    "    probs =  nn.functional.softmax(logits, -1)\n",
    "    norm_factor = torch.rsqrt(torch.sum(torch.pow(torch.abs(alphabet_t), 2) * probs))\n",
    "    alphabet_norm =  alphabet_t * norm_factor\n",
    "    symbols = torch.matmul(onehot, torch.transpose(input=alphabet_norm.reshape(1,-1), dim0=0, dim1=1))\n",
    "\n",
    "    # Channel\n",
    "    y = AWGN_channel(symbols, sigma2)\n",
    "\n",
    "    # Demodulator\n",
    "    ll = dec(y.reshape(-1,1))\n",
    "    # app = nn.functional.softmax(ll, 1) #Q(X|Y)\n",
    "\n",
    "    # Loss\n",
    "    loss = -(torch.sum(-probs*torch.log(probs)) - loss_fn(ll, indices.detach()))# -(H(X) - CE(P,Q)), the gradient descent minimizes, therefore we minimize the opposite to maximize the MI in the end.\n",
    "    opt.zero_grad()\n",
    "    loss.backward()\n",
    "\n",
    "    opt.step()\n",
    "\n",
    "    # Printout and visualization\n",
    "    if j % 500 == 0:\n",
    "        print(f'epoch {j}: Loss = {loss.detach().numpy() / np.log(2) :.4f}')"
   ],
   "metadata": {
    "collapsed": false
   }
  },
  {
   "cell_type": "code",
   "execution_count": 157,
   "outputs": [
    {
     "data": {
      "text/plain": "tensor([0.0200, 0.0896, 0.1686, 0.2215, 0.2218, 0.1676, 0.0905, 0.0203],\n       grad_fn=<SoftmaxBackward0>)"
     },
     "execution_count": 157,
     "metadata": {},
     "output_type": "execute_result"
    }
   ],
   "source": [
    "probs"
   ],
   "metadata": {
    "collapsed": false
   }
  },
  {
   "cell_type": "code",
   "execution_count": 158,
   "outputs": [
    {
     "data": {
      "text/plain": "tensor([[ 0.2734],\n        [ 0.2734],\n        [-0.2768],\n        ...,\n        [ 0.8955],\n        [-0.2768],\n        [ 0.2734]], grad_fn=<MmBackward0>)"
     },
     "execution_count": 158,
     "metadata": {},
     "output_type": "execute_result"
    }
   ],
   "source": [
    "symbols"
   ],
   "metadata": {
    "collapsed": false
   }
  },
  {
   "cell_type": "code",
   "execution_count": 159,
   "outputs": [
    {
     "data": {
      "text/plain": "tensor(1.0000, grad_fn=<SumBackward0>)"
     },
     "execution_count": 159,
     "metadata": {},
     "output_type": "execute_result"
    }
   ],
   "source": [
    "torch.sum(probs)"
   ],
   "metadata": {
    "collapsed": false
   }
  },
  {
   "cell_type": "code",
   "execution_count": 160,
   "outputs": [
    {
     "data": {
      "text/plain": "<Figure size 450x450 with 1 Axes>",
      "image/png": "[encoded data removed]"
     },
     "metadata": {
      "needs_background": "light"
     },
     "output_type": "display_data"
    }
   ],
   "source": [
    "plt.rcParams['figure.figsize'] = [3, 3]\n",
    "plt.hist(symbols.detach().numpy(), bins=100)\n",
    "plt.savefig('/home/ddeandres/Projects/internship_pcs/documentation/figs/stark_gcs_{}dB.pgf'.format(SNR_dB))"
   ],
   "metadata": {
    "collapsed": false
   }
  },
  {
   "cell_type": "code",
   "execution_count": 161,
   "id": "11d5685e",
   "metadata": {},
   "outputs": [
    {
     "name": "stderr",
     "output_type": "stream",
     "text": [
      "/tmp/ipykernel_1850426/2165226770.py:10: UserWarning: Matplotlib is currently using pgf, which is a non-GUI backend, so cannot show the figure.\n",
      "  plt.show()\n"
     ]
    },
    {
     "data": {
      "text/plain": "<Figure size 600x600 with 1 Axes>",
      "image/png": "[encoded data removed]"
     },
     "metadata": {
      "needs_background": "light"
     },
     "output_type": "display_data"
    }
   ],
   "source": [
    "# Scatterplot\n",
    "plt.rcParams['figure.figsize'] = [4, 4]\n",
    "pp = (probs.reshape(-1,1)*probs.reshape(1,-1)).reshape(-1,1).detach().numpy()\n",
    "alph = alphabet_norm.detach().numpy()\n",
    "a = []\n",
    "for c in np.flip(alph):\n",
    "    for d in alph:\n",
    "        a.append(d+1j*c)\n",
    "plt.scatter(np.real(a), np.imag(a), pp*2000)   \n",
    "plt.show()"
   ]
  },
  {
   "cell_type": "markdown",
   "id": "e53cf811",
   "metadata": {},
   "source": [
    "### Compare Results"
   ]
  },
  {
   "cell_type": "code",
   "execution_count": 162,
   "id": "07d1ab84",
   "metadata": {},
   "outputs": [],
   "source": [
    "def AWGN_channel_np(x, sigma2):\n",
    "    noise = np.sqrt(sigma2) * np.random.randn(x.size)\n",
    "    return x + noise"
   ]
  },
  {
   "cell_type": "code",
   "execution_count": 163,
   "id": "454c4d45",
   "metadata": {},
   "outputs": [],
   "source": [
    "def AWGNdemapper(y, const, varN):\n",
    "    apps = np.exp(-np.abs(np.transpose([y])-const)**2/(2*varN))\n",
    "    return apps / np.transpose([np.sum(apps, 1)])"
   ]
  },
  {
   "cell_type": "code",
   "execution_count": 164,
   "id": "8caf9ef2",
   "metadata": {},
   "outputs": [],
   "source": [
    "def xesmd(apps, idx):\n",
    "    \"\"\"\n",
    "    Estimates symbolwise equivocation from reference symbols indices and a posteriori probabilities.\n",
    "    \"\"\"\n",
    "    eq = -np.log(np.take_along_axis(apps, idx[:, None], axis=1) / np.transpose([np.sum(apps, 1)]))\n",
    "    eq[eq==np.inf] = 1000\n",
    "    return np.mean(eq)"
   ]
  },
  {
   "cell_type": "code",
   "execution_count": 165,
   "id": "6afb3b3b",
   "metadata": {},
   "outputs": [],
   "source": [
    "n = 10_000\n",
    "SNR_dBs = np.arange(5,22)\n",
    "M = 8\n",
    "alphabet = np.arange(-7,8,2)\n",
    "alphabet = alphabet / np.sqrt(np.mean(alphabet**2))\n",
    "indices = np.random.choice(np.arange(M), n)\n",
    "symbols_64 = alphabet[indices]\n",
    "\n",
    "mi_64 = []\n",
    "for snrdB in SNR_dBs:\n",
    "    sigma2 = 1/(10**(snrdB/10))\n",
    "    sigma2 = sigma2 \n",
    "    y = AWGN_channel_np(symbols_64, sigma2)\n",
    "    apps = AWGNdemapper(y, alphabet, sigma2)\n",
    "    xe = xesmd(apps, indices)\n",
    "    mi_64.append(2*(3 - (xe) / np.log(2)))"
   ]
  },
  {
   "cell_type": "code",
   "execution_count": 166,
   "outputs": [
    {
     "name": "stdout",
     "output_type": "stream",
     "text": [
      "2.0395608\n"
     ]
    }
   ],
   "source": [
    "print((-2*loss.detach()/np.log(2)).detach().numpy())"
   ],
   "metadata": {
    "collapsed": false
   }
  },
  {
   "cell_type": "code",
   "execution_count": 167,
   "id": "16beb1d4",
   "metadata": {},
   "outputs": [
    {
     "data": {
      "text/plain": "<Figure size 1200x900 with 1 Axes>",
      "image/png": "[encoded data removed]"
     },
     "metadata": {
      "needs_background": "light"
     },
     "output_type": "display_data"
    }
   ],
   "source": [
    "# Plot\n",
    "plt.rcParams['figure.figsize'] = [8, 6]\n",
    "plt.plot(SNR_dBs, mi_64, label = '64QAM')\n",
    "plt.plot(SNR_dBs, np.log2(1+10**(SNR_dBs/10)), color='black', label='Capacity')\n",
    "\n",
    "plt.plot(SNR_dB, -2*loss.detach()/np.log(2), color='red', marker='o', markersize=3)\n",
    "xy = (SNR_dB, (-2*loss.detach()/np.log(2)).detach().numpy())\n",
    "plt.annotate('(%s, %s)' % xy, xy=xy, textcoords='data')\n",
    "plt.legend()\n",
    "plt.grid()"
   ]
  },
  {
   "cell_type": "code",
   "execution_count": 167,
   "outputs": [],
   "source": [],
   "metadata": {
    "collapsed": false
   }
  }
 ],
 "metadata": {
  "kernelspec": {
   "display_name": "Python 3 (ipykernel)",
   "language": "python",
   "name": "python3"
  },
  "language_info": {
   "codemirror_mode": {
    "name": "ipython",
    "version": 3
   },
   "file_extension": ".py",
   "mimetype": "text/x-python",
   "name": "python",
   "nbconvert_exporter": "python",
   "pygments_lexer": "ipython3",
   "version": "3.9.2"
  }
 },
 "nbformat": 4,
 "nbformat_minor": 5
}
