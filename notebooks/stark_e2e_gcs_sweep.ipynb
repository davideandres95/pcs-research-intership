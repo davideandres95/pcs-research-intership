{
 "cells": [
  {
   "cell_type": "code",
   "execution_count": 2,
   "id": "5cf98e9b",
   "metadata": {},
   "outputs": [],
   "source": [
    "import numpy as np\n",
    "import matplotlib.pyplot as plt\n",
    "import torch\n",
    "import torch.nn as nn\n",
    "import torch.optim as optim\n",
    "import torch.distributions as torch_d\n",
    "# import tikzplotlib"
   ]
  },
  {
   "cell_type": "code",
   "execution_count": 22,
   "outputs": [],
   "source": [
    "## reset defaults\n",
    "plt.rcdefaults()\n",
    "\n",
    "## Set up LaTeX fonts\n",
    "plt.rcParams.update({\n",
    "    \"pgf.texsystem\": \"pdflatex\",\n",
    "    \"text.usetex\": True,\n",
    "    \"font.family\": \"serif\",\n",
    "    \"font.serif\": [\"Computer Modern Roman\"],\n",
    "    \"font.size\": 14,\n",
    "    })"
   ],
   "metadata": {
    "collapsed": false
   }
  },
  {
   "cell_type": "code",
   "execution_count": 24,
   "id": "c9a65c99",
   "metadata": {},
   "outputs": [],
   "source": [
    "class Receiver(nn.Module):\n",
    "    def __init__(self, M):\n",
    "        super().__init__()\n",
    "        self.lin1 = nn.Linear(1, M)\n",
    "\n",
    "    def forward(self, y):\n",
    "        y = self.lin1(y)\n",
    "        return y\n",
    "\n",
    "class Receiver2(nn.Module):\n",
    "    def __init__(self, M):\n",
    "        super().__init__()\n",
    "        self.lin1 = nn.Linear(1, 128)\n",
    "        self.act1 = nn.ReLU()\n",
    "        self.lin2 = nn.Linear(128, 128)\n",
    "        self.act2 = nn.ReLU()\n",
    "        self.lin3 = nn.Linear(128, M)\n",
    "\n",
    "    def forward(self, y):\n",
    "        y = self.act1(self.lin1(y))\n",
    "        y = self.act2(self.lin2(y))\n",
    "        return self.lin3(y)\n",
    "\n",
    "\n",
    "class Encoder2(nn.Module):\n",
    "    def __init__(self, M):\n",
    "        super().__init__()\n",
    "        self.lin1 = nn.Linear(1, 128)\n",
    "        self.act1 = nn.ReLU()\n",
    "        self.lin2 = nn.Linear(128, M)\n",
    "\n",
    "    def forward(self, y):\n",
    "        y = self.act1(self.lin1(y))\n",
    "        return self.lin2(y)\n",
    "\n",
    "class Encoder(nn.Module):\n",
    "    def __init__(self, M):\n",
    "        super().__init__()\n",
    "        self.lin1 = nn.Linear(1, M, bias=False)\n",
    "        nn.init.constant_(self.lin1.weight, 1 / M)\n",
    "\n",
    "    def forward(self, y):\n",
    "        return self.lin1(y)\n",
    "\n",
    "class Mapper(nn.Module):\n",
    "    def __init__(self, M):\n",
    "        super().__init__()\n",
    "        alphabet = np.arange(-(M-1),M,2)\n",
    "        self.lin1 = nn.Linear(M, 1)\n",
    "        self.lin1.weight = nn.Parameter(torch.Tensor([[i for i in alphabet]])) # set weigths equal to alphabet\n",
    "\n",
    "    def forward(self, y):\n",
    "        y = self.lin1(y)\n",
    "        return y\n",
    "\n",
    "\n",
    "class STEFunction(torch.autograd.Function):\n",
    "    @staticmethod\n",
    "    def forward(ctx, input):\n",
    "        ctx.input = input\n",
    "        return nn.functional.one_hot(torch.argmax(input, dim=-1), 8).float()\n",
    "\n",
    "    @staticmethod\n",
    "    def backward(ctx, grad_output):\n",
    "        return grad_output"
   ]
  },
  {
   "cell_type": "code",
   "execution_count": 24,
   "outputs": [],
   "source": [],
   "metadata": {
    "collapsed": false
   }
  },
  {
   "cell_type": "code",
   "execution_count": 25,
   "id": "57d61f4c",
   "metadata": {},
   "outputs": [],
   "source": [
    "def gradient_correction_factor(app, idx, prob, M):\n",
    "    (nn,M)= app.shape\n",
    "    cf  = torch.zeros(M)\n",
    "    for j in range(M):\n",
    "        tmp = app[:, j]\n",
    "        cf[j] = torch.sum(torch.log(tmp[idx==j])) / (nn*prob[j]) # tmp[idx==j] selects the ll of those xy pairs which belong to the current symbol j\n",
    "    return cf"
   ]
  },
  {
   "cell_type": "code",
   "execution_count": 26,
   "id": "4616a6cb",
   "metadata": {},
   "outputs": [],
   "source": [
    "def AWGN_channel(x, sigma2):\n",
    "    noise_t = np.sqrt(sigma2)*torch.randn(x.shape)\n",
    "    return x + noise_t"
   ]
  },
  {
   "cell_type": "code",
   "execution_count": 27,
   "id": "4957d2ed",
   "metadata": {},
   "outputs": [],
   "source": [
    "M = 8\n",
    "n = 10_000\n",
    "nepochs = 4000\n",
    "lr = 0.001\n",
    "\n",
    "dec = Receiver2(M)\n",
    "enc = Encoder2(M)\n",
    "mapper = Mapper(M)\n",
    "loss_fn = nn.CrossEntropyLoss()"
   ]
  },
  {
   "cell_type": "code",
   "execution_count": 28,
   "outputs": [],
   "source": [
    "def sampler(logits, n, M):\n",
    "    temperature = 10\n",
    "    estimator = STEFunction.apply\n",
    "    g_dist = torch_d.Gumbel(loc=torch.tensor([0.]), scale=torch.tensor([1.])) # create Gumbel dist\n",
    "    g = g_dist.sample(sample_shape=[n, M]).squeeze()\n",
    "    s_bar = nn.functional.softmax(input=((g + logits) / temperature), dim=1)\n",
    "    s = estimator(s_bar) # straight through estimator\n",
    "    return s\n",
    "\n",
    "def train_encoder_at_dB(dB, report=False):\n",
    "    SNR_dB = dB\n",
    "    SNR = 10**(SNR_dB/10)\n",
    "    sigma2 = 1/SNR\n",
    "\n",
    "    opt = optim.Adam( list(enc.parameters()) + list(dec.parameters()) + list(mapper.parameters()), lr=lr)\n",
    "\n",
    "\n",
    "    for j in range(nepochs):\n",
    "        logits = enc(torch.tensor([1], dtype=torch.float))\n",
    "\n",
    "        # Sample indexes\n",
    "        # onehot = sampler(probs, n, M)\n",
    "        onehot = nn.functional.gumbel_softmax(logits.expand(n, -1), tau=10, hard=True)\n",
    "        indices = torch.argmax(onehot, dim=1)\n",
    "\n",
    "        # Modulation\n",
    "        # with torch.no_grad():\n",
    "        alphabet_t = mapper(nn.functional.one_hot(torch.arange(M),M).float()).squeeze()\n",
    "        probs =  nn.functional.softmax(logits, -1)\n",
    "        norm_factor = torch.rsqrt(torch.sum(torch.pow(torch.abs(alphabet_t), 2) * probs))\n",
    "        alphabet_norm =  alphabet_t * norm_factor\n",
    "        symbols = torch.matmul(onehot, torch.transpose(input=alphabet_norm.reshape(1,-1), dim0=0, dim1=1))\n",
    "\n",
    "        # Channel\n",
    "        y = AWGN_channel(symbols, sigma2)\n",
    "\n",
    "        # Demodulator\n",
    "        ll = dec(y.reshape(-1,1))\n",
    "        # app = nn.functional.softmax(ll, 1) #Q(X|Y)\n",
    "\n",
    "        # Loss\n",
    "        loss = -(torch.sum(-probs*torch.log(probs)) - loss_fn(ll, indices.detach()))# -(H(X) - CE(P,Q)), the gradient descent minimizes, therefore we minimize the opposite to maximize the MI in the end.\n",
    "        opt.zero_grad()\n",
    "        loss.backward()\n",
    "\n",
    "        opt.step()\n",
    "\n",
    "        # Printout and visualization\n",
    "        if report and j % 500 == 0:\n",
    "            print(f'epoch {j}: Loss = {loss.detach().numpy() / np.log(2) :.4f}')\n",
    "\n",
    "    if False:\n",
    "        print('probs: ', probs)\n",
    "        plt.hist(symbols.detach().numpy(), bins=100)\n",
    "        plt.show()\n",
    "\n",
    "    return loss"
   ],
   "metadata": {
    "collapsed": false
   }
  },
  {
   "cell_type": "markdown",
   "id": "e53cf811",
   "metadata": {},
   "source": [
    "### Compare Results"
   ]
  },
  {
   "cell_type": "code",
   "execution_count": 29,
   "id": "07d1ab84",
   "metadata": {},
   "outputs": [],
   "source": [
    "def AWGN_channel_np(x, sigma2):\n",
    "    noise = np.sqrt(sigma2) * np.random.randn(x.size)\n",
    "    return x + noise"
   ]
  },
  {
   "cell_type": "code",
   "execution_count": 30,
   "id": "454c4d45",
   "metadata": {},
   "outputs": [],
   "source": [
    "def AWGNdemapper(y, const, varN):\n",
    "    apps = np.exp(-np.abs(np.transpose([y])-const)**2/(2*varN))\n",
    "    return apps / np.transpose([np.sum(apps, 1)])"
   ]
  },
  {
   "cell_type": "code",
   "execution_count": 31,
   "id": "8caf9ef2",
   "metadata": {},
   "outputs": [],
   "source": [
    "def xesmd(apps, idx):\n",
    "    \"\"\"\n",
    "    Estimates symbolwise equivocation from reference symbols indices and a posteriori probabilities.\n",
    "    \"\"\"\n",
    "    eq = -np.log(np.take_along_axis(apps, idx[:, None], axis=1) / np.transpose([np.sum(apps, 1)]))\n",
    "    eq[eq==np.inf] = 1000\n",
    "    return np.mean(eq)"
   ]
  },
  {
   "cell_type": "code",
   "execution_count": 3,
   "id": "6afb3b3b",
   "metadata": {},
   "outputs": [],
   "source": [
    "n = 10_000\n",
    "SNR_dBs = np.arange(5,22)\n",
    "M = 8\n",
    "alphabet = np.arange(-7,8,2)\n",
    "alphabet = alphabet / np.sqrt(np.mean(alphabet**2))\n",
    "indices = np.random.choice(np.arange(M), n)\n",
    "symbols = alphabet[indices]\n",
    "\n",
    "mi_64 = []\n",
    "mi_gcs = []\n",
    "for snrdB in SNR_dBs:\n",
    "    print('SNR: ', snrdB)\n",
    "    sigma2 = 1/(10**(snrdB/10))\n",
    "    sigma2 = sigma2\n",
    "    y = AWGN_channel_np(symbols, sigma2)\n",
    "    apps = AWGNdemapper(y, alphabet, sigma2)\n",
    "    xe = xesmd(apps, indices)\n",
    "    mi_64.append(2*(3 - (xe) / np.log(2)))\n",
    "    mi_gcs.append(-2*(train_encoder_at_dB(snrdB, report=True)).detach().numpy().tolist()/np.log(2))"
   ]
  },
  {
   "cell_type": "code",
   "execution_count": 10,
   "outputs": [],
   "source": [
    "mi_pas = [2.003341284436633, 2.292658066954688, 2.554683610537927, 2.848158933553844, 3.154347558086842, 3.4380587380826744, 3.7802969900283276, 4.075253427633475, 4.341019249907679, 4.646519943837226, 4.885983083453772, 5.097619430160718, 5.366562115961658, 5.545744992485489, 5.702222031511809, 5.8247455676741895, 5.899446576041752]"
   ],
   "metadata": {
    "collapsed": false
   }
  },
  {
   "cell_type": "code",
   "execution_count": 23,
   "outputs": [
    {
     "data": {
      "text/plain": "<Figure size 691.2x518.4 with 2 Axes>",
      "image/png": "[encoded data removed]"
     },
     "metadata": {
      "needs_background": "light"
     },
     "output_type": "display_data"
    }
   ],
   "source": [
    "# Plot\n",
    "plt.rcParams['figure.figsize'] = [8*1.2, 6*1.2]\n",
    "\n",
    "fig, ax1 = plt.subplots()\n",
    "ax1.plot(SNR_dBs, np.log2(1+10**(SNR_dBs/10)), color='black', label='AWGN Capacity')\n",
    "ax1.plot(SNR_dBs, mi_64, color='black', ls='--', label = '64QAM')\n",
    "\n",
    "ax1.plot(SNR_dBs, mi_pas, color='C0', marker='o', markersize=3, label='Learnt PCS')\n",
    "ax1.plot(SNR_dBs, mi_gcs, color='C1', marker='o', markersize=3, ls='-.', label='Learnt GeoPCS')\n",
    "\n",
    "ax1.legend(loc='upper left')\n",
    "ax1.grid()\n",
    "ax1.set_ylabel('bits per channel use')\n",
    "ax1.set_xlabel('SNR in dB')\n",
    "\n",
    "l, b, h, w = 0.6, .2, .2, .2\n",
    "ax2 = fig.add_axes([l, b, w, h])\n",
    "\n",
    "# plt.rcParams['figure.figsize'] = [4, 4]\n",
    "ax2.plot(SNR_dBs, np.log2(1+10**(SNR_dBs/10)), color='black', label='AWGN Capacity')\n",
    "ax2.plot(SNR_dBs, mi_64, color='black', ls='--', label = '64QAM')\n",
    "\n",
    "ax2.plot(SNR_dBs, mi_pas, color='C0', marker='o', markersize=3, label='Learnt PCS')\n",
    "ax2.plot(SNR_dBs, mi_gcs, color='C1', marker='o', markersize=3, ls='-.', label='Learnt GeoPCS')\n",
    "\n",
    "# plt.legend()\n",
    "ax2.grid()\n",
    "ax2.set_ylim([5.45,5.6])\n",
    "ax2.set_xlim([17.96,18.04])\n",
    "# plt.ylabel('bits per channel use')\n",
    "# plt.xlabel('SNR in dB')\n",
    "# tikzplotlib.save(\"stark_gcs_18dB_exp_tikz.tex\")\n",
    "plt.show()\n",
    "fig.savefig(\"embedded.pdf\", format=\"pdf\", dpi=600)\n"
   ],
   "metadata": {
    "collapsed": false
   }
  }
 ],
 "metadata": {
  "kernelspec": {
   "display_name": "Python 3 (ipykernel)",
   "language": "python",
   "name": "python3"
  },
  "language_info": {
   "codemirror_mode": {
    "name": "ipython",
    "version": 3
   },
   "file_extension": ".py",
   "mimetype": "text/x-python",
   "name": "python",
   "nbconvert_exporter": "python",
   "pygments_lexer": "ipython3",
   "version": "3.9.2"
  }
 },
 "nbformat": 4,
 "nbformat_minor": 5
}
