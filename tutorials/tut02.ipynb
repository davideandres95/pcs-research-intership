{
 "cells": [
  {
   "cell_type": "markdown",
   "id": "a050c8bb",
   "metadata": {
    "colab_type": "text",
    "id": "view-in-github"
   },
   "source": [
    "<a href=\"https://colab.research.google.com/github/davideandres95/ml_comm/blob/main/tut02.ipynb\" target=\"_parent\"><img src=\"https://colab.research.google.com/assets/colab-badge.svg\" alt=\"Open In Colab\"/></a>"
   ]
  },
  {
   "cell_type": "markdown",
   "id": "b263251f",
   "metadata": {
    "id": "b263251f"
   },
   "source": [
    "#  Tutorial 2: Information Measures and Nonlinear Equalizer\n",
    "October 28, 2021\n",
    "\n",
    "\n",
    "## Table of Contents\n",
    "\n",
    "\n",
    "*   1) Information Measures: \n",
    "*   2) How to build a NN in Pytorch:\n",
    "*   3) Equalizer Example"
   ]
  },
  {
   "cell_type": "code",
   "execution_count": 1,
   "id": "c5fc5ffc",
   "metadata": {
    "id": "c5fc5ffc"
   },
   "outputs": [],
   "source": [
    "import numpy as np\n",
    "\n",
    "import torch\n",
    "from torch import nn, optim\n",
    "import matplotlib.pyplot as plt"
   ]
  },
  {
   "cell_type": "markdown",
   "id": "9c228a16",
   "metadata": {
    "id": "9c228a16"
   },
   "source": [
    "## 1) Information Measures \n",
    "### Expectation\n",
    "\n",
    " $$E[f(X)] = \\sum_{a\\in \\chi}P_X(a)f(a) \\approx \\frac{1}{n} \\sum_{i=1}^n f(x_i)$$\n"
   ]
  },
  {
   "cell_type": "code",
   "execution_count": 2,
   "id": "fe27676d",
   "metadata": {
    "id": "fe27676d",
    "outputId": "3b9a7d82-f51b-448f-80e6-10c59a15d13c"
   },
   "outputs": [
    {
     "name": "stdout",
     "output_type": "stream",
     "text": [
      "Theoretical expectation\n",
      "0.0\n",
      "Empirical expectation as n grows larger:\n",
      "-0.02\n",
      "0.016\n",
      "-0.011\n",
      "0.00224\n",
      "-0.00238\n"
     ]
    }
   ],
   "source": [
    "pX = np.array( [0.5, 0.5])\n",
    "chi = np.array([-1,1])\n",
    "print('Theoretical expectation')\n",
    "print(np.dot(pX, chi))\n",
    "print('Empirical expectation as n grows larger:')\n",
    "for n in (100,1000,10000,100000,100000):\n",
    "    x = np.random.choice(chi, n, p=pX)\n",
    "    print(np.mean(x))\n",
    "    \n"
   ]
  },
  {
   "cell_type": "markdown",
   "id": "766e5257",
   "metadata": {
    "id": "766e5257"
   },
   "source": [
    "### Entropy\n",
    " $$ H(X) = \\sum_{a\\in supp(P_X)} - P_X(a)\\log_2 P_X(a) = E [-\\log_2 P_X(X)]\\approx - \\frac{1}{n} \\sum_{i=1}^n \\log_2 P_X(x_i) $$"
   ]
  },
  {
   "cell_type": "code",
   "execution_count": 3,
   "id": "ad75ffcf",
   "metadata": {
    "id": "ad75ffcf",
    "outputId": "add656c9-94b9-4373-c829-e08b430369ec"
   },
   "outputs": [
    {
     "name": "stdout",
     "output_type": "stream",
     "text": [
      "Theretical entropy: 1.722\n",
      "Empitrical entropy with 100 samples: 1.6804219309666115\n",
      "Empitrical entropy with 1000 samples: 1.7409549602398102\n",
      "Empitrical entropy with 1000000 samples: 1.722155577133135\n"
     ]
    }
   ],
   "source": [
    "pX = np.array([.1, .4, .4, .1]) \n",
    "chi = np.array([1,2,3,4])\n",
    "entropy_teory = np.dot(-pX, np.log2(pX))\n",
    "print(f'Theretical entropy: {entropy_teory:.3f}')\n",
    "for n in (100, 1000, 1000000):\n",
    "    x = np.random.choice(chi, n, p=pX)\n",
    "    entropy = 0\n",
    "    for i in chi:\n",
    "        count = np.count_nonzero(x==i)\n",
    "        pX_empirical = count / n\n",
    "        entropy += -(count) * np.log2(pX_empirical) \n",
    "    \n",
    "    entropy = entropy/n\n",
    "    print(f'Empitrical entropy with {n} samples: {entropy}')\n",
    "    \n"
   ]
  },
  {
   "cell_type": "markdown",
   "id": "7e3d4c7e",
   "metadata": {
    "id": "7e3d4c7e"
   },
   "source": [
    "## 2) Defining Neural Networks\n",
    "In the following, we show two methods to create NNs in Pytorch.\n",
    "### 1. nn.Sequential\n",
    "We use nn.Sequential to create simple sequential NNs."
   ]
  },
  {
   "cell_type": "code",
   "execution_count": 4,
   "id": "48c039bc",
   "metadata": {
    "id": "48c039bc",
    "outputId": "f975c579-e786-46ba-fb3e-46b1e1372c0c"
   },
   "outputs": [
    {
     "name": "stdout",
     "output_type": "stream",
     "text": [
      "Sequential(\n",
      "  (0): Linear(in_features=1, out_features=4, bias=True)\n",
      "  (1): ReLU()\n",
      "  (2): Linear(in_features=4, out_features=4, bias=True)\n",
      "  (3): ReLU()\n",
      "  (4): Linear(in_features=4, out_features=1, bias=True)\n",
      "  (5): Sigmoid()\n",
      ")\n",
      "Linear(in_features=4, out_features=4, bias=True)\n",
      "<bound method Module.parameters of Sequential(\n",
      "  (0): Linear(in_features=1, out_features=4, bias=True)\n",
      "  (1): ReLU()\n",
      "  (2): Linear(in_features=4, out_features=4, bias=True)\n",
      "  (3): ReLU()\n",
      "  (4): Linear(in_features=4, out_features=1, bias=True)\n",
      "  (5): Sigmoid()\n",
      ")>\n"
     ]
    }
   ],
   "source": [
    "net_seq = nn.Sequential(nn.Linear(1,4),\n",
    "                    nn.ReLU(),\n",
    "                    nn.Linear(4,4),\n",
    "                    nn.ReLU(),\n",
    "                    nn.Linear(4,1),\n",
    "                    nn.Sigmoid())\n",
    "\n",
    "\n",
    "print(net_seq)\n",
    "print(net_seq[2])\n",
    "print(net_seq.parameters)"
   ]
  },
  {
   "cell_type": "markdown",
   "id": "595dbb2b",
   "metadata": {
    "id": "595dbb2b"
   },
   "source": [
    "### NN as subclass of nn.Module\n",
    "We create our NN as a subclass of nn.Module. This gives us more flexibility in network design.\n",
    "* Create NN as child class of nn.Module\n",
    "* Use super() to inherit all the methods and properties from the partent class\n",
    "* Define learnable parameters and forward propagation"
   ]
  },
  {
   "cell_type": "code",
   "execution_count": 5,
   "id": "80a9cbcd",
   "metadata": {
    "id": "80a9cbcd",
    "outputId": "d6f523a3-2ec7-4e3b-d55c-07b2131e2164"
   },
   "outputs": [
    {
     "name": "stdout",
     "output_type": "stream",
     "text": [
      "creating NN with one hidden layer and 4 units\n",
      "Net(\n",
      "  (h1): Linear(in_features=1, out_features=4, bias=True)\n",
      "  (h2): Linear(in_features=4, out_features=4, bias=True)\n",
      "  (out): Linear(in_features=4, out_features=1, bias=False)\n",
      "  (act_h1): ReLU()\n",
      "  (act_h2): ReLU()\n",
      "  (act_out): Sigmoid()\n",
      ")\n",
      "<bound method Module.parameters of Net(\n",
      "  (h1): Linear(in_features=1, out_features=4, bias=True)\n",
      "  (h2): Linear(in_features=4, out_features=4, bias=True)\n",
      "  (out): Linear(in_features=4, out_features=1, bias=False)\n",
      "  (act_h1): ReLU()\n",
      "  (act_h2): ReLU()\n",
      "  (act_out): Sigmoid()\n",
      ")>\n"
     ]
    }
   ],
   "source": [
    "class Net(nn.Module):\n",
    "    def __init__(self,num_units=4,with_sigmoid=True):\n",
    "        print('creating NN with one hidden layer and {:d} units'.format(num_units))\n",
    "        super().__init__()\n",
    "        self.h1 = nn.Linear(1,num_units,bias=True)\n",
    "        self.h2 = nn.Linear(num_units,num_units,bias=True)\n",
    "        self.out = nn.Linear(num_units, 1, bias = False)\n",
    "        self.act_h1 = nn.ReLU()\n",
    "        self.act_h2 = nn.ReLU()\n",
    "        if with_sigmoid:\n",
    "            self.act_out = nn.Sigmoid()\n",
    "        else:\n",
    "            self.act_out = nn.Identity()\n",
    "        \n",
    "    def forward(self,x):\n",
    "        x = self.act_h1(self.h1(x))\n",
    "        x = self.act_h2(self.h2(x))\n",
    "        x = self.act_out(self.out(x))\n",
    "        return x\n",
    "    \n",
    "net = Net()\n",
    "print(net)\n",
    "print(net.parameters)"
   ]
  },
  {
   "cell_type": "markdown",
   "id": "7ffaff6a",
   "metadata": {
    "id": "7ffaff6a"
   },
   "source": [
    "## 3) Equalizer Example"
   ]
  },
  {
   "cell_type": "code",
   "execution_count": 6,
   "id": "c556aa13",
   "metadata": {
    "id": "c556aa13"
   },
   "outputs": [],
   "source": [
    "# Downsampling \n",
    "def downsample_td(signal, down):\n",
    "    assert len(signal.shape)==2, 'signal format [number_dimensions][signal_length] expected'\n",
    "    return down * signal[:, ::down]\n",
    "\n",
    "# Tensor to Numpy\n",
    "def t2n(x):\n",
    "    return x.reshape(-1).detach().numpy()\n",
    "\n",
    "# Sliding window \n",
    "def getchunks(x, num_taps):\n",
    "    x = x.reshape(-1, 1)\n",
    "    chunks = torch.zeros(x.shape[0], num_taps)\n",
    "    for j in range(num_taps):\n",
    "        chunks[:, j:j+1] = torch.roll(x, j - num_taps//2)\n",
    "    return chunks\n"
   ]
  },
  {
   "cell_type": "code",
   "execution_count": 7,
   "id": "76f22b36",
   "metadata": {
    "id": "76f22b36"
   },
   "outputs": [],
   "source": [
    "# Define Neural Newtwork \n",
    "class EQ(nn.Module):\n",
    "    def __init__(self, num_taps):\n",
    "        super().__init__()\n",
    "        self.num_taps = num_taps\n",
    "        self.lin1 = nn.Linear(num_taps, 50)\n",
    "        self.act1 = nn.ReLU()\n",
    "        self.lin2 = nn.Linear(50, 50)\n",
    "        self.act2 = nn.ReLU()\n",
    "        self.lin3 = nn.Linear(50, 50)\n",
    "        self.act3 = nn.ReLU()\n",
    "        self.lin4 = nn.Linear(50, 1)\n",
    "\n",
    "    def forward(self, y):\n",
    "        y = getchunks(y, self.num_taps)\n",
    "        y = self.act1(self.lin1(y))\n",
    "        y = self.act2(self.lin2(y))\n",
    "        y = self.act3(self.lin3(y))\n",
    "        return self.lin4(y)"
   ]
  },
  {
   "cell_type": "code",
   "execution_count": 8,
   "id": "Xrplmn2DpTKT",
   "metadata": {
    "id": "Xrplmn2DpTKT"
   },
   "outputs": [
    {
     "name": "stdout",
     "output_type": "stream",
     "text": [
      "--2021-12-02 12:44:05--  https://drive.google.com/uc?export=download&id=1LnsauugyC7-iK4EVlqghaEGZTPd6dfWG\n",
      "Resolving drive.google.com (drive.google.com)... 2a00:1450:4016:808::200e, 142.251.36.174\n",
      "Connecting to drive.google.com (drive.google.com)|2a00:1450:4016:808::200e|:443... connected.\n",
      "HTTP request sent, awaiting response... 302 Moved Temporarily\n",
      "Location: https://doc-00-24-docs.googleusercontent.com/docs/securesc/ha0ro937gcuc7l7deffksulhg5h7mbp1/94lg5jkc138j12155br3fqunk9qktcdm/1638445425000/12991615840348699698/*/1LnsauugyC7-iK4EVlqghaEGZTPd6dfWG?e=download [following]\n",
      "Warning: wildcards not supported in HTTP.\n",
      "--2021-12-02 12:44:06--  https://doc-00-24-docs.googleusercontent.com/docs/securesc/ha0ro937gcuc7l7deffksulhg5h7mbp1/94lg5jkc138j12155br3fqunk9qktcdm/1638445425000/12991615840348699698/*/1LnsauugyC7-iK4EVlqghaEGZTPd6dfWG?e=download\n",
      "Resolving doc-00-24-docs.googleusercontent.com (doc-00-24-docs.googleusercontent.com)... 2a00:1450:4016:80a::2001, 142.251.36.225\n",
      "Connecting to doc-00-24-docs.googleusercontent.com (doc-00-24-docs.googleusercontent.com)|2a00:1450:4016:80a::2001|:443... connected.\n",
      "HTTP request sent, awaiting response... 200 OK\n",
      "Length: 2900098 (2.8M) [text/plain]\n",
      "Saving to: ‘x.txt’\n",
      "\n",
      "x.txt               100%[===================>]   2.77M  10.0MB/s    in 0.3s    \n",
      "\n",
      "2021-12-02 12:44:07 (10.0 MB/s) - ‘x.txt’ saved [2900098/2900098]\n",
      "\n",
      "--2021-12-02 12:44:07--  https://drive.google.com/uc?export=download&id=1RoN0BNuoEM3oDwYrkYvZd-KLDqfX1pHD\n",
      "Resolving drive.google.com (drive.google.com)... 2a00:1450:4016:808::200e, 142.251.36.174\n",
      "Connecting to drive.google.com (drive.google.com)|2a00:1450:4016:808::200e|:443... connected.\n",
      "HTTP request sent, awaiting response... 302 Moved Temporarily\n",
      "Location: https://doc-00-24-docs.googleusercontent.com/docs/securesc/ha0ro937gcuc7l7deffksulhg5h7mbp1/8o8fd47d7p8ctlld1bpmpncjibqjto1e/1638445425000/12991615840348699698/*/1RoN0BNuoEM3oDwYrkYvZd-KLDqfX1pHD?e=download [following]\n",
      "Warning: wildcards not supported in HTTP.\n",
      "--2021-12-02 12:44:08--  https://doc-00-24-docs.googleusercontent.com/docs/securesc/ha0ro937gcuc7l7deffksulhg5h7mbp1/8o8fd47d7p8ctlld1bpmpncjibqjto1e/1638445425000/12991615840348699698/*/1RoN0BNuoEM3oDwYrkYvZd-KLDqfX1pHD?e=download\n",
      "Resolving doc-00-24-docs.googleusercontent.com (doc-00-24-docs.googleusercontent.com)... 2a00:1450:4016:80a::2001, 142.251.36.225\n",
      "Connecting to doc-00-24-docs.googleusercontent.com (doc-00-24-docs.googleusercontent.com)|2a00:1450:4016:80a::2001|:443... connected.\n",
      "HTTP request sent, awaiting response... 200 OK\n",
      "Length: 5800050 (5.5M) [text/plain]\n",
      "Saving to: ‘y.txt’\n",
      "\n",
      "y.txt               100%[===================>]   5.53M  11.0MB/s    in 0.5s    \n",
      "\n",
      "2021-12-02 12:44:09 (11.0 MB/s) - ‘y.txt’ saved [5800050/5800050]\n",
      "\n"
     ]
    }
   ],
   "source": [
    "# Load data\n",
    "# https://drive.google.com/file/d/1LnsauugyC7-iK4EVlqghaEGZTPd6dfWG/view?usp=sharing\n",
    "# https://drive.google.com/file/d/1RoN0BNuoEM3oDwYrkYvZd-KLDqfX1pHD/view?usp=sharing\n",
    "!wget -O x.txt \"https://drive.google.com/uc?export=download&id=1LnsauugyC7-iK4EVlqghaEGZTPd6dfWG\"\n",
    "!wget -O y.txt \"https://drive.google.com/uc?export=download&id=1RoN0BNuoEM3oDwYrkYvZd-KLDqfX1pHD\""
   ]
  },
  {
   "cell_type": "code",
   "execution_count": 9,
   "id": "7766c86d",
   "metadata": {
    "id": "7766c86d"
   },
   "outputs": [],
   "source": [
    "# Prepare data\n",
    "x = np.loadtxt('x.txt')\n",
    "y = np.loadtxt('y.txt')\n",
    "y_t = torch.Tensor(y.reshape(1, 1, -1))\n",
    "x_t = torch.Tensor(x.reshape(1, -1))\n",
    "\n",
    "ydown = downsample_td(np.reshape(y, (1,-1)),2)"
   ]
  },
  {
   "cell_type": "code",
   "execution_count": 10,
   "id": "c93ed8d3",
   "metadata": {
    "id": "c93ed8d3",
    "outputId": "5d37c696-dad1-4e94-eafe-d692f8475dae"
   },
   "outputs": [
    {
     "data": {
      "image/png": "[encoded data removed]",
      "text/plain": [
       "<Figure size 432x288 with 1 Axes>"
      ]
     },
     "metadata": {
      "needs_background": "light"
     },
     "output_type": "display_data"
    }
   ],
   "source": [
    "# Plot data\n",
    "plt.hist(ydown.reshape(-1), bins=np.arange(-3.5, 3.5, 0.1))\n",
    "plt.hist(x.reshape(-1), bins=np.arange(-3.5, 3.5, 0.1))\n",
    "plt.title('Downsampling only')\n",
    "plt.grid()"
   ]
  },
  {
   "cell_type": "code",
   "execution_count": 11,
   "id": "7ca63872",
   "metadata": {
    "id": "7ca63872"
   },
   "outputs": [],
   "source": [
    "# Initialize Filter\n",
    "num_taps = 41\n",
    "\n",
    "whichfilter = 'nonlinear'\n",
    "\n",
    "if whichfilter == 'linear':\n",
    "    nn_filter = nn.Conv1d (in_channels=1 ,\n",
    "                           out_channels=1 ,\n",
    "                           kernel_size=num_taps,\n",
    "                           padding='same' )\n",
    "elif whichfilter == 'nonlinear':\n",
    "    nn_filter = EQ(num_taps=3)\n"
   ]
  },
  {
   "cell_type": "code",
   "execution_count": 12,
   "id": "9ce49a3b",
   "metadata": {
    "id": "9ce49a3b"
   },
   "outputs": [],
   "source": [
    "# Define loss function and optimizer\n",
    "loss_fn = nn.MSELoss()\n",
    "optimizer = optim.Adam(nn_filter.parameters(), lr=0.1)"
   ]
  },
  {
   "cell_type": "code",
   "execution_count": 13,
   "id": "dee15645",
   "metadata": {
    "id": "dee15645",
    "outputId": "093a82bb-fcaf-4a3d-93a3-61a8986792ce"
   },
   "outputs": [
    {
     "name": "stdout",
     "output_type": "stream",
     "text": [
      "epoch 0: Loss = 5.2828\n"
     ]
    },
    {
     "data": {
      "image/png": "[encoded data removed]",
      "text/plain": [
       "<Figure size 432x288 with 1 Axes>"
      ]
     },
     "metadata": {
      "needs_background": "light"
     },
     "output_type": "display_data"
    },
    {
     "name": "stdout",
     "output_type": "stream",
     "text": [
      "epoch 50: Loss = 0.0896\n"
     ]
    },
    {
     "data": {
      "image/png": "[encoded data removed]",
      "text/plain": [
       "<Figure size 432x288 with 1 Axes>"
      ]
     },
     "metadata": {
      "needs_background": "light"
     },
     "output_type": "display_data"
    },
    {
     "name": "stdout",
     "output_type": "stream",
     "text": [
      "epoch 100: Loss = 0.0133\n"
     ]
    },
    {
     "data": {
      "image/png": "[encoded data removed]",
      "text/plain": [
       "<Figure size 432x288 with 1 Axes>"
      ]
     },
     "metadata": {
      "needs_background": "light"
     },
     "output_type": "display_data"
    },
    {
     "name": "stdout",
     "output_type": "stream",
     "text": [
      "epoch 150: Loss = 0.0072\n"
     ]
    },
    {
     "data": {
      "image/png": "[encoded data removed]",
      "text/plain": [
       "<Figure size 432x288 with 1 Axes>"
      ]
     },
     "metadata": {
      "needs_background": "light"
     },
     "output_type": "display_data"
    },
    {
     "name": "stdout",
     "output_type": "stream",
     "text": [
      "epoch 200: Loss = 0.0092\n"
     ]
    },
    {
     "data": {
      "image/png": "[encoded data removed]",
      "text/plain": [
       "<Figure size 432x288 with 1 Axes>"
      ]
     },
     "metadata": {
      "needs_background": "light"
     },
     "output_type": "display_data"
    },
    {
     "name": "stdout",
     "output_type": "stream",
     "text": [
      "epoch 250: Loss = 0.0061\n"
     ]
    },
    {
     "data": {
      "image/png": "[encoded data removed]",
      "text/plain": [
       "<Figure size 432x288 with 1 Axes>"
      ]
     },
     "metadata": {
      "needs_background": "light"
     },
     "output_type": "display_data"
    },
    {
     "name": "stdout",
     "output_type": "stream",
     "text": [
      "epoch 300: Loss = 0.0044\n"
     ]
    },
    {
     "data": {
      "image/png": "[encoded data removed]",
      "text/plain": [
       "<Figure size 432x288 with 1 Axes>"
      ]
     },
     "metadata": {
      "needs_background": "light"
     },
     "output_type": "display_data"
    },
    {
     "name": "stdout",
     "output_type": "stream",
     "text": [
      "epoch 350: Loss = 0.0034\n"
     ]
    },
    {
     "data": {
      "image/png": "[encoded data removed]",
      "text/plain": [
       "<Figure size 432x288 with 1 Axes>"
      ]
     },
     "metadata": {
      "needs_background": "light"
     },
     "output_type": "display_data"
    },
    {
     "name": "stdout",
     "output_type": "stream",
     "text": [
      "epoch 400: Loss = 0.0028\n"
     ]
    },
    {
     "data": {
      "image/png": "[encoded data removed]",
      "text/plain": [
       "<Figure size 432x288 with 1 Axes>"
      ]
     },
     "metadata": {
      "needs_background": "light"
     },
     "output_type": "display_data"
    },
    {
     "name": "stdout",
     "output_type": "stream",
     "text": [
      "epoch 450: Loss = 0.0058\n"
     ]
    },
    {
     "data": {
      "image/png": "[encoded data removed]",
      "text/plain": [
       "<Figure size 432x288 with 1 Axes>"
      ]
     },
     "metadata": {
      "needs_background": "light"
     },
     "output_type": "display_data"
    }
   ],
   "source": [
    "# Trainings loop\n",
    "for j in range(500):\n",
    "    x_hat = nn_filter(y_t).reshape(1, -1)\n",
    "    x_hat = downsample_td(x_hat, 2)\n",
    "    loss = loss_fn(x_hat, x_t)\n",
    "    optimizer.zero_grad()\n",
    "    loss.backward()\n",
    "    optimizer.step()\n",
    "    \n",
    "    # Printout and visualization\n",
    "    if j % 50 == 0:\n",
    "        print(f'epoch {j}: Loss = {loss.detach().numpy() :.4f}')\n",
    "        plt.hist(t2n(x_hat).reshape(-1), bins=np.arange(-3.5, 3.5, 0.1))\n",
    "        plt.hist(x.reshape(-1), bins=np.arange(-3.5, 3.5, 0.1))\n",
    "        plt.title(f'epoch {j}')\n",
    "        plt.grid()\n",
    "        plt.show()\n",
    "\n"
   ]
  },
  {
   "cell_type": "markdown",
   "id": "4a28ee36",
   "metadata": {
    "id": "4a28ee36"
   },
   "source": [
    "#### Test on different data set"
   ]
  },
  {
   "cell_type": "code",
   "execution_count": 14,
   "id": "5ce2ebdc",
   "metadata": {
    "id": "5ce2ebdc",
    "outputId": "9d31d952-10cc-4fb1-fe80-903b098f91f5"
   },
   "outputs": [
    {
     "name": "stdout",
     "output_type": "stream",
     "text": [
      "--2021-12-02 12:54:16--  https://drive.google.com/uc?export=download&id=1-sgo0dxjocooZCrzOLarj8_mXJgKysdF\n",
      "Resolving drive.google.com (drive.google.com)... 2a00:1450:4016:808::200e, 142.251.36.174\n",
      "Connecting to drive.google.com (drive.google.com)|2a00:1450:4016:808::200e|:443... connected.\n",
      "HTTP request sent, awaiting response... 302 Moved Temporarily\n",
      "Location: https://doc-08-24-docs.googleusercontent.com/docs/securesc/ha0ro937gcuc7l7deffksulhg5h7mbp1/nlhokb73fa8ffauu50rj2mps0g4a3iki/1638446025000/12991615840348699698/*/1-sgo0dxjocooZCrzOLarj8_mXJgKysdF?e=download [following]\n",
      "Warning: wildcards not supported in HTTP.\n",
      "--2021-12-02 12:54:16--  https://doc-08-24-docs.googleusercontent.com/docs/securesc/ha0ro937gcuc7l7deffksulhg5h7mbp1/nlhokb73fa8ffauu50rj2mps0g4a3iki/1638446025000/12991615840348699698/*/1-sgo0dxjocooZCrzOLarj8_mXJgKysdF?e=download\n",
      "Resolving doc-08-24-docs.googleusercontent.com (doc-08-24-docs.googleusercontent.com)... 2a00:1450:4016:809::2001, 142.251.36.193\n",
      "Connecting to doc-08-24-docs.googleusercontent.com (doc-08-24-docs.googleusercontent.com)|2a00:1450:4016:809::2001|:443... connected.\n",
      "HTTP request sent, awaiting response... 200 OK\n",
      "Length: 2900229 (2.8M) [text/plain]\n",
      "Saving to: ‘x1.txt’\n",
      "\n",
      "x1.txt              100%[===================>]   2.77M  10.4MB/s    in 0.3s    \n",
      "\n",
      "2021-12-02 12:54:17 (10.4 MB/s) - ‘x1.txt’ saved [2900229/2900229]\n",
      "\n",
      "--2021-12-02 12:54:18--  https://drive.google.com/uc?export=download&id=1j9s0HfyBQv3kB93Pkcs7NlOqQKRId6yT\n",
      "Resolving drive.google.com (drive.google.com)... 2a00:1450:4016:808::200e, 142.251.36.174\n",
      "Connecting to drive.google.com (drive.google.com)|2a00:1450:4016:808::200e|:443... connected.\n",
      "HTTP request sent, awaiting response... 302 Moved Temporarily\n",
      "Location: https://doc-0g-24-docs.googleusercontent.com/docs/securesc/ha0ro937gcuc7l7deffksulhg5h7mbp1/t5db2uv7htitjds81odu3k0of9c0ji90/1638446025000/12991615840348699698/*/1j9s0HfyBQv3kB93Pkcs7NlOqQKRId6yT?e=download [following]\n",
      "Warning: wildcards not supported in HTTP.\n",
      "--2021-12-02 12:54:18--  https://doc-0g-24-docs.googleusercontent.com/docs/securesc/ha0ro937gcuc7l7deffksulhg5h7mbp1/t5db2uv7htitjds81odu3k0of9c0ji90/1638446025000/12991615840348699698/*/1j9s0HfyBQv3kB93Pkcs7NlOqQKRId6yT?e=download\n",
      "Resolving doc-0g-24-docs.googleusercontent.com (doc-0g-24-docs.googleusercontent.com)... 2a00:1450:4016:809::2001, 142.251.36.193\n",
      "Connecting to doc-0g-24-docs.googleusercontent.com (doc-0g-24-docs.googleusercontent.com)|2a00:1450:4016:809::2001|:443... connected.\n",
      "HTTP request sent, awaiting response... 200 OK\n",
      "Length: 5800504 (5.5M) [text/plain]\n",
      "Saving to: ‘y1.txt’\n",
      "\n",
      "y1.txt              100%[===================>]   5.53M  10.9MB/s    in 0.5s    \n",
      "\n",
      "2021-12-02 12:54:19 (10.9 MB/s) - ‘y1.txt’ saved [5800504/5800504]\n",
      "\n",
      "Loss of the new data set: 0.0030\n"
     ]
    }
   ],
   "source": [
    "# Load a new data set \n",
    "# https://drive.google.com/file/d/1-sgo0dxjocooZCrzOLarj8_mXJgKysdF/view?usp=sharing\n",
    "# https://drive.google.com/file/d/1j9s0HfyBQv3kB93Pkcs7NlOqQKRId6yT/view?usp=sharing\n",
    "!wget -O x1.txt \"https://drive.google.com/uc?export=download&id=1-sgo0dxjocooZCrzOLarj8_mXJgKysdF\"\n",
    "!wget -O y1.txt \"https://drive.google.com/uc?export=download&id=1j9s0HfyBQv3kB93Pkcs7NlOqQKRId6yT\"\n",
    "\n",
    "\n",
    "x1 = np.loadtxt('x1.txt')\n",
    "y1 = np.loadtxt('y1.txt')\n",
    "y1_t = torch.Tensor(y.reshape(1, 1, -1))\n",
    "x1_t = torch.Tensor(x.reshape(1, -1))\n",
    "\n",
    "# Comupute filter output\n",
    "x1_hat = nn_filter(y1_t).reshape(1, -1)\n",
    "# Downsample\n",
    "x1_hat = downsample_td(x1_hat, 2)\n",
    "\n",
    "# Compute loss\n",
    "loss = loss_fn(x1_hat, x1_t)\n",
    "print(f'Loss of the new data set: {loss.detach().numpy() :.4f}')\n"
   ]
  },
  {
   "cell_type": "code",
   "execution_count": 15,
   "id": "5717dd3b",
   "metadata": {
    "id": "5717dd3b",
    "outputId": "61b7d47d-f334-4ea5-957e-7e7fa1919629"
   },
   "outputs": [
    {
     "data": {
      "image/png": "[encoded data removed]",
      "text/plain": [
       "<Figure size 432x288 with 1 Axes>"
      ]
     },
     "metadata": {
      "needs_background": "light"
     },
     "output_type": "display_data"
    }
   ],
   "source": [
    "# Plot \n",
    "plt.hist(t2n(x1_hat).reshape(-1), bins=np.arange(-3.5, 3.5, 0.1))\n",
    "plt.hist(x1.reshape(-1), bins=np.arange(-3.5, 3.5, 0.1))\n",
    "plt.grid()\n",
    "plt.show()"
   ]
  }
 ],
 "metadata": {
  "colab": {
   "collapsed_sections": [],
   "include_colab_link": true,
   "name": "tut02.ipynb",
   "provenance": []
  },
  "kernelspec": {
   "display_name": "Python 3 (ipykernel)",
   "language": "python",
   "name": "python3"
  },
  "language_info": {
   "codemirror_mode": {
    "name": "ipython",
    "version": 3
   },
   "file_extension": ".py",
   "mimetype": "text/x-python",
   "name": "python",
   "nbconvert_exporter": "python",
   "pygments_lexer": "ipython3",
   "version": "3.8.10"
  }
 },
 "nbformat": 4,
 "nbformat_minor": 5
}
