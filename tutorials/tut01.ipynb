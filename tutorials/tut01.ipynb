{
 "cells": [
  {
   "cell_type": "markdown",
   "metadata": {
    "colab_type": "text",
    "id": "view-in-github"
   },
   "source": [
    "<a href=\"https://colab.research.google.com/github/davideandres95/ml_comm/blob/main/tut01.ipynb\" target=\"_parent\"><img src=\"https://colab.research.google.com/assets/colab-badge.svg\" alt=\"Open In Colab\"/></a>"
   ]
  },
  {
   "cell_type": "markdown",
   "metadata": {
    "id": "D65Okar_b8-y"
   },
   "source": [
    "#  Tutorial 1: Introduction to Python and Equalizer in Pytorch\n",
    "October 21st, 2021\n",
    "\n",
    "In this tutorial, we will introduce the basic principles of Python and Pytorch. \n",
    "\n",
    "## Table of Contents\n",
    "\n",
    "\n",
    "*   1) Python Intro: \n",
    "    * Arrays\n",
    "    * Loops and Conditions\n",
    "    * Print formatting\n",
    "    * Plotting\n",
    "*   2) Pytorch Intro:\n",
    "    * Tensors\n",
    "* 3) Equalizer Example\n",
    "\n"
   ]
  },
  {
   "cell_type": "markdown",
   "metadata": {
    "id": "d5dt4143kZLv"
   },
   "source": [
    "## Jupyter Notebooks\n",
    "\n",
    "We will use Jupyter Notebooks during the whole semester.\n",
    "\n",
    "*   Jupyter Notebooks are composed of cells that can contain text (like this cell), images, LaTex, **code**,...\n",
    "*   Connects to a Python runtime environment in the background to execute code\n",
    "\n",
    "\n"
   ]
  },
  {
   "cell_type": "markdown",
   "metadata": {
    "id": "Syh7AHl3oo7I"
   },
   "source": [
    "## 1) Python Intro\n",
    "### Numpy Arrays"
   ]
  },
  {
   "cell_type": "code",
   "execution_count": 1,
   "metadata": {
    "id": "E_Vk6_2boo7J"
   },
   "outputs": [],
   "source": [
    "import numpy as np"
   ]
  },
  {
   "cell_type": "code",
   "execution_count": null,
   "metadata": {
    "colab": {
     "base_uri": "https://localhost:8080/"
    },
    "id": "wPAMorYioo7K",
    "outputId": "fea25674-7bee-4acc-ba85-652d2974f82d"
   },
   "outputs": [],
   "source": [
    "a = np.array([[1, 2, 3], [4, 5, 6]])\n",
    "print('Visualize the array: ')\n",
    "print(a)\n",
    "print('Number of elements in the array: ', a.size)\n",
    "print('Shape of the array: ', a.shape)\n",
    "print('Data type of the array: ', a.dtype)"
   ]
  },
  {
   "cell_type": "code",
   "execution_count": null,
   "metadata": {
    "colab": {
     "base_uri": "https://localhost:8080/"
    },
    "id": "GImA-Jkioo7L",
    "outputId": "09cf6b2c-d5b7-4b76-9235-e528140d5f59"
   },
   "outputs": [],
   "source": [
    "a = np.array([[1., 2., 3.], [4., 5., 6.]])\n",
    "a.dtype"
   ]
  },
  {
   "cell_type": "markdown",
   "metadata": {
    "id": "Nnh5P7wboo7L"
   },
   "source": [
    "#### Indexing, Slicing, Reshaping"
   ]
  },
  {
   "cell_type": "code",
   "execution_count": null,
   "metadata": {
    "colab": {
     "base_uri": "https://localhost:8080/"
    },
    "id": "pkrPQyxFoo7M",
    "outputId": "9d52a612-6f30-4d1b-e315-527c41ea31c9"
   },
   "outputs": [],
   "source": [
    "print('Access a single element: ', a[1,2])\n",
    "print('Access a row: ', a[0,:])\n",
    "print('Access a column: ', a[:,1])"
   ]
  },
  {
   "cell_type": "code",
   "execution_count": null,
   "metadata": {
    "colab": {
     "base_uri": "https://localhost:8080/"
    },
    "id": "AF4l1s_Aoo7N",
    "outputId": "c001bc7a-26cd-40b0-8ab6-620a8cac79ed"
   },
   "outputs": [],
   "source": [
    "print(np.reshape(a, (3,2)))\n",
    "print(np.reshape(a, (-1,6)))"
   ]
  },
  {
   "cell_type": "markdown",
   "metadata": {
    "id": "epaD0NZaoo7N"
   },
   "source": [
    "#### Passing by reference"
   ]
  },
  {
   "cell_type": "code",
   "execution_count": null,
   "metadata": {
    "colab": {
     "base_uri": "https://localhost:8080/"
    },
    "id": "fsdnqGGEoo7N",
    "outputId": "25261851-9182-4347-e46d-6b52c58905ba"
   },
   "outputs": [],
   "source": [
    "print('Array a before reference: ', a)\n",
    "b = a[:,0]\n",
    "b[:] = 8\n",
    "print('Array a after reference: ', a)\n",
    "\n"
   ]
  },
  {
   "cell_type": "code",
   "execution_count": null,
   "metadata": {
    "colab": {
     "base_uri": "https://localhost:8080/"
    },
    "id": "MGVr5pYroo7O",
    "outputId": "e9a50e57-a968-47f8-e444-bfec33adc26d"
   },
   "outputs": [],
   "source": [
    "# if real copies are needed\n",
    "a[:,0] = [1, 4] \n",
    "b = a[:,0].copy()\n",
    "b[:] = 8\n",
    "print(a)"
   ]
  },
  {
   "cell_type": "markdown",
   "metadata": {
    "id": "ZtQXmW-Coo7O"
   },
   "source": [
    "### Loops and conditions\n",
    "Be careful of the 0-indexing!"
   ]
  },
  {
   "cell_type": "code",
   "execution_count": null,
   "metadata": {
    "colab": {
     "base_uri": "https://localhost:8080/"
    },
    "id": "T50V7R5Goo7O",
    "outputId": "6cc42208-e134-43e4-cb40-d0c91f21f26e",
    "scrolled": true
   },
   "outputs": [],
   "source": [
    "for i in range(5):\n",
    "    print(i)"
   ]
  },
  {
   "cell_type": "code",
   "execution_count": null,
   "metadata": {
    "colab": {
     "base_uri": "https://localhost:8080/"
    },
    "id": "Bl72xXRboo7P",
    "outputId": "41169a49-bfc7-43cf-94ca-9baeddf4a9c4"
   },
   "outputs": [],
   "source": [
    "if a[0,0]==0:\n",
    "    print('first element is zero')\n",
    "elif a[0,0]==1:\n",
    "    print('first element is one')\n",
    "else:\n",
    "    print('first element is nor zero nor one')\n",
    "    "
   ]
  },
  {
   "cell_type": "markdown",
   "metadata": {
    "id": "OLOlEPTWoo7P"
   },
   "source": [
    "### Print formatting\n",
    "It is important to have feedback from the code."
   ]
  },
  {
   "cell_type": "code",
   "execution_count": null,
   "metadata": {
    "colab": {
     "base_uri": "https://localhost:8080/"
    },
    "id": "R_d3AE09oo7P",
    "outputId": "cf3d9db2-1cdd-4663-99c8-98e550dbf068"
   },
   "outputs": [],
   "source": [
    "n = 10\n",
    "m = 3\n",
    "print('The result of the division between {:d} and {:d} is {:.2f}.'.format(n,m,n/m))\n",
    "print(f'The result of the division between {n :d} and {m :d} is {n/m :.2f}.')"
   ]
  },
  {
   "cell_type": "markdown",
   "metadata": {
    "id": "jzBGogXaoo7Q"
   },
   "source": [
    "### Plotting"
   ]
  },
  {
   "cell_type": "code",
   "execution_count": null,
   "metadata": {
    "id": "luVqieDwoo7Q"
   },
   "outputs": [],
   "source": [
    "import matplotlib.pyplot as plt"
   ]
  },
  {
   "cell_type": "markdown",
   "metadata": {
    "id": "Pwz-sKTzoo7Q"
   },
   "source": [
    "#### Signal time plot"
   ]
  },
  {
   "cell_type": "code",
   "execution_count": null,
   "metadata": {
    "colab": {
     "base_uri": "https://localhost:8080/",
     "height": 296
    },
    "id": "mH8It1GMoo7Q",
    "outputId": "3c61cdcc-effc-4465-f3ae-225d92f892c4"
   },
   "outputs": [],
   "source": [
    "t = np.arange(0,10,0.1)\n",
    "y = np.sin(t)\n",
    "plt.plot(t,y, label='y=sin(t)')\n",
    "plt.grid()\n",
    "plt.xlabel('time t')\n",
    "plt.legend()"
   ]
  },
  {
   "cell_type": "markdown",
   "metadata": {
    "id": "q_cD0bT4oo7R"
   },
   "source": [
    "#### Constellation scatterplot"
   ]
  },
  {
   "cell_type": "code",
   "execution_count": null,
   "metadata": {
    "colab": {
     "base_uri": "https://localhost:8080/",
     "height": 265
    },
    "id": "4YDYLdwyoo7R",
    "outputId": "fcd23ba9-8756-4157-890a-3342f7eddcd8"
   },
   "outputs": [],
   "source": [
    "constellation = [1+1j, -1+1j, -1-1j, 1-1j]\n",
    "x = np.random.choice(constellation, 1000)\n",
    "noise = np.random.normal(0, 0.2, size=(1000,)) +  1j* np.random.normal(0, 0.2, size=(1000,))\n",
    "y = x + noise\n",
    "plt.scatter(np.real(y), np.imag(y))\n",
    "plt.scatter(np.real(x), np.imag(x), color='r')\n",
    "plt.grid()"
   ]
  },
  {
   "cell_type": "markdown",
   "metadata": {
    "id": "FiL3-dhuoo7R"
   },
   "source": [
    "#### Histogram"
   ]
  },
  {
   "cell_type": "code",
   "execution_count": null,
   "metadata": {
    "colab": {
     "base_uri": "https://localhost:8080/",
     "height": 265
    },
    "id": "VMZQRiBRoo7R",
    "outputId": "965ffec9-310a-4022-c292-cef4a32f9797"
   },
   "outputs": [],
   "source": [
    "x = np.random.normal(0,1,100000)\n",
    "plt.hist(x, bins=30);\n",
    "plt.grid()\n"
   ]
  },
  {
   "cell_type": "markdown",
   "metadata": {
    "id": "uZILepF7oo7S"
   },
   "source": [
    "## 2) Pytorch Intro\n",
    "Let's look at some basic manipulations of tensors."
   ]
  },
  {
   "cell_type": "code",
   "execution_count": 2,
   "metadata": {
    "id": "bX4_trDHoo7S"
   },
   "outputs": [],
   "source": [
    "import torch"
   ]
  },
  {
   "cell_type": "code",
   "execution_count": 4,
   "metadata": {
    "colab": {
     "base_uri": "https://localhost:8080/"
    },
    "id": "lz0kJg30oo7S",
    "outputId": "ab24ca3c-848b-4fba-d7d3-c73c40f2333e"
   },
   "outputs": [
    {
     "name": "stdout",
     "output_type": "stream",
     "text": [
      "tensor([5., 3.])\n",
      "torch.float32\n"
     ]
    }
   ],
   "source": [
    "a = torch.tensor([5., 3.])\n",
    "print(a)\n",
    "print(a.dtype)"
   ]
  },
  {
   "cell_type": "markdown",
   "metadata": {
    "id": "19qeKiFsoo7S"
   },
   "source": [
    "32-bit floating point numbers is the default data type in Pytorch. If desired, it can be overwritten."
   ]
  },
  {
   "cell_type": "code",
   "execution_count": 5,
   "metadata": {
    "colab": {
     "base_uri": "https://localhost:8080/"
    },
    "id": "N5EuCc_Ioo7T",
    "outputId": "4b32c470-e483-4895-9ac7-c3863ea34eea"
   },
   "outputs": [
    {
     "name": "stdout",
     "output_type": "stream",
     "text": [
      "tensor([5, 3], dtype=torch.int16)\n"
     ]
    }
   ],
   "source": [
    "a = torch.tensor([5, 3], dtype=torch.int16)\n",
    "print(a)"
   ]
  },
  {
   "cell_type": "markdown",
   "metadata": {
    "id": "EgePpfOloo7T"
   },
   "source": [
    "#### Pass by reference\n",
    "Numpy's ndarrays and Pytorch's tensors are highly compatible and it is easy to switch between them. \n",
    "This is a way to create an object with the same undelying memory. This means that chenges to the new tensor are reflected to the ndarray."
   ]
  },
  {
   "cell_type": "code",
   "execution_count": 6,
   "metadata": {
    "colab": {
     "base_uri": "https://localhost:8080/"
    },
    "id": "YuTG9VaKoo7T",
    "outputId": "d8365a7f-58d1-46de-f28e-7b26ba1aab55"
   },
   "outputs": [
    {
     "name": "stdout",
     "output_type": "stream",
     "text": [
      "[[1 2]\n",
      " [3 4]]\n",
      "tensor([1, 3])\n",
      "[[8 2]\n",
      " [8 4]]\n"
     ]
    }
   ],
   "source": [
    "a = np.array([[1,2],[3,4]])\n",
    "print(a)\n",
    "b = torch.from_numpy(a[:,0])\n",
    "print(b)\n",
    "b[:] = 8\n",
    "print(a)"
   ]
  },
  {
   "cell_type": "markdown",
   "metadata": {
    "id": "0NPNEl-Goo7T"
   },
   "source": [
    "The conversion works also in the other direction, with the same rule.\n"
   ]
  },
  {
   "cell_type": "code",
   "execution_count": 7,
   "metadata": {
    "colab": {
     "base_uri": "https://localhost:8080/"
    },
    "id": "JXjeakPioo7T",
    "outputId": "4d04acb9-988f-4a83-c602-c9cade88aa7b"
   },
   "outputs": [
    {
     "name": "stdout",
     "output_type": "stream",
     "text": [
      "tensor([[0.2275, 0.0531, 0.0097],\n",
      "        [0.8062, 0.1308, 0.4098]])\n",
      "[[0.22750545 0.05313653 0.00966662]\n",
      " [0.8061729  0.13081694 0.40975493]]\n"
     ]
    }
   ],
   "source": [
    "b = torch.rand(2,3)\n",
    "print(b)\n",
    "a = b.numpy()\n",
    "print(a)"
   ]
  },
  {
   "cell_type": "markdown",
   "metadata": {
    "id": "PpzMmh07oo7U"
   },
   "source": [
    "#### Copy from NumPy\n",
    "If we do not wish the two objects to use the same undelying memory, torch.tensor() creates a copy of the data."
   ]
  },
  {
   "cell_type": "code",
   "execution_count": null,
   "metadata": {
    "colab": {
     "base_uri": "https://localhost:8080/"
    },
    "id": "CLdTfHiLoo7U",
    "outputId": "e15e572e-6617-4f6b-bc7e-557fd0744161"
   },
   "outputs": [],
   "source": [
    "a = np.array([[1,2],[3,4]])\n",
    "b = torch.tensor(a)\n",
    "print(b)\n",
    "b[0,0]=8\n",
    "print(a)"
   ]
  },
  {
   "cell_type": "markdown",
   "metadata": {
    "id": "X9A7y-yAoo7U"
   },
   "source": [
    "#### Maths \n",
    "Tensors performs mathematic and arithmetic operations intuitively, and very similar to Numpy."
   ]
  },
  {
   "cell_type": "code",
   "execution_count": null,
   "metadata": {
    "colab": {
     "base_uri": "https://localhost:8080/"
    },
    "id": "aqFyd-tsoo7U",
    "outputId": "580d38c0-c638-430a-a2da-cbfe3b59dd56"
   },
   "outputs": [],
   "source": [
    "ones = torch.ones(2,3)\n",
    "print(ones)\n",
    "twos = ones * 2\n",
    "print(twos)\n",
    "threes = ones + twos\n",
    "print(threes)"
   ]
  },
  {
   "cell_type": "code",
   "execution_count": null,
   "metadata": {
    "colab": {
     "base_uri": "https://localhost:8080/"
    },
    "id": "B5uJCK2qoo7U",
    "outputId": "ceffc649-30f4-4903-dd7c-34b7d96b5059"
   },
   "outputs": [],
   "source": [
    "m = torch.rand((10,10)) # matrix of random numbers between 0 and 1\n",
    "print('Max value of the matrix: ', torch.max(m))\n",
    "print('Mean value of the matrix: ', torch.mean(m))\n",
    "print('Determinant of the matrix: ', torch.det(m))"
   ]
  },
  {
   "cell_type": "markdown",
   "metadata": {
    "id": "fK9NdEiMTnAV"
   },
   "source": [
    "## 3) Equalizer example"
   ]
  },
  {
   "cell_type": "code",
   "execution_count": 9,
   "metadata": {
    "id": "s7de147xoo7U"
   },
   "outputs": [],
   "source": [
    "from torch import nn, optim\n",
    "import matplotlib.pyplot as plt"
   ]
  },
  {
   "cell_type": "code",
   "execution_count": 10,
   "metadata": {
    "id": "Tf6OcDDSoo7V"
   },
   "outputs": [],
   "source": [
    "def downsample_td(signal, down):\n",
    "    assert len(signal.shape)==2, 'signal format [number_dimensions][signal_length] expected'\n",
    "    return down * signal[:, ::down]"
   ]
  },
  {
   "cell_type": "code",
   "execution_count": 11,
   "metadata": {
    "id": "GSs_8vP4oo7V"
   },
   "outputs": [],
   "source": [
    "# Initialize Filter\n",
    "num_taps = 41\n",
    "nn_filter = nn.Conv1d (in_channels=1 ,\n",
    "                       out_channels=1 ,\n",
    "                       kernel_size=num_taps,\n",
    "                       padding='same' )"
   ]
  },
  {
   "cell_type": "code",
   "execution_count": 26,
   "metadata": {
    "collapsed": true,
    "id": "ibr1w-uDPlXO"
   },
   "outputs": [
    {
     "name": "stdout",
     "output_type": "stream",
     "text": [
      "--2021-12-02 12:26:28--  https://drive.google.com/uc?export=download&id=18wBNg-3RH0waZ-PhJAsrS99PrqOODKYU\n",
      "Resolving drive.google.com (drive.google.com)... 2a00:1450:4016:808::200e, 142.251.36.174\n",
      "Connecting to drive.google.com (drive.google.com)|2a00:1450:4016:808::200e|:443... connected.\n",
      "HTTP request sent, awaiting response... 302 Moved Temporarily\n",
      "Location: https://doc-0c-24-docs.googleusercontent.com/docs/securesc/ha0ro937gcuc7l7deffksulhg5h7mbp1/d4dk75ijojc5dk85hrfbqbk77n8t9aqa/1638444375000/12991615840348699698/*/18wBNg-3RH0waZ-PhJAsrS99PrqOODKYU?e=download [following]\n",
      "Warning: wildcards not supported in HTTP.\n",
      "--2021-12-02 12:26:29--  https://doc-0c-24-docs.googleusercontent.com/docs/securesc/ha0ro937gcuc7l7deffksulhg5h7mbp1/d4dk75ijojc5dk85hrfbqbk77n8t9aqa/1638444375000/12991615840348699698/*/18wBNg-3RH0waZ-PhJAsrS99PrqOODKYU?e=download\n",
      "Resolving doc-0c-24-docs.googleusercontent.com (doc-0c-24-docs.googleusercontent.com)... 2a00:1450:4016:809::2001, 142.251.36.193\n",
      "Connecting to doc-0c-24-docs.googleusercontent.com (doc-0c-24-docs.googleusercontent.com)|2a00:1450:4016:809::2001|:443... connected.\n",
      "HTTP request sent, awaiting response... 200 OK\n",
      "Length: 2899810 (2.8M) [text/plain]\n",
      "Saving to: ‘x.txt’\n",
      "\n",
      "x.txt               100%[===================>]   2.76M  9.07MB/s    in 0.3s    \n",
      "\n",
      "2021-12-02 12:26:30 (9.07 MB/s) - ‘x.txt’ saved [2899810/2899810]\n",
      "\n",
      "--2021-12-02 12:26:30--  https://drive.google.com/uc?export=download&id=1a3f16dFKTgr_K7zKCZfLIaZYfAz0__Cd\n",
      "Resolving drive.google.com (drive.google.com)... 2a00:1450:4016:808::200e, 142.251.36.174\n",
      "Connecting to drive.google.com (drive.google.com)|2a00:1450:4016:808::200e|:443... connected.\n",
      "HTTP request sent, awaiting response... 302 Moved Temporarily\n",
      "Location: https://doc-10-24-docs.googleusercontent.com/docs/securesc/ha0ro937gcuc7l7deffksulhg5h7mbp1/kl7mgkco3v9p15n0dbb115a8882artts/1638444375000/12991615840348699698/*/1a3f16dFKTgr_K7zKCZfLIaZYfAz0__Cd?e=download [following]\n",
      "Warning: wildcards not supported in HTTP.\n",
      "--2021-12-02 12:26:31--  https://doc-10-24-docs.googleusercontent.com/docs/securesc/ha0ro937gcuc7l7deffksulhg5h7mbp1/kl7mgkco3v9p15n0dbb115a8882artts/1638444375000/12991615840348699698/*/1a3f16dFKTgr_K7zKCZfLIaZYfAz0__Cd?e=download\n",
      "Resolving doc-10-24-docs.googleusercontent.com (doc-10-24-docs.googleusercontent.com)... 2a00:1450:4016:809::2001, 142.251.36.193\n",
      "Connecting to doc-10-24-docs.googleusercontent.com (doc-10-24-docs.googleusercontent.com)|2a00:1450:4016:809::2001|:443... connected.\n",
      "HTTP request sent, awaiting response... 200 OK\n",
      "Length: 5799721 (5.5M) [text/plain]\n",
      "Saving to: ‘y.txt’\n",
      "\n",
      "y.txt               100%[===================>]   5.53M  10.6MB/s    in 0.5s    \n",
      "\n",
      "2021-12-02 12:26:32 (10.6 MB/s) - ‘y.txt’ saved [5799721/5799721]\n",
      "\n"
     ]
    }
   ],
   "source": [
    "# Import data\n",
    "# https://drive.google.com/file/d/18wBNg-3RH0waZ-PhJAsrS99PrqOODKYU/view?usp=sharing\n",
    "# https://drive.google.com/file/d/1a3f16dFKTgr_K7zKCZfLIaZYfAz0__Cd/view?usp=sharing\n",
    "!wget -O x.txt \"https://drive.google.com/uc?export=download&id=18wBNg-3RH0waZ-PhJAsrS99PrqOODKYU\"\n",
    "!wget -O y.txt \"https://drive.google.com/uc?export=download&id=1a3f16dFKTgr_K7zKCZfLIaZYfAz0__Cd\""
   ]
  },
  {
   "cell_type": "code",
   "execution_count": 13,
   "metadata": {
    "collapsed": true,
    "id": "Lw8kIEuaoo7V"
   },
   "outputs": [],
   "source": [
    "# Prepare data\n",
    "x = np.loadtxt('x.txt')\n",
    "y = np.loadtxt('y.txt')\n",
    "y_t = torch.Tensor(y.reshape(1, 1, -1))\n",
    "x_t = torch.Tensor(x.reshape(1, -1))"
   ]
  },
  {
   "cell_type": "code",
   "execution_count": 21,
   "metadata": {
    "id": "z-YJDuQtoo7V"
   },
   "outputs": [],
   "source": [
    "# Define loss function and optimizer\n",
    "loss_fn = nn.MSELoss()\n",
    "optimizer = optim.Adam(nn_filter.parameters())"
   ]
  },
  {
   "cell_type": "code",
   "execution_count": 22,
   "metadata": {
    "colab": {
     "base_uri": "https://localhost:8080/"
    },
    "id": "zOyVHAHMoo7V",
    "outputId": "da321238-235d-444d-bdad-b509767425b4"
   },
   "outputs": [
    {
     "data": {
      "text/plain": [
       "[Parameter containing:\n",
       " tensor([[[-0.0692,  0.0177,  0.1310,  0.0047,  0.0676,  0.0065, -0.1081,\n",
       "           -0.0537, -0.0231, -0.0037, -0.0628,  0.1438,  0.0330, -0.0622,\n",
       "            0.0337, -0.0726, -0.0469, -0.0779,  0.0354, -0.1058,  0.0141,\n",
       "           -0.1159,  0.0701, -0.0715, -0.0143,  0.0981,  0.0404,  0.0840,\n",
       "            0.0337, -0.0128, -0.0864,  0.0468, -0.1498, -0.0626,  0.0799,\n",
       "           -0.0996,  0.0312,  0.0607, -0.0237, -0.0053,  0.0332]]],\n",
       "        requires_grad=True),\n",
       " Parameter containing:\n",
       " tensor([0.1479], requires_grad=True)]"
      ]
     },
     "execution_count": 22,
     "metadata": {},
     "output_type": "execute_result"
    }
   ],
   "source": [
    "[p for p in nn_filter.parameters()]"
   ]
  },
  {
   "cell_type": "code",
   "execution_count": 23,
   "metadata": {
    "colab": {
     "background_save": true,
     "base_uri": "https://localhost:8080/"
    },
    "id": "SpRt0vKSoo7V",
    "outputId": "d570172e-daaf-493e-dc72-9a80d9dd6dd9"
   },
   "outputs": [
    {
     "name": "stdout",
     "output_type": "stream",
     "text": [
      "epoch 0: Loss = 6.9629\n",
      "epoch 50: Loss = 4.7898\n",
      "epoch 100: Loss = 3.3833\n",
      "epoch 150: Loss = 2.3663\n",
      "epoch 200: Loss = 1.6268\n",
      "epoch 250: Loss = 1.0970\n",
      "epoch 300: Loss = 0.7257\n",
      "epoch 350: Loss = 0.4717\n",
      "epoch 400: Loss = 0.3022\n",
      "epoch 450: Loss = 0.1918\n",
      "epoch 500: Loss = 0.1215\n",
      "epoch 550: Loss = 0.0775\n",
      "epoch 600: Loss = 0.0505\n",
      "epoch 650: Loss = 0.0340\n",
      "epoch 700: Loss = 0.0240\n",
      "epoch 750: Loss = 0.0179\n",
      "epoch 800: Loss = 0.0141\n",
      "epoch 850: Loss = 0.0117\n",
      "epoch 900: Loss = 0.0101\n",
      "epoch 950: Loss = 0.0089\n"
     ]
    }
   ],
   "source": [
    "# Trainings loop\n",
    "for j in range(1000):\n",
    "    x_hat = nn_filter(y_t).reshape(1, -1)\n",
    "    x_hat = downsample_td(x_hat, 2)\n",
    "    loss = loss_fn(x_hat, x_t)\n",
    "    optimizer.zero_grad()\n",
    "    loss.backward()\n",
    "    optimizer.step()\n",
    "    \n",
    "    if j % 50 == 0:\n",
    "        print(f'epoch {j}: Loss = {loss.detach().numpy() :.4f}')"
   ]
  },
  {
   "cell_type": "code",
   "execution_count": 24,
   "metadata": {
    "colab": {
     "background_save": true
    },
    "id": "yrDaMx9aoo7W",
    "outputId": "f4f7a0fa-345c-4f98-e865-0c43bf820b6b"
   },
   "outputs": [
    {
     "data": {
      "image/png": "[encoded data removed]",
      "text/plain": [
       "<Figure size 432x288 with 1 Axes>"
      ]
     },
     "metadata": {
      "needs_background": "light"
     },
     "output_type": "display_data"
    }
   ],
   "source": [
    "plt.hist(downsample_td(y.reshape(1,-1), 2).reshape(-1), bins=np.arange(-5, 5, 0.1))\n",
    "plt.grid()"
   ]
  },
  {
   "cell_type": "code",
   "execution_count": 25,
   "metadata": {
    "colab": {
     "background_save": true
    },
    "id": "y_2tv8AIoo7W",
    "outputId": "31c9b164-f390-4f2b-b2dc-92c485376cc6"
   },
   "outputs": [
    {
     "data": {
      "image/png": "[encoded data removed]",
      "text/plain": [
       "<Figure size 432x288 with 1 Axes>"
      ]
     },
     "metadata": {
      "needs_background": "light"
     },
     "output_type": "display_data"
    }
   ],
   "source": [
    "plt.hist(x_hat.detach().numpy().reshape(-1), bins=np.arange(-5, 5, 0.1));\n",
    "plt.grid()"
   ]
  }
 ],
 "metadata": {
  "@webio": {
   "lastCommId": null,
   "lastKernelId": null
  },
  "colab": {
   "collapsed_sections": [],
   "include_colab_link": true,
   "name": "tut01.ipynb",
   "provenance": []
  },
  "kernelspec": {
   "display_name": "Python 3 (ipykernel)",
   "language": "python",
   "name": "python3"
  },
  "language_info": {
   "codemirror_mode": {
    "name": "ipython",
    "version": 3
   },
   "file_extension": ".py",
   "mimetype": "text/x-python",
   "name": "python",
   "nbconvert_exporter": "python",
   "pygments_lexer": "ipython3",
   "version": "3.8.10"
  }
 },
 "nbformat": 4,
 "nbformat_minor": 1
}
