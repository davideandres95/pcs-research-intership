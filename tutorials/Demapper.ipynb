{
 "cells": [
  {
   "cell_type": "markdown",
   "id": "d8a0945f",
   "metadata": {
    "colab_type": "text",
    "id": "view-in-github"
   },
   "source": [
    "<a href=\"https://colab.research.google.com/github/davideandres95/ml_comm/blob/main/tut03.ipynb\" target=\"_parent\"><img src=\"https://colab.research.google.com/assets/colab-badge.svg\" alt=\"Open In Colab\"/></a>"
   ]
  },
  {
   "cell_type": "markdown",
   "id": "a9d46695",
   "metadata": {
    "id": "a9d46695"
   },
   "source": [
    "#  Tutorial 3: \n",
    "November 4, 2021\n",
    "\n"
   ]
  },
  {
   "cell_type": "code",
   "execution_count": 1,
   "id": "bb946bb8",
   "metadata": {
    "id": "bb946bb8"
   },
   "outputs": [],
   "source": [
    "import torch\n",
    "from torch import nn, optim\n",
    "import numpy as np\n",
    "import matplotlib.pyplot as plt"
   ]
  },
  {
   "cell_type": "markdown",
   "id": "0436ae31",
   "metadata": {
    "id": "0436ae31"
   },
   "source": [
    "### Problem 3.1 - Numeric stability\n",
    "Consider the code :"
   ]
  },
  {
   "cell_type": "code",
   "execution_count": 2,
   "id": "1e3cba89",
   "metadata": {
    "id": "1e3cba89"
   },
   "outputs": [],
   "source": [
    "def f64(x):\n",
    "    x = x.type(torch.float64)\n",
    "    x = torch.exp(x)\n",
    "    return torch.log(x)\n",
    "\n",
    "def f16(x):\n",
    "    x = x.type(torch.float16)\n",
    "    return x"
   ]
  },
  {
   "cell_type": "markdown",
   "id": "a5b98a64",
   "metadata": {
    "id": "a5b98a64"
   },
   "source": [
    "1. What is the smallest integer value x for which f64(x)!=x?"
   ]
  },
  {
   "cell_type": "code",
   "execution_count": 3,
   "id": "5f0dd389",
   "metadata": {
    "colab": {
     "base_uri": "https://localhost:8080/"
    },
    "id": "5f0dd389",
    "outputId": "3abf598c-0535-454f-a23d-c065a9d56212"
   },
   "outputs": [
    {
     "name": "stdout",
     "output_type": "stream",
     "text": [
      "expected: 710, f64(710)=inf\n"
     ]
    }
   ],
   "source": [
    "for L_expected in torch.arange(0, 1000):\n",
    "    L_actual = f64(L_expected)\n",
    "    if L_expected != L_actual:\n",
    "        break\n",
    "print(f'expected: {L_expected}, f64({L_expected})={f64(L_expected)}')"
   ]
  },
  {
   "cell_type": "markdown",
   "id": "e8a78e44",
   "metadata": {
    "id": "e8a78e44"
   },
   "source": [
    "2. For the value x determined in 1., do you have f16(x)=x?"
   ]
  },
  {
   "cell_type": "code",
   "execution_count": 4,
   "id": "82930f49",
   "metadata": {
    "colab": {
     "base_uri": "https://localhost:8080/"
    },
    "id": "82930f49",
    "outputId": "390e15c6-688f-4de7-e779-0335fa26e0b8"
   },
   "outputs": [
    {
     "name": "stdout",
     "output_type": "stream",
     "text": [
      "f16(710)=710.0\n"
     ]
    }
   ],
   "source": [
    "print(f'f16({L_expected})={f16(L_expected)}')"
   ]
  },
  {
   "cell_type": "markdown",
   "id": "3f08ab8d",
   "metadata": {
    "id": "3f08ab8d"
   },
   "source": [
    "3. Repeat the analysis for 1. and 2. to compare a float64 implementation of the log-\n",
    "sum-exp expression on the left-hand side of (3.15) to a float16 implementation\n",
    "of the right-hand side of .\n",
    "\n",
    "$$ \\log_2 \\big( \\sum_{j=0}^{M-1}  e^{\\ell_j}\\big) = \\ell^*  \\log_2(e) + \\log_2 \\big(\\sum_{j=0}^{M-1} e^{\\ell_j-\\ell*}\\big)$$\n",
    "\n",
    " $$  \\ell^* = \\max \\{ \\ell_0,\\dots, \\ell_{M-1} \\}$$"
   ]
  },
  {
   "cell_type": "code",
   "execution_count": 5,
   "id": "46d84584",
   "metadata": {
    "id": "46d84584"
   },
   "outputs": [],
   "source": [
    "def left_hand_side_64(likelihoods):\n",
    "    likelihoods = likelihoods.type(torch.float64)\n",
    "    \n",
    "    return(torch.log2(torch.sum(torch.exp(likelihoods))))"
   ]
  },
  {
   "cell_type": "code",
   "execution_count": 6,
   "id": "135790e7",
   "metadata": {
    "id": "135790e7"
   },
   "outputs": [],
   "source": [
    "def rigth_hand_side_32(likelihoods):\n",
    "    likelihoods = likelihoods.type(torch.float32)\n",
    "    l_star = torch.max(likelihoods)\n",
    "    diff = likelihoods - l_star\n",
    "    return(l_star*torch.log2(torch.exp(torch.tensor(1.))) + torch.log2(torch.sum(torch.exp(diff))))"
   ]
  },
  {
   "cell_type": "code",
   "execution_count": 7,
   "id": "4d8eb308",
   "metadata": {
    "colab": {
     "base_uri": "https://localhost:8080/"
    },
    "id": "4d8eb308",
    "outputId": "096328f6-f19c-44eb-edb4-4dd6e8ecb5b9"
   },
   "outputs": [
    {
     "name": "stdout",
     "output_type": "stream",
     "text": [
      "Left hand side with float 64: 18.755\n",
      "Rigth hand side with float 32: 18.755\n"
     ]
    }
   ],
   "source": [
    "likelihoods = torch.tensor([1, 4, 13, 2])\n",
    "print(f'Left hand side with float 64: {left_hand_side_64(likelihoods):.3f}')\n",
    "print(f'Rigth hand side with float 32: {rigth_hand_side_32(likelihoods):.3f}')"
   ]
  },
  {
   "cell_type": "markdown",
   "id": "471ac20e",
   "metadata": {
    "id": "471ac20e"
   },
   "source": [
    "### Problem 3.2 - How good is the simple AWGN NN Demapper?\n"
   ]
  },
  {
   "cell_type": "code",
   "execution_count": 8,
   "id": "95dcb065",
   "metadata": {
    "id": "95dcb065"
   },
   "outputs": [],
   "source": [
    "def mapper(msg, alphabet=np.array([-3., -1., 1., 3.])):\n",
    "    return alphabet[msg]\n",
    "\n",
    "def awgn_channel(x, snr, seed=None):\n",
    "    rng = np.random.Generator(np.random.PCG64(seed))\n",
    "    power_x = np.mean(np.abs(X) ** 2)\n",
    "    noise_power = power_x / snr\n",
    "    noise = np.sqrt(noise_power) * rng.normal(size=x.shape) \n",
    "    return x + noise "
   ]
  },
  {
   "cell_type": "markdown",
   "id": "24ae69c8",
   "metadata": {
    "id": "24ae69c8"
   },
   "source": [
    "1. Calculate $P_{A|Y} (\\cdot|y)$ in terms of channel output $y$, mapper function $\\phi$, and noise\n",
    "variance $\\sigma^2_z$.\n",
    "\n",
    "$$ P_{A|Y}(a|y) = \\frac{P_A(a) P_{Y|A}(a|y)}{P_Y(y)} = \\frac{P_A(a) P_{Y|A}(a|y)}{\\sum_{j=0}^{M-1} P_{A(j)} P_{Y|A}(y|j)} $$ with $$P_{Y|A}(a|y) = \\frac{1}{\\sqrt{2 \\pi \\sigma_z ^2}} e ^{-\\frac{1}{2 \\sigma^2}(y-a)^2}$$"
   ]
  },
  {
   "cell_type": "markdown",
   "id": "b6103b61",
   "metadata": {
    "id": "b6103b61"
   },
   "source": [
    "2. Suppose A is uniformly distributed. The signal-to-noise ratio (SNR) in dB is \n",
    "$$\\text{SNRdB} = 10 \\log\\frac{E(X^2)}{E(Z^2)}.$$\n",
    "For SNRdB = {5, 6, 7, ... , 10}, use sample sequences to calculate an equivocation estimate $\\hat{H}(M|Y)$ and plot the mutual information estimate:\n",
    "$$I(A; Y ) = H(A) - \\hat{H}(A|Y ) $$ [bits]"
   ]
  },
  {
   "cell_type": "code",
   "execution_count": 9,
   "id": "10bb43b4",
   "metadata": {
    "colab": {
     "base_uri": "https://localhost:8080/",
     "height": 279
    },
    "id": "10bb43b4",
    "outputId": "a76e75b1-d61d-4481-d002-12dcb0cefbe9"
   },
   "outputs": [
    {
     "data": {
      "image/png": "[encoded data removed]",
      "text/plain": [
       "<Figure size 432x288 with 1 Axes>"
      ]
     },
     "metadata": {
      "needs_background": "light"
     },
     "output_type": "display_data"
    }
   ],
   "source": [
    "M = 4 # cardinality of the alphabet\n",
    "chi = [-3., -1., 1., 3.] # alphabet\n",
    "a = np.random.choice(M,10000) # messages\n",
    "X = mapper(a) # symbols\n",
    "\n",
    "def calculate_py_given_x(x, y, sigma2):\n",
    "    return (1/(np.sqrt(2*np.pi*sigma2))) * np.exp(-(y-x)**2/sigma2/2) \n",
    "\n",
    "\n",
    "def calculate_px_given_y(x, y, sigma2, chi):\n",
    "    py = 0\n",
    "    for i in chi:\n",
    "        py += 0.25 * calculate_py_given_x(i, y, sigma2)  \n",
    "    pxy = 0.25 * calculate_py_given_x(x, y, sigma2) / py\n",
    "    return pxy\n",
    "\n",
    "\n",
    "SNRdBs = np.array([5,6,7,8,9,10])\n",
    "mi = np.zeros(SNRdBs.size)\n",
    "SNRs = 10**(SNRdBs/10)\n",
    "for idx,snr in enumerate(SNRs):\n",
    "    Y = awgn_channel(X, snr)\n",
    "    pxy = calculate_px_given_y(X, Y, np.mean(np.abs(X) ** 2)/snr, chi)\n",
    "    mi[idx] = np.log2(M)-(-np.mean(np.log2(pxy)))\n",
    "\n",
    "plt.plot(SNRdBs, mi, label='MI (analytical)')\n",
    "plt.plot(SNRdBs, 0.5 * np.log2(1+ SNRs), label='AWGN Capacity') \n",
    "plt.xlabel('SNR [dB]')\n",
    "plt.ylabel('Mutual Information')\n",
    "plt.legend()\n",
    "plt.grid()"
   ]
  },
  {
   "cell_type": "markdown",
   "id": "1b0b3b9a",
   "metadata": {
    "id": "1b0b3b9a"
   },
   "source": [
    "3. For each SNR value from 2., train an AWGN NN demapper as in Figure 3.6 using\n",
    "the cross equivocation cost for log probabilities (3.18).\n",
    "\n"
   ]
  },
  {
   "cell_type": "code",
   "execution_count": 10,
   "id": "f196bd87",
   "metadata": {
    "id": "f196bd87"
   },
   "outputs": [],
   "source": [
    "class awgn_demapper(nn.Module):\n",
    "    def __init__(self):\n",
    "        super().__init__()\n",
    "        self.out = nn.Linear(1, 4)\n",
    "\n",
    "    def forward(self, y):\n",
    "        y = self.out(y)\n",
    "        return y"
   ]
  },
  {
   "cell_type": "code",
   "execution_count": 11,
   "id": "eb0ff3e1",
   "metadata": {
    "id": "eb0ff3e1"
   },
   "outputs": [],
   "source": [
    "# Prepare data\n",
    "a_t = torch.Tensor(a.reshape(-1,))\n",
    "a_t = a_t.type(torch.LongTensor)\n",
    "# Loss function\n",
    "loss_fn = nn.CrossEntropyLoss()"
   ]
  },
  {
   "cell_type": "code",
   "execution_count": 12,
   "id": "26675416",
   "metadata": {
    "colab": {
     "base_uri": "https://localhost:8080/"
    },
    "id": "26675416",
    "outputId": "712e4cef-b94a-4000-de04-e2c7a38421d4"
   },
   "outputs": [
    {
     "name": "stdout",
     "output_type": "stream",
     "text": [
      "---- SNR is: 3.16\n",
      "epoch 0: Loss = 2.0613\n",
      "epoch 50: Loss = 0.7212\n",
      "epoch 100: Loss = 0.6979\n",
      "epoch 150: Loss = 0.6942\n",
      "epoch 200: Loss = 0.6935\n",
      "epoch 250: Loss = 0.6934\n",
      "epoch 300: Loss = 0.6934\n",
      "epoch 350: Loss = 0.6934\n",
      "epoch 400: Loss = 0.6934\n",
      "epoch 450: Loss = 0.6934\n",
      "epoch 500: Loss = 0.6934\n",
      "epoch 550: Loss = 0.6934\n",
      "epoch 600: Loss = 0.6934\n",
      "epoch 650: Loss = 0.6934\n",
      "epoch 700: Loss = 0.6934\n",
      "epoch 750: Loss = 0.6934\n",
      "epoch 800: Loss = 0.6934\n",
      "epoch 850: Loss = 0.6934\n",
      "epoch 900: Loss = 0.6934\n",
      "epoch 950: Loss = 0.6934\n",
      "---- SNR is: 3.98\n",
      "epoch 0: Loss = 1.1938\n",
      "epoch 50: Loss = 0.6237\n",
      "epoch 100: Loss = 0.6125\n",
      "epoch 150: Loss = 0.6109\n",
      "epoch 200: Loss = 0.6107\n",
      "epoch 250: Loss = 0.6107\n",
      "epoch 300: Loss = 0.6107\n",
      "epoch 350: Loss = 0.6107\n",
      "epoch 400: Loss = 0.6107\n",
      "epoch 450: Loss = 0.6107\n",
      "epoch 500: Loss = 0.6107\n",
      "epoch 550: Loss = 0.6107\n",
      "epoch 600: Loss = 0.6107\n",
      "epoch 650: Loss = 0.6107\n",
      "epoch 700: Loss = 0.6107\n",
      "epoch 750: Loss = 0.6107\n",
      "epoch 800: Loss = 0.6107\n",
      "epoch 850: Loss = 0.6107\n",
      "epoch 900: Loss = 0.6107\n",
      "epoch 950: Loss = 0.6107\n",
      "---- SNR is: 5.01\n",
      "epoch 0: Loss = 1.8356\n",
      "epoch 50: Loss = 0.6056\n",
      "epoch 100: Loss = 0.5585\n",
      "epoch 150: Loss = 0.5455\n",
      "epoch 200: Loss = 0.5410\n",
      "epoch 250: Loss = 0.5394\n",
      "epoch 300: Loss = 0.5389\n",
      "epoch 350: Loss = 0.5388\n",
      "epoch 400: Loss = 0.5387\n",
      "epoch 450: Loss = 0.5387\n",
      "epoch 500: Loss = 0.5387\n",
      "epoch 550: Loss = 0.5387\n",
      "epoch 600: Loss = 0.5387\n",
      "epoch 650: Loss = 0.5387\n",
      "epoch 700: Loss = 0.5387\n",
      "epoch 750: Loss = 0.5387\n",
      "epoch 800: Loss = 0.5387\n",
      "epoch 850: Loss = 0.5387\n",
      "epoch 900: Loss = 0.5387\n",
      "epoch 950: Loss = 0.5387\n",
      "---- SNR is: 6.31\n",
      "epoch 0: Loss = 1.9884\n",
      "epoch 50: Loss = 0.6198\n",
      "epoch 100: Loss = 0.5301\n",
      "epoch 150: Loss = 0.4927\n",
      "epoch 200: Loss = 0.4737\n",
      "epoch 250: Loss = 0.4632\n",
      "epoch 300: Loss = 0.4574\n",
      "epoch 350: Loss = 0.4540\n",
      "epoch 400: Loss = 0.4521\n",
      "epoch 450: Loss = 0.4509\n",
      "epoch 500: Loss = 0.4503\n",
      "epoch 550: Loss = 0.4499\n",
      "epoch 600: Loss = 0.4497\n",
      "epoch 650: Loss = 0.4496\n",
      "epoch 700: Loss = 0.4496\n",
      "epoch 750: Loss = 0.4495\n",
      "epoch 800: Loss = 0.4495\n",
      "epoch 850: Loss = 0.4495\n",
      "epoch 900: Loss = 0.4495\n",
      "epoch 950: Loss = 0.4495\n",
      "---- SNR is: 7.94\n",
      "epoch 0: Loss = 1.5151\n",
      "epoch 50: Loss = 0.5480\n",
      "epoch 100: Loss = 0.4535\n",
      "epoch 150: Loss = 0.4154\n",
      "epoch 200: Loss = 0.3963\n",
      "epoch 250: Loss = 0.3859\n",
      "epoch 300: Loss = 0.3800\n",
      "epoch 350: Loss = 0.3765\n",
      "epoch 400: Loss = 0.3744\n",
      "epoch 450: Loss = 0.3732\n",
      "epoch 500: Loss = 0.3725\n",
      "epoch 550: Loss = 0.3720\n",
      "epoch 600: Loss = 0.3718\n",
      "epoch 650: Loss = 0.3716\n",
      "epoch 700: Loss = 0.3716\n",
      "epoch 750: Loss = 0.3715\n",
      "epoch 800: Loss = 0.3715\n",
      "epoch 850: Loss = 0.3715\n",
      "epoch 900: Loss = 0.3715\n",
      "epoch 950: Loss = 0.3715\n",
      "---- SNR is: 10.00\n",
      "epoch 0: Loss = 1.9961\n",
      "epoch 50: Loss = 0.5604\n",
      "epoch 100: Loss = 0.4462\n",
      "epoch 150: Loss = 0.3917\n",
      "epoch 200: Loss = 0.3599\n",
      "epoch 250: Loss = 0.3400\n",
      "epoch 300: Loss = 0.3268\n",
      "epoch 350: Loss = 0.3178\n",
      "epoch 400: Loss = 0.3114\n",
      "epoch 450: Loss = 0.3069\n",
      "epoch 500: Loss = 0.3037\n",
      "epoch 550: Loss = 0.3013\n",
      "epoch 600: Loss = 0.2995\n",
      "epoch 650: Loss = 0.2983\n",
      "epoch 700: Loss = 0.2973\n",
      "epoch 750: Loss = 0.2966\n",
      "epoch 800: Loss = 0.2961\n",
      "epoch 850: Loss = 0.2957\n",
      "epoch 900: Loss = 0.2954\n",
      "epoch 950: Loss = 0.2952\n"
     ]
    }
   ],
   "source": [
    "def calculate_prob(logit, a_t): \n",
    "    l = logit.detach().numpy()\n",
    "    a = a_t.detach().numpy()\n",
    "    la = l[range(len(a)), a]\n",
    "    return np.exp(la) / np.sum(np.exp(l), 1)\n",
    "\n",
    "# Trainings loop\n",
    "probs = np.zeros((SNRs.size, 10000))\n",
    "equivocations = np.zeros(SNRs.size)\n",
    "for idx,snr in enumerate(SNRs):\n",
    "    print(f'---- SNR is: {snr:.2f}')\n",
    "    # Initialize network\n",
    "    demap = awgn_demapper()\n",
    "    # Optimizer\n",
    "    optimizer = optim.Adam(demap.parameters(), lr=0.05)\n",
    "    Y = awgn_channel(X, snr)\n",
    "    y = torch.Tensor(Y.reshape(-1, 1))\n",
    "    for j in range(1000):\n",
    "        logit = demap(y).reshape(-1, 4)\n",
    "        loss = loss_fn(logit, a_t)\n",
    "        optimizer.zero_grad()\n",
    "        loss.backward()\n",
    "        optimizer.step()\n",
    "\n",
    "        # Printout and visualization\n",
    "        if j % 50 == 0:\n",
    "            print(f'epoch {j}: Loss = {loss.detach().numpy() :.4f}')\n",
    "    probs[idx, :]=calculate_prob(logit, a_t)\n",
    "    equivocations[idx] = loss / np.log(2) \n",
    "                                        "
   ]
  },
  {
   "cell_type": "markdown",
   "id": "8fc48d95",
   "metadata": {
    "id": "8fc48d95"
   },
   "source": [
    "4. For the trained NN demappers, calculate equivocation estimates from input and\n",
    "output sequences. Plot the corresponding mutual information estimate. What is\n",
    "the gap in mutual information and in SNR, compared to the analytical demapper\n",
    "from 2.?"
   ]
  },
  {
   "cell_type": "code",
   "execution_count": 13,
   "id": "cb79bec2",
   "metadata": {
    "colab": {
     "base_uri": "https://localhost:8080/",
     "height": 265
    },
    "id": "cb79bec2",
    "outputId": "04465452-44bd-4b5d-a081-38f0843c837b"
   },
   "outputs": [
    {
     "data": {
      "image/png": "[encoded data removed]",
      "text/plain": [
       "<Figure size 432x288 with 1 Axes>"
      ]
     },
     "metadata": {
      "needs_background": "light"
     },
     "output_type": "display_data"
    }
   ],
   "source": [
    "mi_nn = np.log2(4)-(-np.mean(np.log2(probs), axis=1))\n",
    "mi_nn_from_loss = np.log2(4) - equivocations\n",
    "plt.plot(SNRdBs, mi_nn, label='MI (Neural Network, from output)')\n",
    "plt.plot(SNRdBs, mi_nn_from_loss, label='MI (Neural Network, from loss)', linestyle='dashed')\n",
    "plt.plot(SNRdBs, mi, label='MI (analytical)')\n",
    "plt.plot(SNRdBs, 0.5 * np.log2(1+ SNRs), label='AWGN Capacity')\n",
    "plt.legend()\n",
    "plt.grid()"
   ]
  },
  {
   "cell_type": "markdown",
   "id": "513f9c73",
   "metadata": {
    "id": "513f9c73"
   },
   "source": [
    "6. For $\\text{SNRdB} = 5$ and $-4 \\leq  y  \\leq 4$, plot the distributions $P_{A|Y} (i|y)$ as function of\n",
    "$y$ for $i = 0, 1, 2, 3$. For the same values of $y$, also plot the probabilities calculated\n",
    "from the log probabilities output by the NN demapper trained for $\\text{SNRdB} = 5$.\n",
    "How well does the NN demapper approximate the analytical probabilities?"
   ]
  },
  {
   "cell_type": "code",
   "execution_count": 14,
   "id": "87079fc6",
   "metadata": {
    "colab": {
     "base_uri": "https://localhost:8080/"
    },
    "id": "87079fc6",
    "outputId": "91ec0106-bcd6-4874-92e5-d6bac7cd6d0a"
   },
   "outputs": [
    {
     "name": "stdout",
     "output_type": "stream",
     "text": [
      "epoch 0: Loss = 2.8223\n",
      "epoch 50: Loss = 0.7699\n",
      "epoch 100: Loss = 0.7124\n",
      "epoch 150: Loss = 0.6949\n",
      "epoch 200: Loss = 0.6883\n",
      "epoch 250: Loss = 0.6857\n",
      "epoch 300: Loss = 0.6848\n",
      "epoch 350: Loss = 0.6844\n",
      "epoch 400: Loss = 0.6843\n",
      "epoch 450: Loss = 0.6843\n",
      "epoch 500: Loss = 0.6843\n",
      "epoch 550: Loss = 0.6843\n",
      "epoch 600: Loss = 0.6843\n",
      "epoch 650: Loss = 0.6843\n",
      "epoch 700: Loss = 0.6843\n",
      "epoch 750: Loss = 0.6843\n",
      "epoch 800: Loss = 0.6843\n",
      "epoch 850: Loss = 0.6843\n",
      "epoch 900: Loss = 0.6843\n",
      "epoch 950: Loss = 0.6843\n"
     ]
    }
   ],
   "source": [
    "# Train the network at 5 dB\n",
    "SNRdB = 5\n",
    "snr =  10**(SNRdB/10)\n",
    "Y = awgn_channel(X, snr)\n",
    "# Initialize network\n",
    "demap = awgn_demapper()\n",
    "# Optimizer\n",
    "optimizer = optim.Adam(demap.parameters(), lr=0.05)\n",
    "a_t = torch.Tensor(a.reshape(-1,))\n",
    "a_t = a_t.type(torch.LongTensor)\n",
    "y = torch.Tensor(Y.reshape(-1, 1))\n",
    "for j in range(1000):\n",
    "    logit = demap(y).reshape(-1, 4)\n",
    "    loss = loss_fn(logit, a_t)\n",
    "    optimizer.zero_grad()\n",
    "    loss.backward()\n",
    "    optimizer.step()\n",
    "    \n",
    "    # Printout and visualization\n",
    "    if j % 50 == 0:\n",
    "        print(f'epoch {j}: Loss = {loss.detach().numpy() :.4f}')\n",
    "\n",
    "probs = calculate_prob(logit, a_t)"
   ]
  },
  {
   "cell_type": "code",
   "execution_count": 36,
   "id": "opponent-white",
   "metadata": {
    "colab": {
     "base_uri": "https://localhost:8080/",
     "height": 279
    },
    "id": "opponent-white",
    "outputId": "ca77d8d7-2094-4373-c435-15b50403313f"
   },
   "outputs": [
    {
     "name": "stdout",
     "output_type": "stream",
     "text": [
      "-5.000000000000018\n"
     ]
    },
    {
     "data": {
      "image/png": "[encoded data removed]",
      "text/plain": [
       "<Figure size 432x288 with 1 Axes>"
      ]
     },
     "metadata": {
      "needs_background": "light"
     },
     "output_type": "display_data"
    },
    {
     "name": "stdout",
     "output_type": "stream",
     "text": [
      "0.9812858\n"
     ]
    }
   ],
   "source": [
    "# Analytical:\n",
    "sigma2 = np.mean(np.abs(X) ** 2)/snr\n",
    "y = np.arange(-10, 10+0.1, 0.1)\n",
    "print((y[50]))\n",
    "for i in range(M):\n",
    "    pay = calculate_px_given_y(chi[i], y, sigma2, chi)\n",
    "    plt.plot(y, pay, label=\"i=\"+str(i))\n",
    "    \n",
    "# NN:\n",
    "#logit = demap(torch.Tensor(y).reshape(-1, 1)).reshape(-1, 4).detach().numpy()\n",
    "logit = demap(torch.Tensor(y).reshape(-1, 1)).reshape(-1, 4)\n",
    "pay_nn = nn.functional.softmax(logit, 1).detach().numpy()\n",
    "#pay_nn = np.exp(logit) / np.sum(np.exp(logit), 1).reshape(-1, 1)\n",
    "for i in range(M):\n",
    "    plt.plot(y, pay_nn[:, i].reshape(-1), label=f'i={i} (NN)', linestyle='dashed')\n",
    "\n",
    "plt.grid()\n",
    "plt.legend()\n",
    "plt.xlabel('y')\n",
    "plt.ylabel('$P_{M|Y} (i|y)$')\n",
    "plt.show()\n",
    "print(pay_nn[50,0])"
   ]
  },
  {
   "cell_type": "markdown",
   "id": "ad1a6127",
   "metadata": {
    "id": "ad1a6127"
   },
   "source": [
    "### Problem 3.3 - Log probabilities versus probabilities"
   ]
  },
  {
   "cell_type": "markdown",
   "id": "cc3067ed",
   "metadata": {
    "id": "cc3067ed"
   },
   "source": [
    "1. Repeat steps 3.-4. and 6. of Problem 3.2 for the demapper in Figure 3.6 terminated as\n",
    "in Figure 3.3, using the cross equivocation cost (3.7). \n",
    "Do you observe differences to the results from Problem 3.2?\n"
   ]
  },
  {
   "cell_type": "code",
   "execution_count": null,
   "id": "d8075917",
   "metadata": {
    "id": "d8075917"
   },
   "outputs": [],
   "source": [
    "class awgn_demapper2(nn.Module):\n",
    "    def __init__(self):\n",
    "        super().__init__()\n",
    "        self.h1 = nn.Linear(1, 4)\n",
    "        self.out = nn.Sigmoid()\n",
    "\n",
    "    def forward(self, y):\n",
    "        y = self.out(self.h1(y))\n",
    "        return y/torch.sum(y, 1).reshape(-1, 1) "
   ]
  },
  {
   "cell_type": "code",
   "execution_count": null,
   "id": "f6064005",
   "metadata": {
    "colab": {
     "base_uri": "https://localhost:8080/"
    },
    "id": "f6064005",
    "outputId": "660ca4f8-ad16-4e82-8d7c-a236441da7a3"
   },
   "outputs": [],
   "source": [
    "# Prepare data\n",
    "y = torch.Tensor(Y.reshape(-1, 1))\n",
    "a_t = torch.Tensor(a.reshape(-1,))\n",
    "a_t = a_t.type(torch.LongTensor)\n",
    "\n",
    "# Define loss function and optimizer\n",
    "loss_fn = nn.NLLLoss()\n",
    "\n",
    "equivocations = np.zeros(SNRs.size)\n",
    "probs=np.zeros((SNRs.size,10000))\n",
    "for idx,snr in enumerate(SNRs):\n",
    "    print(f'--- SNR is: {snr:.2f}---')\n",
    "    # Initialize network\n",
    "    demap2 = awgn_demapper2()\n",
    "    # Optimizer\n",
    "    optimizer = optim.Adam(demap2.parameters(), lr=0.005)\n",
    "    Y = awgn_channel(X, snr)\n",
    "    y = torch.Tensor(Y.reshape(-1, 1))\n",
    "    for j in range(10000):\n",
    "        prob = demap2(y).reshape(-1, 4)\n",
    "        loss = loss_fn(torch.log(prob), a_t)\n",
    "        optimizer.zero_grad()\n",
    "        loss.backward()\n",
    "        optimizer.step()\n",
    "\n",
    "        # Printout and visualization\n",
    "        if j % 50 == 0:\n",
    "            print(f'epoch {j}: Loss = {loss.detach().numpy() :.4f}')\n",
    "    probs[idx,:] = prob.detach().numpy()[range(len(a)), a]\n",
    "    equivocations[idx] = loss / np.log(2) "
   ]
  },
  {
   "cell_type": "code",
   "execution_count": null,
   "id": "f6ae9214",
   "metadata": {
    "colab": {
     "base_uri": "https://localhost:8080/",
     "height": 265
    },
    "id": "f6ae9214",
    "outputId": "cfe8c000-9158-4e90-c915-f08385997f92"
   },
   "outputs": [],
   "source": [
    "mi_nn_2 = np.log2(4)-(-np.mean(np.log2(probs), axis=1))\n",
    "mi_nn_2_loss = np.log2(4)-equivocations\n",
    "plt.plot(SNRdBs, mi_nn_2, label='MI (Neural Network 2)')\n",
    "plt.plot(SNRdBs, mi_nn_2_loss, linestyle='dashed', label='MI (Neural Network 2)')\n",
    "plt.plot(SNRdBs, mi, label='MI (analytical)')\n",
    "plt.plot(SNRdBs, 0.5 * np.log2(1+ SNRs), label='AWGN Capacity')\n",
    "plt.legend()\n",
    "plt.grid()\n",
    "plt.show()\n",
    "# TODO: problems for large SNR ==> this should be due to numerical issues"
   ]
  },
  {
   "cell_type": "markdown",
   "id": "f64e3bfc",
   "metadata": {
    "id": "f64e3bfc"
   },
   "source": [
    "2. Repeat steps 3.-5. of Problem 3.2 for the demapper in Figure 3.6 terminated as in Figure 3.4, using the cross equivocation cost (3.7). \n",
    "Do you observe differences to the results from Problem 3.2?\n",
    "\n"
   ]
  },
  {
   "cell_type": "code",
   "execution_count": null,
   "id": "a4ad38c9",
   "metadata": {
    "id": "a4ad38c9"
   },
   "outputs": [],
   "source": [
    "class awgn_demapper3(nn.Module):\n",
    "    def __init__(self):\n",
    "        super().__init__()\n",
    "        self.h1 = nn.Linear(1, 4)\n",
    "        self.out = nn.Softmax(dim=1)\n",
    "\n",
    "    def forward(self, y):\n",
    "        y = self.out(self.h1(y))\n",
    "        return y"
   ]
  },
  {
   "cell_type": "code",
   "execution_count": null,
   "id": "d8024ab4",
   "metadata": {
    "id": "d8024ab4"
   },
   "outputs": [],
   "source": [
    "# Prepare data\n",
    "y = torch.Tensor(Y.reshape(-1, 1))\n",
    "a_t = torch.Tensor(a.reshape(-1,))\n",
    "a_t = a_t.type(torch.LongTensor)\n",
    "\n",
    "# Define loss function and optimizer\n",
    "loss_fn = nn.NLLLoss()\n"
   ]
  },
  {
   "cell_type": "code",
   "execution_count": null,
   "id": "6ccbc542",
   "metadata": {
    "colab": {
     "base_uri": "https://localhost:8080/"
    },
    "id": "6ccbc542",
    "outputId": "2294de67-c76e-4419-a0bd-034786abb6dd"
   },
   "outputs": [],
   "source": [
    "# Trainings loop\n",
    "probs=np.zeros((SNRs.size,10000))\n",
    "for idx,snr in enumerate(SNRs):\n",
    "    print(f'--- SNR is: {snr:.2f}---')\n",
    "    # Initialize network\n",
    "    demap3 = awgn_demapper3()\n",
    "    # Optimizer\n",
    "    optimizer = optim.Adam(demap3.parameters(), lr=0.05)\n",
    "    Y = awgn_channel(X, snr)\n",
    "    y = torch.Tensor(Y.reshape(-1, 1))\n",
    "    for j in range(1000):\n",
    "        prob = demap3(y).reshape(-1, 4)\n",
    "        loss = loss_fn(torch.log(prob), a_t)\n",
    "        optimizer.zero_grad()\n",
    "        loss.backward()\n",
    "        optimizer.step()\n",
    "\n",
    "        # Printout and visualization\n",
    "        if j % 50 == 0:\n",
    "            print(f'epoch {j}: Loss = {loss.detach().numpy() :.4f}')\n",
    "    probs[idx,:] = prob.detach().numpy()[range(len(a)), a]"
   ]
  },
  {
   "cell_type": "code",
   "execution_count": null,
   "id": "b8aac2a3",
   "metadata": {
    "colab": {
     "base_uri": "https://localhost:8080/",
     "height": 265
    },
    "id": "b8aac2a3",
    "outputId": "41543f3b-2143-4253-d2ad-860a60b8f103"
   },
   "outputs": [],
   "source": [
    "mi_nn_3 = np.log2(4)-(-np.mean(np.log2(probs), axis=1))\n",
    "plt.plot(SNRdBs, mi_nn_3, label='MI (Neural Network 3)')\n",
    "plt.plot(SNRdBs, mi, label='MI (analytical)')\n",
    "plt.plot(SNRdBs, 0.5 * np.log2(1+ SNRs), label='AWGN Capacity')\n",
    "plt.legend()\n",
    "plt.grid()"
   ]
  },
  {
   "cell_type": "code",
   "execution_count": null,
   "id": "562a2f51",
   "metadata": {
    "id": "562a2f51"
   },
   "outputs": [],
   "source": []
  },
  {
   "cell_type": "code",
   "execution_count": null,
   "id": "cf1202ef",
   "metadata": {
    "id": "cf1202ef"
   },
   "outputs": [],
   "source": []
  }
 ],
 "metadata": {
  "@webio": {
   "lastCommId": null,
   "lastKernelId": null
  },
  "colab": {
   "collapsed_sections": [],
   "include_colab_link": true,
   "name": "tut03.ipynb",
   "provenance": []
  },
  "kernelspec": {
   "display_name": "Python 3 (ipykernel)",
   "language": "python",
   "name": "python3"
  },
  "language_info": {
   "codemirror_mode": {
    "name": "ipython",
    "version": 3
   },
   "file_extension": ".py",
   "mimetype": "text/x-python",
   "name": "python",
   "nbconvert_exporter": "python",
   "pygments_lexer": "ipython3",
   "version": "3.8.10"
  }
 },
 "nbformat": 4,
 "nbformat_minor": 5
}
