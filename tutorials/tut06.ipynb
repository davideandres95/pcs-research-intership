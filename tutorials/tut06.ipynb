{
  "nbformat": 4,
  "nbformat_minor": 5,
  "metadata": {
    "kernelspec": {
      "display_name": "Python 3 (ipykernel)",
      "language": "python",
      "name": "python3"
    },
    "language_info": {
      "codemirror_mode": {
        "name": "ipython",
        "version": 3
      },
      "file_extension": ".py",
      "mimetype": "text/x-python",
      "name": "python",
      "nbconvert_exporter": "python",
      "pygments_lexer": "ipython3",
      "version": "3.9.2"
    },
    "colab": {
      "name": "tut06.ipynb",
      "provenance": [],
      "collapsed_sections": [],
      "include_colab_link": true
    }
  },
  "cells": [
    {
      "cell_type": "markdown",
      "metadata": {
        "id": "view-in-github",
        "colab_type": "text"
      },
      "source": [
        "<a href=\"https://colab.research.google.com/github/davideandres95/ml_comm/blob/main/tut06.ipynb\" target=\"_parent\"><img src=\"https://colab.research.google.com/assets/colab-badge.svg\" alt=\"Open In Colab\"/></a>"
      ]
    },
    {
      "cell_type": "markdown",
      "metadata": {
        "id": "45e0ebdf"
      },
      "source": [
        "#  Tutorial 6: Training Neural Networks\n",
        "November 25, 2021"
      ],
      "id": "45e0ebdf"
    },
    {
      "cell_type": "code",
      "metadata": {
        "id": "d1266e4f"
      },
      "source": [
        "import numpy as np\n",
        "import matplotlib.pyplot as plt\n",
        "import torch            \n",
        "from torch import nn, optim\n",
        "from sklearn.model_selection import train_test_split"
      ],
      "id": "d1266e4f",
      "execution_count": null,
      "outputs": []
    },
    {
      "cell_type": "markdown",
      "metadata": {
        "id": "81d75413"
      },
      "source": [
        "### Problem A.2 -  Gradient Descent \n",
        "Consider a single linear neuron as demapper for BPSK in AWGN. Initialize\n",
        "the weight to $w = 1$, the bias to $b = 0.1$ and assume message bit $a = 1$, channel\n",
        "input $x = 1$, channel output $y = 0.5$."
      ],
      "id": "81d75413"
    },
    {
      "cell_type": "code",
      "metadata": {
        "id": "49ccf3e7"
      },
      "source": [
        "# Data from problem \n",
        "w = 1.\n",
        "b = 0.1 \n",
        "y = 0.5\n",
        "a = 1."
      ],
      "id": "49ccf3e7",
      "execution_count": null,
      "outputs": []
    },
    {
      "cell_type": "code",
      "metadata": {
        "id": "64cccbef",
        "outputId": "fa6bf10f-6110-4269-dfd6-1e7205df559f"
      },
      "source": [
        "# Expected results from analytical derivations\n",
        "l = 0.6\n",
        "gradient = - y * 1/(1+np.exp(l)) \n",
        "print(f'Value of the gradient from analytical derivation: {gradient:.4}')"
      ],
      "id": "64cccbef",
      "execution_count": null,
      "outputs": [
        {
          "name": "stdout",
          "output_type": "stream",
          "text": [
            "Value of the gradient from analytical derivation: -0.1772\n"
          ]
        }
      ]
    },
    {
      "cell_type": "code",
      "metadata": {
        "id": "b393e196"
      },
      "source": [
        "# Convert data to tensors\n",
        "w_t = torch.tensor([w], requires_grad=True)\n",
        "b_t = torch.tensor([b])\n",
        "y_t = torch.tensor([y])\n",
        "a_t = torch.tensor([a])"
      ],
      "id": "b393e196",
      "execution_count": null,
      "outputs": []
    },
    {
      "cell_type": "markdown",
      "metadata": {
        "id": "b1cc1542"
      },
      "source": [
        "1) Calculate the NN output by forward propagation"
      ],
      "id": "b1cc1542"
    },
    {
      "cell_type": "markdown",
      "metadata": {
        "id": "9dee3eec"
      },
      "source": [
        "2) Calculate the gradient\n",
        "$$\\frac{d bce_{log}(a,l)}{dw}(1)$$\n",
        "by back propagation."
      ],
      "id": "9dee3eec"
    },
    {
      "cell_type": "markdown",
      "metadata": {
        "id": "7a37bd26"
      },
      "source": [
        "3) Redo steps 1 and 2 using torch.tensor variables with requires grad=True\n",
        "and calling the .backward() method. \n",
        "Compare the local gradients to the local gradients you calculated by hand."
      ],
      "id": "7a37bd26"
    },
    {
      "cell_type": "code",
      "metadata": {
        "id": "09c7d93b",
        "outputId": "c90e9c19-91be-407f-a445-9e6e50ec9380"
      },
      "source": [
        "# Calculate L by forwards propagation\n",
        "L = w_t * y_t + b_t\n",
        "L.retain_grad()\n",
        "print(f'Value of L from forward propagation: {L[0].detach():.2}')"
      ],
      "id": "09c7d93b",
      "execution_count": null,
      "outputs": [
        {
          "name": "stdout",
          "output_type": "stream",
          "text": [
            "Value of L from forward propagation: 0.6\n"
          ]
        }
      ]
    },
    {
      "cell_type": "code",
      "metadata": {
        "id": "3ce1021a"
      },
      "source": [
        "# Define loss function \n",
        "def bce_loss(L, a):\n",
        "    return torch.log(1+torch.exp((1-2*a)*L))"
      ],
      "id": "3ce1021a",
      "execution_count": null,
      "outputs": []
    },
    {
      "cell_type": "code",
      "metadata": {
        "id": "d245318f"
      },
      "source": [
        "# Calculate loss\n",
        "loss = bce_loss(L, a_t)\n",
        "# Computes the gradient\n",
        "loss.backward()"
      ],
      "id": "d245318f",
      "execution_count": null,
      "outputs": []
    },
    {
      "cell_type": "code",
      "metadata": {
        "id": "c2f7adcb",
        "outputId": "3207c66e-6447-42ec-fd10-f66e58dee099"
      },
      "source": [
        "print(f'Gradient from backpropation: {w_t.grad[0].detach() :.4}')"
      ],
      "id": "c2f7adcb",
      "execution_count": null,
      "outputs": [
        {
          "name": "stdout",
          "output_type": "stream",
          "text": [
            "Gradient from backpropation: -0.1772\n"
          ]
        }
      ]
    },
    {
      "cell_type": "code",
      "metadata": {
        "id": "ca6ee1ba",
        "outputId": "2e32558d-f20f-4a39-a811-5fabe39ffd4f"
      },
      "source": [
        "print(f'Intermediate gradient d(loss)/dL: {L.grad[0].detach() :.4}')"
      ],
      "id": "ca6ee1ba",
      "execution_count": null,
      "outputs": [
        {
          "name": "stdout",
          "output_type": "stream",
          "text": [
            "Intermediate gradient d(loss)/dL: -0.3543\n"
          ]
        }
      ]
    },
    {
      "cell_type": "code",
      "metadata": {
        "id": "788587f5"
      },
      "source": [
        "optimizer = torch.optim.SGD([w_t], lr=0.1)"
      ],
      "id": "788587f5",
      "execution_count": null,
      "outputs": []
    },
    {
      "cell_type": "markdown",
      "metadata": {
        "id": "69659446"
      },
      "source": [
        "4) For learning rate $\\gamma = 0.01$, calculate an update for $w$ using gradient descent.\n",
        "\n",
        "5) Use torch.optim.SGD with $lr=0.01$ to calculate an update for $w$ and compare to the update you calculated by hand in 4."
      ],
      "id": "69659446"
    },
    {
      "cell_type": "code",
      "metadata": {
        "id": "ece88432",
        "outputId": "30cff3dc-6d02-4563-e66c-5e90419cfcda"
      },
      "source": [
        "L = w_t * y_t + b_t\n",
        "loss = bce_loss(L, a_t)\n",
        "optimizer.zero_grad()\n",
        "loss.backward()\n",
        "print(f'Value of w before the step: {w_t[0].detach()}')\n",
        "print(f'Value of gradient: {w_t.grad[0].detach():.4}')\n",
        "optimizer.step()\n",
        "print(f'Value of w after the step: {w_t[0].detach():.5}')"
      ],
      "id": "ece88432",
      "execution_count": null,
      "outputs": [
        {
          "name": "stdout",
          "output_type": "stream",
          "text": [
            "Value of w before the step: 1.0\n",
            "Value of gradient: -0.1772\n",
            "Value of w after the step: 1.0177\n"
          ]
        }
      ]
    },
    {
      "cell_type": "markdown",
      "metadata": {
        "id": "4673768c"
      },
      "source": [
        "### Problem A.3 - Stochastic Gradient Descent \n",
        "In this problem, you train an equalizer for a dataset x.txt (the transmitted symbols) and y.txt (the received distorted signal\n",
        "oversampled with 2 samples per symbol."
      ],
      "id": "4673768c"
    },
    {
      "cell_type": "code",
      "metadata": {
        "id": "3d0d908c"
      },
      "source": [
        "# From tensor to numpy\n",
        "def t2n(x):\n",
        "    return x.reshape(-1).detach().numpy()"
      ],
      "id": "3d0d908c",
      "execution_count": null,
      "outputs": []
    },
    {
      "cell_type": "code",
      "metadata": {
        "id": "16a60761"
      },
      "source": [
        "# Downsample in time domain\n",
        "def downsample_td(signal, down, time_dimension=1):\n",
        "    if time_dimension == 1:\n",
        "        assert len(signal.shape)==2, 'signal format [number_dimensions][signal_length] expected'\n",
        "        return down * signal[:, ::down]\n",
        "    if time_dimension == 0:\n",
        "        assert len(signal.shape)==2, 'signal format [signal_length][number_dimensions] expected'\n",
        "        return down * signal[::down, :]"
      ],
      "id": "16a60761",
      "execution_count": null,
      "outputs": []
    },
    {
      "cell_type": "code",
      "metadata": {
        "id": "5e8f7d81"
      },
      "source": [
        "# Prepare the input data fot the equalizer in a diagonal form\n",
        "def getchunks(x, num_taps):\n",
        "    if torch.is_tensor(x):\n",
        "        return _t_getchunks(x, num_taps)\n",
        "    elif isinstance(x, np.ndarray):\n",
        "        return _np_getchunks(x, num_taps)\n",
        "    else:\n",
        "        assert False, 'x must be torch.tensor or np.ndarray'\n",
        "\n",
        "def _np_getchunks(x, num_taps):\n",
        "    x = x.reshape(-1, 1)\n",
        "    chunks = np.zeros((x.shape[0], num_taps))\n",
        "    for j in range(num_taps):\n",
        "        chunks[:, j:j+1] = np.roll(x, j - num_taps//2)\n",
        "    return chunks\n",
        "\n",
        "def _t_getchunks(x, num_taps):\n",
        "    x = x.reshape(-1, 1)\n",
        "    chunks = torch.zeros(x.shape[0], num_taps)\n",
        "    for j in range(num_taps):\n",
        "        chunks[:, j:j+1] = torch.roll(x, j - num_taps//2)\n",
        "    return chunks\n"
      ],
      "id": "5e8f7d81",
      "execution_count": null,
      "outputs": []
    },
    {
      "cell_type": "code",
      "metadata": {
        "id": "46de2f3c"
      },
      "source": [
        "# Define NN for nonlinear equalizer\n",
        "class EQnonlinear(nn.Module):\n",
        "    def __init__(self, num_taps):\n",
        "        super().__init__()\n",
        "        self.num_taps = num_taps\n",
        "        self.lin1 = nn.Linear(num_taps, 25)\n",
        "        self.act1 = nn.ReLU()\n",
        "        self.lin2 = nn.Linear(25, 25)\n",
        "        self.act2 = nn.ReLU()\n",
        "        self.lin3 = nn.Linear(25, 25)\n",
        "        self.act3 = nn.ReLU()\n",
        "        self.lin4 = nn.Linear(25, 1)\n",
        "\n",
        "    def forward(self, y):\n",
        "        y = self.act1(self.lin1(y))\n",
        "        y = self.act2(self.lin2(y))\n",
        "        y = self.act3(self.lin3(y))\n",
        "        return self.lin4(y)"
      ],
      "id": "46de2f3c",
      "execution_count": null,
      "outputs": []
    },
    {
      "cell_type": "markdown",
      "metadata": {
        "id": "dc8227c3"
      },
      "source": [
        "##### 1) Preparation:\n",
        "* Split the data set into a training set, a validation set, and a test set."
      ],
      "id": "dc8227c3"
    },
    {
      "cell_type": "code",
      "metadata": {
        "id": "756f514c"
      },
      "source": [
        "# Import data\n",
        "# https://drive.google.com/file/d/19lZfgoDoLuHw87TdRSB_Z7gnBundBK6g/view?usp=sharing\n",
        "# https://drive.google.com/file/d/1nwZ-wyeW8t8oIHMjrAjqnh8fWNTOKUTd/view?usp=sharing\n",
        "\n",
        "!wget -O x.txt \"https://drive.google.com/uc?export=download&id=19lZfgoDoLuHw87TdRSB_Z7gnBundBK6g\"\n",
        "!wget -O y.txt \"https://drive.google.com/uc?export=download&id=1nwZ-wyeW8t8oIHMjrAjqnh8fWNTOKUTd\""
      ],
      "id": "756f514c",
      "execution_count": null,
      "outputs": []
    },
    {
      "cell_type": "code",
      "metadata": {
        "id": "f08ca1f6"
      },
      "source": [
        "# Prepare data\n",
        "x = np.loadtxt('x.txt')\n",
        "y = np.loadtxt('y.txt')"
      ],
      "id": "f08ca1f6",
      "execution_count": null,
      "outputs": []
    },
    {
      "cell_type": "code",
      "metadata": {
        "id": "c7dcc029",
        "outputId": "04ca2a18-4501-4f9d-c721-aa337dfd77aa"
      },
      "source": [
        "# Train sets\n",
        "x_train, x_test =  train_test_split(x, test_size=0.2, shuffle=False)\n",
        "y_train, y_test =  train_test_split(y, test_size=0.2, shuffle=False)\n",
        "# Validation and test sets\n",
        "x_val, x_test =  train_test_split(x_test, test_size=0.5, shuffle=False)\n",
        "y_val, y_test =  train_test_split(y_test, test_size=0.5, shuffle=False)\n",
        "\n",
        "print(x_train.size, x_val.size, x_test.size)"
      ],
      "id": "c7dcc029",
      "execution_count": null,
      "outputs": [
        {
          "name": "stdout",
          "output_type": "stream",
          "text": [
            "160000 20000 20000\n"
          ]
        }
      ]
    },
    {
      "cell_type": "markdown",
      "metadata": {
        "id": "3612b1d0"
      },
      "source": [
        "* Use the optimizer torch.optim.SGD with lr=0.01."
      ],
      "id": "3612b1d0"
    },
    {
      "cell_type": "code",
      "metadata": {
        "id": "920653d0"
      },
      "source": [
        "# Initialize Filter\n",
        "num_taps = 41\n",
        "nn_filter = EQnonlinear(num_taps=num_taps)\n",
        "# Learning rate\n",
        "learning_rate = 1e-2\n",
        "# Define loss function and optimizer\n",
        "loss_fn = nn.MSELoss()\n",
        "optimizer = optim.SGD(nn_filter.parameters(), lr=learning_rate)"
      ],
      "id": "920653d0",
      "execution_count": null,
      "outputs": []
    },
    {
      "cell_type": "markdown",
      "metadata": {
        "id": "a2ff41b0"
      },
      "source": [
        "* Write a training loop with an outer loop over n epochs epochs and an inner loop over batches of size batch size. Use torch.utils.data.DataLoader for sampling batches\n",
        "\n",
        "* For each epoch, store the loss of the last batch and the loss on the validation set.\n",
        "\n",
        "* Exit the training loop after 10s.\n",
        "\n"
      ],
      "id": "a2ff41b0"
    },
    {
      "cell_type": "code",
      "metadata": {
        "id": "53734071"
      },
      "source": [
        "batch_size = 1000\n",
        "num_epochs = 100\n",
        "dataloader = torch.utils.data.DataLoader(getchunks(y_train, num_taps).astype(np.float32),\n",
        "                                         batch_size=batch_size)\n",
        "labelloader = torch.utils.data.DataLoader(x_train.reshape(-1, 1).astype(np.float32),\n",
        "                                          batch_size=batch_size//2)\n",
        "# Prepare validation set \n",
        "y_val_t = torch.tensor(getchunks(y_val, num_taps).astype(np.float32))\n",
        "x_val_t = torch.tensor(x_val.astype(np.float32)).reshape(-1, 1)"
      ],
      "id": "53734071",
      "execution_count": null,
      "outputs": []
    },
    {
      "cell_type": "code",
      "metadata": {
        "id": "80f64d25"
      },
      "source": [
        "import time"
      ],
      "id": "80f64d25",
      "execution_count": null,
      "outputs": []
    },
    {
      "cell_type": "code",
      "metadata": {
        "id": "8d2735d3",
        "outputId": "dfbbec4e-7a8f-4165-fad5-8d43569495cd"
      },
      "source": [
        "# Set a timer\n",
        "timeout = 10  #seconds\n",
        "timeout_start = time.time()\n",
        "# Prellocate space\n",
        "loss_last_batch = []\n",
        "loss_val_set = []\n",
        "# Trainings loop\n",
        "for j in range(num_epochs):\n",
        "    for y_t, x_t in zip(dataloader, labelloader):\n",
        "        x_hat = nn_filter(y_t)\n",
        "        x_hat = downsample_td(x_hat, 2, 0)\n",
        "        loss = loss_fn(x_hat, x_t)\n",
        "        optimizer.zero_grad()\n",
        "        loss.backward()\n",
        "        optimizer.step()\n",
        "    # store loss of the last batch    \n",
        "    loss_last_batch.append(loss.detach().numpy())\n",
        "    # store loss of validation set \n",
        "    loss_val = loss_fn(downsample_td(nn_filter(y_val_t), 2, 0), x_val_t)\n",
        "    loss_val_set.append(loss_val.detach().numpy())\n",
        "    \n",
        "    if j % 1 == 0:\n",
        "        print(f'epoch {j}: Loss = {loss.detach().numpy() :.4f}')\n",
        "        \n",
        "    if time.time()>(timeout_start+timeout):\n",
        "        break"
      ],
      "id": "8d2735d3",
      "execution_count": null,
      "outputs": [
        {
          "name": "stdout",
          "output_type": "stream",
          "text": [
            "epoch 0: Loss = 0.0790\n",
            "epoch 1: Loss = 0.0548\n",
            "epoch 2: Loss = 0.0425\n",
            "epoch 3: Loss = 0.0331\n",
            "epoch 4: Loss = 0.0262\n",
            "epoch 5: Loss = 0.0211\n"
          ]
        }
      ]
    },
    {
      "cell_type": "markdown",
      "metadata": {
        "id": "82d4167c"
      },
      "source": [
        "##### 2) \n",
        "Plot training loss and validation loss against the epoch index. Also, display in the same plot the test loss against the last epoch index."
      ],
      "id": "82d4167c"
    },
    {
      "cell_type": "code",
      "metadata": {
        "id": "6fb3dae2"
      },
      "source": [
        "# Calculate test loss \n",
        "y_test_t = torch.tensor(getchunks(y_test, num_taps).astype(np.float32))\n",
        "x_test_t = torch.tensor(x_test.astype(np.float32)).reshape(-1, 1)\n",
        "loss_test = loss_fn(downsample_td(nn_filter(y_test_t), 2, 0), x_test_t).detach().numpy()"
      ],
      "id": "6fb3dae2",
      "execution_count": null,
      "outputs": []
    },
    {
      "cell_type": "code",
      "metadata": {
        "id": "9fe1b23e",
        "outputId": "1de8a113-bb87-49ca-d639-f3c686ff278a"
      },
      "source": [
        "# PLot\n",
        "plt.plot(np.arange(len(loss_last_batch)), loss_last_batch, label=\"Train\")\n",
        "plt.plot(np.arange(len(loss_val_set)), loss_val_set, label=\"Validation\")\n",
        "plt.plot(len(loss_val_set)-1, loss_test, marker='*', label=\"Test\")\n",
        "plt.xlabel('Epoch index')\n",
        "plt.ylabel('Loss')\n",
        "plt.legend()\n",
        "plt.grid()"
      ],
      "id": "9fe1b23e",
      "execution_count": null,
      "outputs": [
        {
          "data": {
            "image/png": "[encoded data removed]",
            "text/plain": [
              "<Figure size 432x288 with 1 Axes>"
            ]
          },
          "metadata": {
            "needs_background": "light"
          },
          "output_type": "display_data"
        }
      ]
    },
    {
      "cell_type": "markdown",
      "metadata": {
        "id": "0e4d7816"
      },
      "source": [
        "##### 3) \n",
        "Search for the combination of learning rate and batch size that results in the best validation loss (after 10s of training)."
      ],
      "id": "0e4d7816"
    },
    {
      "cell_type": "code",
      "metadata": {
        "id": "5f8b4d67",
        "outputId": "757a0fa4-718d-450b-9348-a9383fffb94e"
      },
      "source": [
        "losses_val = []\n",
        "\n",
        "learning_rates = [0.1, 0.05, 0.01, 0.001, 0.0001]\n",
        "batch_sizes = [2, 10, 100, 1000, 10000]\n",
        "for learning_rate in learning_rates:\n",
        "    losses_val_lr = []\n",
        "    for batch_size in batch_sizes:\n",
        "        print('===========================')\n",
        "        print(f'** learning_rate = {learning_rate}, batch_size={batch_size}')\n",
        "        print('===========================')\n",
        "        torch.manual_seed(2)\n",
        "        nn_filter = EQnonlinear(num_taps=num_taps)\n",
        "        # Train data\n",
        "        dataloader_train = torch.utils.data.DataLoader(getchunks(y_train, num_taps).astype(np.float32),\n",
        "                                                  batch_size=batch_size)\n",
        "        labelloader_train = torch.utils.data.DataLoader(x_train.reshape(-1, 1).astype(np.float32),\n",
        "                                                  batch_size=batch_size//2)\n",
        "        \n",
        "        # Define loss function and optimizer\n",
        "        optimizer = optim.SGD(nn_filter.parameters(), lr=learning_rate)\n",
        "        # Trainings loop\n",
        "        timeout_start = time.time()\n",
        "        \n",
        "        for j in range(num_epochs):\n",
        "            for k, (y_t, x_t) in enumerate(zip(dataloader_train, labelloader_train)):\n",
        "                x_hat = nn_filter(y_t)\n",
        "                x_hat = downsample_td(x_hat, 2, 0)\n",
        "                loss = loss_fn(x_hat, x_t)\n",
        "                optimizer.zero_grad()\n",
        "                loss.backward()\n",
        "                optimizer.step()\n",
        "                \n",
        "            if j % 1 == 0:\n",
        "                print(f'epoch {j}: Loss = {loss.detach().numpy() :.4f}')\n",
        "            if time.time() > timeout + timeout_start:\n",
        "                break\n",
        "        # Record val losses \n",
        "        loss_val = loss_fn(downsample_td(nn_filter(y_val_t), 2, 0), x_val_t)\n",
        "        losses_val_lr.append(loss_val.detach().numpy())\n",
        "    losses_val.append(losses_val_lr)\n",
        "            "
      ],
      "id": "5f8b4d67",
      "execution_count": null,
      "outputs": [
        {
          "name": "stdout",
          "output_type": "stream",
          "text": [
            "===========================\n",
            "** learning_rate = 0.1, batch_size=2\n",
            "===========================\n",
            "epoch 0: Loss = nan\n",
            "===========================\n",
            "** learning_rate = 0.1, batch_size=10\n",
            "===========================\n",
            "epoch 0: Loss = nan\n",
            "===========================\n",
            "** learning_rate = 0.1, batch_size=100\n",
            "===========================\n",
            "epoch 0: Loss = 4.8128\n",
            "epoch 1: Loss = 4.8128\n",
            "epoch 2: Loss = 4.8128\n",
            "===========================\n",
            "** learning_rate = 0.1, batch_size=1000\n",
            "===========================\n",
            "epoch 0: Loss = 4.8277\n",
            "epoch 1: Loss = 4.8277\n",
            "epoch 2: Loss = 4.8277\n",
            "epoch 3: Loss = 4.8277\n",
            "epoch 4: Loss = 4.8277\n",
            "epoch 5: Loss = 4.8277\n",
            "===========================\n",
            "** learning_rate = 0.1, batch_size=10000\n",
            "===========================\n",
            "epoch 0: Loss = 1.1530\n",
            "epoch 1: Loss = 0.9265\n",
            "epoch 2: Loss = 3.0694\n",
            "epoch 3: Loss = 2.4181\n",
            "epoch 4: Loss = 2.2860\n",
            "===========================\n",
            "** learning_rate = 0.05, batch_size=2\n",
            "===========================\n",
            "epoch 0: Loss = nan\n",
            "===========================\n",
            "** learning_rate = 0.05, batch_size=10\n",
            "===========================\n",
            "epoch 0: Loss = 0.0000\n",
            "===========================\n",
            "** learning_rate = 0.05, batch_size=100\n",
            "===========================\n",
            "epoch 0: Loss = 0.0030\n",
            "epoch 1: Loss = 0.0016\n",
            "epoch 2: Loss = 0.0013\n",
            "===========================\n",
            "** learning_rate = 0.05, batch_size=1000\n",
            "===========================\n",
            "epoch 0: Loss = 0.0318\n",
            "epoch 1: Loss = 0.0186\n",
            "epoch 2: Loss = 0.0109\n",
            "epoch 3: Loss = 0.0116\n",
            "epoch 4: Loss = 0.0049\n",
            "===========================\n",
            "** learning_rate = 0.05, batch_size=10000\n",
            "===========================\n",
            "epoch 0: Loss = 0.2191\n",
            "epoch 1: Loss = 0.0884\n",
            "epoch 2: Loss = 0.0575\n",
            "epoch 3: Loss = 0.1864\n",
            "epoch 4: Loss = 0.0782\n",
            "===========================\n",
            "** learning_rate = 0.01, batch_size=2\n",
            "===========================\n",
            "epoch 0: Loss = 0.0005\n",
            "===========================\n",
            "** learning_rate = 0.01, batch_size=10\n",
            "===========================\n",
            "epoch 0: Loss = 0.0047\n",
            "===========================\n",
            "** learning_rate = 0.01, batch_size=100\n",
            "===========================\n",
            "epoch 0: Loss = 0.0111\n",
            "epoch 1: Loss = 0.0039\n",
            "epoch 2: Loss = 0.0024\n",
            "===========================\n",
            "** learning_rate = 0.01, batch_size=1000\n",
            "===========================\n",
            "epoch 0: Loss = 0.0812\n",
            "epoch 1: Loss = 0.0499\n",
            "epoch 2: Loss = 0.0340\n",
            "epoch 3: Loss = 0.0252\n",
            "epoch 4: Loss = 0.0200\n",
            "===========================\n",
            "** learning_rate = 0.01, batch_size=10000\n",
            "===========================\n",
            "epoch 0: Loss = 4.6959\n",
            "epoch 1: Loss = 3.1953\n",
            "epoch 2: Loss = 0.2827\n",
            "epoch 3: Loss = 0.1727\n",
            "epoch 4: Loss = 0.1363\n",
            "===========================\n",
            "** learning_rate = 0.001, batch_size=2\n",
            "===========================\n",
            "epoch 0: Loss = 0.0022\n",
            "===========================\n",
            "** learning_rate = 0.001, batch_size=10\n",
            "===========================\n",
            "epoch 0: Loss = 0.0150\n",
            "===========================\n",
            "** learning_rate = 0.001, batch_size=100\n",
            "===========================\n",
            "epoch 0: Loss = 0.0744\n",
            "epoch 1: Loss = 0.0426\n",
            "epoch 2: Loss = 0.0304\n",
            "===========================\n",
            "** learning_rate = 0.001, batch_size=1000\n",
            "===========================\n",
            "epoch 0: Loss = 4.6007\n",
            "epoch 1: Loss = 2.8258\n",
            "epoch 2: Loss = 0.2559\n",
            "epoch 3: Loss = 0.1640\n",
            "epoch 4: Loss = 0.1301\n",
            "===========================\n",
            "** learning_rate = 0.001, batch_size=10000\n",
            "===========================\n",
            "epoch 0: Loss = 4.8843\n",
            "epoch 1: Loss = 4.8631\n",
            "epoch 2: Loss = 4.8459\n",
            "epoch 3: Loss = 4.8297\n",
            "epoch 4: Loss = 4.8127\n",
            "===========================\n",
            "** learning_rate = 0.0001, batch_size=2\n",
            "===========================\n",
            "epoch 0: Loss = 0.0001\n",
            "===========================\n",
            "** learning_rate = 0.0001, batch_size=10\n",
            "===========================\n",
            "epoch 0: Loss = 0.1016\n",
            "===========================\n",
            "** learning_rate = 0.0001, batch_size=100\n",
            "===========================\n",
            "epoch 0: Loss = 4.6215\n",
            "epoch 1: Loss = 2.7428\n",
            "epoch 2: Loss = 0.2670\n",
            "===========================\n",
            "** learning_rate = 0.0001, batch_size=1000\n",
            "===========================\n",
            "epoch 0: Loss = 4.8383\n",
            "epoch 1: Loss = 4.8091\n",
            "epoch 2: Loss = 4.7860\n",
            "epoch 3: Loss = 4.7651\n",
            "epoch 4: Loss = 4.7444\n",
            "===========================\n",
            "** learning_rate = 0.0001, batch_size=10000\n",
            "===========================\n",
            "epoch 0: Loss = 4.9107\n",
            "epoch 1: Loss = 4.9071\n",
            "epoch 2: Loss = 4.9037\n",
            "epoch 3: Loss = 4.9004\n",
            "epoch 4: Loss = 4.8973\n"
          ]
        }
      ]
    },
    {
      "cell_type": "code",
      "metadata": {
        "id": "3a83925a"
      },
      "source": [
        "losses_val = np.array(losses_val)"
      ],
      "id": "3a83925a",
      "execution_count": null,
      "outputs": []
    },
    {
      "cell_type": "code",
      "metadata": {
        "id": "86ae6f4a",
        "outputId": "e2902555-d04e-41e8-c768-d75961c2a949"
      },
      "source": [
        "plt.figure(figsize=(8,6))\n",
        "for j in range(len(learning_rates)):\n",
        "    loss_batch = losses_val[j,:]\n",
        "    plt.loglog(batch_sizes, loss_batch, marker=\"o\", label=f'lr={learning_rates[j]}')\n",
        "\n",
        "plt.xlabel('Batch Size')\n",
        "plt.ylabel('Validation Loss')\n",
        "plt.legend()\n",
        "plt.grid()"
      ],
      "id": "86ae6f4a",
      "execution_count": null,
      "outputs": [
        {
          "data": {
            "image/png": "[encoded data removed]",
            "text/plain": [
              "<Figure size 576x432 with 1 Axes>"
            ]
          },
          "metadata": {
            "needs_background": "light"
          },
          "output_type": "display_data"
        }
      ]
    },
    {
      "cell_type": "markdown",
      "metadata": {
        "id": "608e9235"
      },
      "source": [
        "##### 4) \n",
        "Do you achieve a better validation loss when using torch.optim.Adam as optimizer?"
      ],
      "id": "608e9235"
    },
    {
      "cell_type": "code",
      "metadata": {
        "id": "341d8486"
      },
      "source": [
        "learning_rate = 1e-2\n",
        "batch_size = 1000\n",
        "num_epochs = 100\n",
        "dataloader = torch.utils.data.DataLoader(getchunks(y_train, num_taps).astype(np.float32),\n",
        "                                         batch_size=batch_size)\n",
        "labelloader = torch.utils.data.DataLoader(x_train.reshape(-1, 1).astype(np.float32),\n",
        "                                          batch_size=batch_size//2)\n",
        "nn_filter = EQnonlinear(num_taps=num_taps)\n",
        "optimizer = optim.Adam(nn_filter.parameters(), lr=learning_rate)"
      ],
      "id": "341d8486",
      "execution_count": null,
      "outputs": []
    },
    {
      "cell_type": "code",
      "metadata": {
        "id": "08879f5d",
        "outputId": "b5f748ff-86ed-47b4-8542-2661ffba6298"
      },
      "source": [
        "# Set a timer\n",
        "timeout_start = time.time()\n",
        "# Prellocate space\n",
        "loss_last_batch_adam = []\n",
        "loss_val_set_adam = []\n",
        "# Trainings loop\n",
        "for j in range(num_epochs):\n",
        "    for y_t, x_t in zip(dataloader, labelloader):\n",
        "        x_hat = nn_filter(y_t)\n",
        "        x_hat = downsample_td(x_hat, 2, 0)\n",
        "        loss = loss_fn(x_hat, x_t)\n",
        "        optimizer.zero_grad()\n",
        "        loss.backward()\n",
        "        optimizer.step()\n",
        "    # store loss of the last batch    \n",
        "    loss_last_batch_adam.append(loss.detach().numpy())\n",
        "    # store loss of validation set \n",
        "    loss_val = loss_fn(downsample_td(nn_filter(y_val_t), 2, 0), x_val_t)\n",
        "    loss_val_set_adam.append(loss_val.detach().numpy())\n",
        "    \n",
        "    if j % 1 == 0:\n",
        "        print(f'epoch {j}: Loss = {loss.detach().numpy() :.4f}')\n",
        "\n",
        "    #if loss < 1e-2:\n",
        "        #break\n",
        "        \n",
        "    if time.time()>(timeout_start+timeout):\n",
        "        break"
      ],
      "id": "08879f5d",
      "execution_count": null,
      "outputs": [
        {
          "name": "stdout",
          "output_type": "stream",
          "text": [
            "epoch 0: Loss = 0.0054\n",
            "epoch 1: Loss = 0.0013\n",
            "epoch 2: Loss = 0.0007\n",
            "epoch 3: Loss = 0.0005\n",
            "epoch 4: Loss = 0.0006\n"
          ]
        }
      ]
    },
    {
      "cell_type": "code",
      "metadata": {
        "id": "cd26f89b",
        "outputId": "42f947a8-1bba-4f88-e7fa-2aa89b7d33a6"
      },
      "source": [
        "# Calculate test loss \n",
        "loss_test_adam = loss_fn(downsample_td(nn_filter(y_test_t), 2, 0), x_test_t).detach().numpy()\n",
        "# Plot \n",
        "plt.figure(figsize=(8,6))\n",
        "plt.plot(np.arange(len(loss_last_batch_adam)), loss_last_batch_adam, label=\"Train Adam\")\n",
        "plt.plot(np.arange(len(loss_val_set_adam)), loss_val_set_adam, label=\"Validation Adam\")\n",
        "plt.plot(len(loss_val_set_adam)-1, loss_test_adam, marker='*', label=\"Test Adam\")\n",
        "\n",
        "plt.xlabel('Epoch index')\n",
        "plt.ylabel('Loss')\n",
        "plt.legend()\n",
        "plt.grid()"
      ],
      "id": "cd26f89b",
      "execution_count": null,
      "outputs": [
        {
          "data": {
            "image/png": "[encoded data removed]",
            "text/plain": [
              "<Figure size 576x432 with 1 Axes>"
            ]
          },
          "metadata": {
            "needs_background": "light"
          },
          "output_type": "display_data"
        }
      ]
    },
    {
      "cell_type": "code",
      "metadata": {
        "id": "cc8a3b6c",
        "outputId": "18f12c32-e4dc-4930-b2f3-c13a3307e060"
      },
      "source": [
        "# Comparative pLot\n",
        "plt.figure(figsize=(8,6))\n",
        "plt.plot(np.arange(len(loss_last_batch)), loss_last_batch, label=\"Train\")\n",
        "plt.plot(np.arange(len(loss_val_set)), loss_val_set, label=\"Validation\")\n",
        "plt.plot(len(loss_val_set)-1, loss_test, marker='*', label=\"Test\")\n",
        "\n",
        "plt.plot(np.arange(len(loss_last_batch_adam)), loss_last_batch_adam, label=\"Train Adam\")\n",
        "plt.plot(np.arange(len(loss_val_set_adam)), loss_val_set_adam, label=\"Validation Adam\")\n",
        "plt.plot(len(loss_val_set_adam)-1, loss_test_adam, marker='*', label=\"Test Adam\")\n",
        "\n",
        "plt.xlabel('Epoch index')\n",
        "plt.ylabel('Loss')\n",
        "plt.legend()\n",
        "plt.grid()"
      ],
      "id": "cc8a3b6c",
      "execution_count": null,
      "outputs": [
        {
          "data": {
            "image/png": "[encoded data removed]",
            "text/plain": [
              "<Figure size 576x432 with 1 Axes>"
            ]
          },
          "metadata": {
            "needs_background": "light"
          },
          "output_type": "display_data"
        }
      ]
    },
    {
      "cell_type": "code",
      "metadata": {
        "id": "8b5607c1"
      },
      "source": [
        ""
      ],
      "id": "8b5607c1",
      "execution_count": null,
      "outputs": []
    }
  ]
}