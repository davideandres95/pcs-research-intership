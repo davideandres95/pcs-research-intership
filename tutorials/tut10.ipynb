{
 "cells": [
  {
   "cell_type": "markdown",
   "metadata": {
    "id": "view-in-github",
    "colab_type": "text"
   },
   "source": [
    "<a href=\"https://colab.research.google.com/github/davideandres95/ml_comm/blob/main/tut10.ipynb\" target=\"_parent\"><img src=\"https://colab.research.google.com/assets/colab-badge.svg\" alt=\"Open In Colab\"/></a>"
   ]
  },
  {
   "cell_type": "markdown",
   "id": "7fe2da6e",
   "metadata": {
    "id": "7fe2da6e"
   },
   "source": [
    "## Tutorial 10 - Deterministic Channel Modelling\n",
    "13.01.2022"
   ]
  },
  {
   "cell_type": "markdown",
   "id": "296ba2b9",
   "metadata": {
    "id": "296ba2b9"
   },
   "source": [
    "In this promblem set, we consider the non-linear channel\n",
    "\n",
    "$$Y = f(X) = tanh(X) + Z $$\n",
    "\n",
    "where $Z$ is zero mean Gaussian with variance $\\sigma^2 = 0.007$. We model the channel by\n",
    "\n",
    "$$\\hat{Y} = g(X) + \\hat{Z} $$\n",
    "\n",
    "where $g$ is a deterministic function and $\\hat{Z}$ zero mean Gaussian with variance $\\hat{\\sigma}^2$."
   ]
  },
  {
   "cell_type": "code",
   "execution_count": null,
   "id": "fa0cd3ad",
   "metadata": {
    "id": "fa0cd3ad"
   },
   "outputs": [],
   "source": [
    "import numpy as np\n",
    "import torch\n",
    "from torch import nn, optim\n",
    "import matplotlib.pyplot as plt"
   ]
  },
  {
   "cell_type": "markdown",
   "id": "ded62938",
   "metadata": {
    "id": "ded62938"
   },
   "source": [
    "### Problem 8.2 - Linear model\n"
   ]
  },
  {
   "cell_type": "markdown",
   "id": "e2768e28",
   "metadata": {
    "id": "e2768e28"
   },
   "source": [
    "* 1. Implement $g$ as a linear neuron.\n",
    "* 2. Use the 4-ASK alphabet $X = \\{-3, -1, 1, 1, 3 \\}$. Sample $\\tilde{x}^n = \\tilde{x}_0 \\dots \\tilde{x}_{n-1}$ uniformly from $\\mathcal{x}$ and generate the input and output sequences \n",
    "\n",
    "$$x^n = 0.2 \\cdot \\tilde{x}^n, \\hspace{1cm} y_i = f(x_i), \\hspace{1cm} i = 0, \\dots, n-1 $$ \n",
    "\n",
    "Train your linear model $g$ using $x^n$ as input and $y^n$ as target output using the MSE loss function on $g(x^n)$ and $y^n$.\n",
    "* 3. For your trained model, plot $g(x)$ and $tanh(x)$ for $x \\in  [-2, 2]$. In which range of $x$ does $g$ approximate tanh well?"
   ]
  },
  {
   "cell_type": "code",
   "execution_count": null,
   "id": "b78b76b9",
   "metadata": {
    "id": "b78b76b9"
   },
   "outputs": [],
   "source": [
    "def tanh_channel(x, sigma2):\n",
    "    noise = np.sqrt(sigma2) * np.random.randn(*x.shape)\n",
    "    return np.tanh(x) + noise"
   ]
  },
  {
   "cell_type": "code",
   "execution_count": null,
   "id": "727e0486",
   "metadata": {
    "id": "727e0486"
   },
   "outputs": [],
   "source": [
    "def train_model(model, x, y):\n",
    "    batch_size = 100\n",
    "    num_epochs = 10\n",
    "    lr = 0.001\n",
    "\n",
    "    optimizer = optim.Adam(model.parameters(), lr=lr)\n",
    "    loss_fn = nn.MSELoss()\n",
    "\n",
    "    x_t = torch.Tensor(x)\n",
    "    y_t = torch.Tensor(y)\n",
    "\n",
    "    dataloader = torch.utils.data.DataLoader(x_t, batch_size=batch_size)\n",
    "    labelloader = torch.utils.data.DataLoader(y_t, batch_size=batch_size)\n",
    "\n",
    "    for i in range(num_epochs):\n",
    "        for xi, yi in zip(dataloader, labelloader):\n",
    "            yhat = model(xi.reshape(-1, 1)).reshape(-1)\n",
    "            loss = loss_fn(yi, yhat)\n",
    "            optimizer.zero_grad()\n",
    "            loss.backward()\n",
    "            optimizer.step()\n",
    "        print(f\"Epoch {i}: loss={loss :.4f}\")"
   ]
  },
  {
   "cell_type": "code",
   "execution_count": null,
   "id": "ebb06e59",
   "metadata": {
    "colab": {
     "base_uri": "https://localhost:8080/"
    },
    "id": "ebb06e59",
    "outputId": "76480c7f-d6d7-4c11-efbb-192c047a46d4"
   },
   "outputs": [
    {
     "output_type": "stream",
     "name": "stdout",
     "text": [
      "Epoch 0: loss=0.0198\n",
      "Epoch 1: loss=0.0197\n",
      "Epoch 2: loss=0.0197\n",
      "Epoch 3: loss=0.0197\n",
      "Epoch 4: loss=0.0197\n",
      "Epoch 5: loss=0.0197\n",
      "Epoch 6: loss=0.0197\n",
      "Epoch 7: loss=0.0197\n",
      "Epoch 8: loss=0.0197\n",
      "Epoch 9: loss=0.0197\n"
     ]
    }
   ],
   "source": [
    "linear_channel = nn.Linear(1, 1, bias=False)\n",
    "sigma2 = 0.007\n",
    "\n",
    "n = 100_000\n",
    "alphabet = np.array([-3, -1, 1, 3])\n",
    "x = np.random.choice(alphabet, n)\n",
    "gain = 0.5\n",
    "\n",
    "y = tanh_channel(gain * x, sigma2)\n",
    "\n",
    "train_model(linear_channel, gain*x, y)"
   ]
  },
  {
   "cell_type": "code",
   "execution_count": null,
   "id": "051bdce5",
   "metadata": {
    "colab": {
     "base_uri": "https://localhost:8080/",
     "height": 265
    },
    "id": "051bdce5",
    "outputId": "352030b5-a689-4011-b45c-0f338844af45"
   },
   "outputs": [
    {
     "output_type": "display_data",
     "data": {
      "image/png": "[encoded data removed]",
      "text/plain": [
       "<Figure size 432x288 with 1 Axes>"
      ]
     },
     "metadata": {
      "needs_background": "light"
     }
    }
   ],
   "source": [
    "# PLot\n",
    "x_test = np.arange(-2, 2.1, 0.1)\n",
    "plt.plot(x_test, np.tanh(x_test), label='tanh')\n",
    "x_test_t = torch.tensor(x_test.reshape(-1, 1)).float()\n",
    "plt.plot(x_test, linear_channel(x_test_t ).detach().numpy(), label='g')\n",
    "plt.legend()\n",
    "plt.grid()"
   ]
  },
  {
   "cell_type": "markdown",
   "id": "6ee12ce5",
   "metadata": {
    "id": "6ee12ce5"
   },
   "source": [
    "### Problem 8.3 - Nonlinear model"
   ]
  },
  {
   "cell_type": "markdown",
   "id": "0b382bd4",
   "metadata": {
    "id": "0b382bd4"
   },
   "source": [
    "* 1. Implement $g$ by a non-linear NN using several hidden layers with RelU activation.\n",
    "* 2. Repeat the steps of Problem 8.2 for your non-linear model. How well does $g$ approximate $tanh$?"
   ]
  },
  {
   "cell_type": "code",
   "execution_count": null,
   "id": "58a23d1e",
   "metadata": {
    "id": "58a23d1e"
   },
   "outputs": [],
   "source": [
    "class Channel(nn.Module):\n",
    "    def __init__(self):\n",
    "        super().__init__()\n",
    "        self.net = nn.Sequential(\n",
    "            nn.Linear(1, 10),\n",
    "            nn.ReLU(),\n",
    "            nn.Linear(10, 10),\n",
    "            nn.ReLU(),\n",
    "            nn.Linear(10, 10),\n",
    "            nn.ReLU(),\n",
    "            nn.Linear(10, 1)\n",
    "        )\n",
    "    \n",
    "    def forward(self, x):\n",
    "        return self.net(x)"
   ]
  },
  {
   "cell_type": "code",
   "execution_count": null,
   "id": "af45abd2",
   "metadata": {
    "colab": {
     "base_uri": "https://localhost:8080/"
    },
    "id": "af45abd2",
    "outputId": "732ee3f0-6b42-4597-ae4b-e7c3b6a3c080"
   },
   "outputs": [
    {
     "output_type": "stream",
     "name": "stdout",
     "text": [
      "Epoch 0: loss=0.0070\n",
      "Epoch 1: loss=0.0070\n",
      "Epoch 2: loss=0.0070\n",
      "Epoch 3: loss=0.0070\n",
      "Epoch 4: loss=0.0070\n",
      "Epoch 5: loss=0.0070\n",
      "Epoch 6: loss=0.0070\n",
      "Epoch 7: loss=0.0070\n",
      "Epoch 8: loss=0.0070\n",
      "Epoch 9: loss=0.0070\n"
     ]
    }
   ],
   "source": [
    "nonlinear_channel = Channel()\n",
    "sigma2 = 0.007\n",
    "\n",
    "n = 100_000\n",
    "alphabet = np.array([-3, -1, 1, 3])\n",
    "x = np.random.choice(alphabet, n)\n",
    "gain = 0.5\n",
    "\n",
    "y = tanh_channel(gain * x, sigma2)\n",
    "\n",
    "train_model(nonlinear_channel, gain *x, y)"
   ]
  },
  {
   "cell_type": "code",
   "execution_count": null,
   "id": "e4ca503f",
   "metadata": {
    "colab": {
     "base_uri": "https://localhost:8080/",
     "height": 265
    },
    "id": "e4ca503f",
    "outputId": "8fff938a-f4ba-49a7-ddb1-6d6c92a3c026"
   },
   "outputs": [
    {
     "output_type": "display_data",
     "data": {
      "image/png": "[encoded data removed]",
      "text/plain": [
       "<Figure size 432x288 with 1 Axes>"
      ]
     },
     "metadata": {
      "needs_background": "light"
     }
    }
   ],
   "source": [
    "# PLot\n",
    "x_test = np.arange(-2, 2.1, 0.1)\n",
    "plt.plot(x_test, np.tanh(x_test), label='tanh')\n",
    "x_test_t = torch.tensor(x_test.reshape(-1, 1)).float()\n",
    "plt.plot(x_test, nonlinear_channel(x_test_t ).detach().numpy(), label='g')\n",
    "plt.legend()\n",
    "plt.grid()"
   ]
  },
  {
   "cell_type": "markdown",
   "id": "429924ab",
   "metadata": {
    "id": "429924ab"
   },
   "source": [
    "* 3. Repeat the steps of Problem 8.2 for your non-linear model using, using for $x_n$ zero\n",
    "mean Gaussian samples with variance equal to the variance of $x_n$ in Problem 8.2.\n",
    "How well does $g$ approximate $tanh$ now?"
   ]
  },
  {
   "cell_type": "code",
   "execution_count": null,
   "id": "d5ee5af1",
   "metadata": {
    "colab": {
     "base_uri": "https://localhost:8080/",
     "height": 265
    },
    "id": "d5ee5af1",
    "outputId": "52c231ed-b1f9-40de-edd7-816bb3c44f5e"
   },
   "outputs": [
    {
     "output_type": "display_data",
     "data": {
      "image/png": "[encoded data removed]",
      "text/plain": [
       "<Figure size 432x288 with 1 Axes>"
      ]
     },
     "metadata": {
      "needs_background": "light"
     }
    }
   ],
   "source": [
    "# Gaussian input distribution\n",
    "gain = 0.5\n",
    "n = 100_000\n",
    "var = 5\n",
    "x = np.sqrt(var) * np.random.randn(n)\n",
    "plt.hist(x, bins=20)\n",
    "plt.grid()"
   ]
  },
  {
   "cell_type": "code",
   "execution_count": null,
   "id": "1f5be992",
   "metadata": {
    "colab": {
     "base_uri": "https://localhost:8080/"
    },
    "id": "1f5be992",
    "outputId": "d00ef3fa-1288-402f-de29-55eeadf441f3"
   },
   "outputs": [
    {
     "output_type": "stream",
     "name": "stdout",
     "text": [
      "Epoch 0: loss=0.0054\n",
      "Epoch 1: loss=0.0055\n",
      "Epoch 2: loss=0.0056\n",
      "Epoch 3: loss=0.0056\n",
      "Epoch 4: loss=0.0057\n",
      "Epoch 5: loss=0.0057\n",
      "Epoch 6: loss=0.0057\n",
      "Epoch 7: loss=0.0057\n",
      "Epoch 8: loss=0.0057\n",
      "Epoch 9: loss=0.0057\n"
     ]
    }
   ],
   "source": [
    "nonlinear_channel = Channel()\n",
    "sigma2 = 0.007\n",
    "y = tanh_channel(gain * x, sigma2)\n",
    "train_model(nonlinear_channel, gain *x, y)"
   ]
  },
  {
   "cell_type": "code",
   "execution_count": null,
   "id": "2658960e",
   "metadata": {
    "colab": {
     "base_uri": "https://localhost:8080/",
     "height": 265
    },
    "id": "2658960e",
    "outputId": "cea66378-140b-42ea-eeec-9874af730d12"
   },
   "outputs": [
    {
     "output_type": "display_data",
     "data": {
      "image/png": "[encoded data removed]",
      "text/plain": [
       "<Figure size 432x288 with 1 Axes>"
      ]
     },
     "metadata": {
      "needs_background": "light"
     }
    }
   ],
   "source": [
    "# PLot\n",
    "x_test = np.arange(-2, 2.1, 0.1)\n",
    "plt.plot(x_test, np.tanh(x_test), label='tanh')\n",
    "x_test_t = torch.tensor(x_test.reshape(-1, 1)).float()\n",
    "plt.plot(x_test, nonlinear_channel(x_test_t).detach().numpy(), label='g')\n",
    "plt.legend()\n",
    "plt.grid()"
   ]
  },
  {
   "cell_type": "code",
   "execution_count": null,
   "id": "156036b2",
   "metadata": {
    "colab": {
     "base_uri": "https://localhost:8080/",
     "height": 265
    },
    "id": "156036b2",
    "outputId": "1dcb1492-972a-4c43-af10-246dcb3e7afd"
   },
   "outputs": [
    {
     "output_type": "display_data",
     "data": {
      "image/png": "[encoded data removed]",
      "text/plain": [
       "<Figure size 432x288 with 1 Axes>"
      ]
     },
     "metadata": {
      "needs_background": "light"
     }
    }
   ],
   "source": [
    "# PLot\n",
    "x_test = np.arange(-10, 10, 0.1)\n",
    "plt.plot(x_test, np.tanh(x_test), label='tanh')\n",
    "x_test_t = torch.tensor(x_test.reshape(-1, 1)).float()\n",
    "plt.plot(x_test, nonlinear_channel(x_test_t).detach().numpy(), label='g')\n",
    "plt.legend()\n",
    "plt.grid()"
   ]
  },
  {
   "cell_type": "markdown",
   "id": "eb005269",
   "metadata": {
    "id": "eb005269"
   },
   "source": [
    "### Problem 8.4 - Model-based transmitter design "
   ]
  },
  {
   "cell_type": "markdown",
   "id": "e10d2cf1",
   "metadata": {
    "id": "e10d2cf1"
   },
   "source": [
    "* 1. Train a mapper following Problem 6.2 using your model from Problem 8.3.\n",
    "* 2. Evaluate your mapper on the true channel. How does it's performance compare to the performance of a mapper that is directly trained on the true channel?"
   ]
  },
  {
   "cell_type": "code",
   "execution_count": null,
   "id": "0e82d3aa",
   "metadata": {
    "id": "0e82d3aa"
   },
   "outputs": [],
   "source": [
    "def awgn_channel(x, sigma2):\n",
    "    noise = np.sqrt(sigma2) * torch.randn(len(x),1)\n",
    "    return x + noise"
   ]
  },
  {
   "cell_type": "code",
   "execution_count": null,
   "id": "aa33f330",
   "metadata": {
    "id": "aa33f330"
   },
   "outputs": [],
   "source": [
    "# Channel \n",
    "def tanh_channel(x, sigma2, seed=None):\n",
    "    noise_t = np.sqrt(sigma2)*torch.randn(len(x),1)\n",
    "    return torch.add(torch.tanh(x), noise_t)"
   ]
  },
  {
   "cell_type": "code",
   "execution_count": null,
   "id": "dc19cae8",
   "metadata": {
    "id": "dc19cae8"
   },
   "outputs": [],
   "source": [
    "def one_hot(a, M):\n",
    "    onehot = np.zeros(M)\n",
    "    onehot[a] = 1\n",
    "    return onehot"
   ]
  },
  {
   "cell_type": "code",
   "execution_count": null,
   "id": "8761461d",
   "metadata": {
    "id": "8761461d"
   },
   "outputs": [],
   "source": [
    "# Transmitter and receiver NNs\n",
    "class Transmitter(nn.Module):\n",
    "    def __init__(self, M):\n",
    "        super().__init__()\n",
    "        self.lin1 = nn.Linear(M, 1)\n",
    "\n",
    "    def forward(self, y):\n",
    "        y = self.lin1(y)\n",
    "        return y\n",
    "    \n",
    "class Receiver(nn.Module):\n",
    "    def __init__(self, M):\n",
    "        super().__init__()\n",
    "        self.lin1 = nn.Linear(1, M)\n",
    "\n",
    "    def forward(self, y):\n",
    "        y = self.lin1(y)\n",
    "        return y   "
   ]
  },
  {
   "cell_type": "code",
   "execution_count": null,
   "id": "a5040bdf",
   "metadata": {
    "id": "a5040bdf"
   },
   "outputs": [],
   "source": [
    "# Create data\n",
    "n = 100_000\n",
    "M = 4\n",
    "a = np.random.choice(range(M), size=n)\n",
    "onehot = np.array([one_hot(a[i], M) for i in range(n)])\n",
    "onehot_t = torch.tensor(onehot).float()\n",
    "a_t = torch.tensor(a)\n",
    "a_t = a_t.type(torch.LongTensor)"
   ]
  },
  {
   "cell_type": "code",
   "execution_count": null,
   "id": "b74b5182",
   "metadata": {
    "id": "b74b5182"
   },
   "outputs": [],
   "source": [
    "# Loss function\n",
    "loss_fn = nn.CrossEntropyLoss()"
   ]
  },
  {
   "cell_type": "code",
   "execution_count": null,
   "id": "4036b60f",
   "metadata": {
    "colab": {
     "base_uri": "https://localhost:8080/"
    },
    "id": "4036b60f",
    "outputId": "ba2761d4-b9c5-45db-9870-7f2e77024219"
   },
   "outputs": [
    {
     "output_type": "stream",
     "name": "stdout",
     "text": [
      "--- SNR = 5 dB ---\n",
      "epoch 0: Loss = 2.3845\n",
      "epoch 100: Loss = 1.1741\n",
      "epoch 200: Loss = 0.8613\n",
      "epoch 300: Loss = 0.5431\n",
      "epoch 400: Loss = 0.3674\n",
      "epoch 500: Loss = 0.2557\n",
      "epoch 600: Loss = 0.1768\n",
      "epoch 700: Loss = 0.1296\n",
      "epoch 800: Loss = 0.0992\n",
      "epoch 900: Loss = 0.0757\n",
      "--- SNR = 10 dB ---\n",
      "epoch 0: Loss = 2.2636\n",
      "epoch 100: Loss = 0.8267\n",
      "epoch 200: Loss = 0.4580\n",
      "epoch 300: Loss = 0.2267\n",
      "epoch 400: Loss = 0.1386\n",
      "epoch 500: Loss = 0.0910\n",
      "epoch 600: Loss = 0.0642\n",
      "epoch 700: Loss = 0.0497\n",
      "epoch 800: Loss = 0.0372\n",
      "epoch 900: Loss = 0.0295\n",
      "--- SNR = 20 dB ---\n",
      "epoch 0: Loss = 2.1383\n",
      "epoch 100: Loss = 0.5643\n",
      "epoch 200: Loss = 0.1683\n",
      "epoch 300: Loss = 0.0628\n",
      "epoch 400: Loss = 0.0324\n",
      "epoch 500: Loss = 0.0200\n",
      "epoch 600: Loss = 0.0138\n",
      "epoch 700: Loss = 0.0103\n",
      "epoch 800: Loss = 0.0080\n",
      "epoch 900: Loss = 0.0064\n"
     ]
    }
   ],
   "source": [
    "# Training with the nonlinear channel model from 8.3\n",
    "# Training loop\n",
    "ces = []\n",
    "snrdBs = [5, 10, 20]\n",
    "for snrdB in snrdBs:\n",
    "    print(f'--- SNR = {snrdB} dB ---')\n",
    "    snr = 10**(snrdB/10)\n",
    "    sigma2 = 1/snr\n",
    "    \n",
    "    tx = Transmitter(M)\n",
    "    rx = Receiver(M)\n",
    "    optimizer = optim.Adam(list(tx.parameters()) + list(rx.parameters()), lr=0.1)\n",
    "    \n",
    "\n",
    "    for j in range(1000):\n",
    "        x = tx(onehot_t)\n",
    "        y = nonlinear_channel(x.reshape(-1, 1))\n",
    "        yy = awgn_channel(y, sigma2)\n",
    "        l = rx(yy)\n",
    "        loss = loss_fn(l, a_t)\n",
    "        optimizer.zero_grad()\n",
    "        loss.backward()\n",
    "        optimizer.step()\n",
    "\n",
    "        # Printout and visualization\n",
    "        if j % 100 == 0:\n",
    "            print(f'epoch {j}: Loss = {loss.detach().numpy()/np.log(2) :.4f}')\n",
    "        if loss < 1e-3:\n",
    "            break\n",
    "    ces.append(loss.detach().numpy()/np.log(2))"
   ]
  },
  {
   "cell_type": "code",
   "execution_count": null,
   "id": "a518b4ba",
   "metadata": {
    "colab": {
     "base_uri": "https://localhost:8080/",
     "height": 281
    },
    "id": "a518b4ba",
    "outputId": "19f5d563-01f2-49f4-de22-31b31bfce463"
   },
   "outputs": [
    {
     "output_type": "display_data",
     "data": {
      "image/png": "[encoded data removed]",
      "text/plain": [
       "<Figure size 432x288 with 1 Axes>"
      ]
     },
     "metadata": {
      "needs_background": "light"
     }
    }
   ],
   "source": [
    "# Constellation plot\n",
    "a_plot = np.arange(M)\n",
    "onehot_plot = np.array([one_hot(a_plot[i], M) for i in range(M)])\n",
    "learned_x = tx(torch.tensor(onehot_plot).float())\n",
    "plt.scatter(np.real(learned_x.detach().numpy()), np.imag(learned_x.detach().numpy()))\n",
    "plt.title('Learned constellation')\n",
    "plt.grid()"
   ]
  },
  {
   "cell_type": "markdown",
   "id": "cbcf1f2f",
   "metadata": {
    "id": "cbcf1f2f"
   },
   "source": [
    "* Now we want to force the transmitter to take values only in the range where our channel model is actually trained."
   ]
  },
  {
   "cell_type": "code",
   "execution_count": null,
   "id": "efc5c31d",
   "metadata": {
    "id": "efc5c31d"
   },
   "outputs": [],
   "source": [
    "# Create data\n",
    "M = 4\n",
    "n = 100000\n",
    "a = np.random.choice(range(M), size=n)\n",
    "onehot = np.array([one_hot(a[i], M) for i in range(n)])\n",
    "onehot_t = torch.tensor(onehot).float()\n",
    "a_t = torch.tensor(a)\n",
    "a_t = a_t.type(torch.LongTensor)"
   ]
  },
  {
   "cell_type": "code",
   "execution_count": null,
   "id": "7b8a35bd",
   "metadata": {
    "id": "7b8a35bd"
   },
   "outputs": [],
   "source": [
    "def clip(x):\n",
    "    v = torch.tensor([3])\n",
    "    xx = torch.max(torch.min(x,v),-v)\n",
    "    return xx"
   ]
  },
  {
   "cell_type": "code",
   "execution_count": null,
   "id": "90244634",
   "metadata": {
    "colab": {
     "base_uri": "https://localhost:8080/"
    },
    "id": "90244634",
    "outputId": "f0ecc1f4-eb5b-42b7-b907-1ed6cf0e6668"
   },
   "outputs": [
    {
     "output_type": "stream",
     "name": "stdout",
     "text": [
      "--- SNR = 5 dB ---\n",
      "epoch 0: Loss = 2.1176\n",
      "epoch 1000: Loss = 1.1473\n",
      "epoch 2000: Loss = 1.1449\n",
      "epoch 3000: Loss = 1.1408\n",
      "epoch 4000: Loss = 1.1419\n",
      "--- SNR = 10 dB ---\n",
      "epoch 0: Loss = 2.3357\n",
      "epoch 1000: Loss = 0.7460\n",
      "epoch 2000: Loss = 0.7431\n",
      "epoch 3000: Loss = 0.7436\n",
      "epoch 4000: Loss = 0.7462\n",
      "--- SNR = 20 dB ---\n",
      "epoch 0: Loss = 2.1262\n",
      "epoch 1000: Loss = 0.0375\n",
      "epoch 2000: Loss = 0.0163\n",
      "epoch 3000: Loss = 0.0109\n",
      "epoch 4000: Loss = 0.0079\n"
     ]
    }
   ],
   "source": [
    "# Training with the nonlinear channel model from 8.3\n",
    "# Training loop\n",
    "ces = []\n",
    "snrdBs = [5,10,20]\n",
    "for snrdB in snrdBs:\n",
    "    print(f'--- SNR = {snrdB} dB ---')\n",
    "    snr = 10**(snrdB/10)\n",
    "    sigma2 = 1/snr\n",
    "    \n",
    "    tx = Transmitter(M)\n",
    "    rx = Receiver(M)\n",
    "    optimizer = optim.Adam(list(tx.parameters()) + list(rx.parameters()), lr=0.1)\n",
    "    \n",
    "\n",
    "    for j in range(5000):\n",
    "        x = tx(onehot_t)\n",
    "        x = clip(x)\n",
    "        y = nonlinear_channel(x.reshape(-1, 1))\n",
    "        yy = awgn_channel(y, sigma2)\n",
    "        l = rx(yy)\n",
    "        loss = loss_fn(l, a_t)\n",
    "        optimizer.zero_grad()\n",
    "        loss.backward()\n",
    "        optimizer.step()\n",
    "\n",
    "        # Printout and visualization\n",
    "        if j % 1000 == 0:\n",
    "            print(f'epoch {j}: Loss = {loss.detach().numpy()/np.log(2) :.4f}')\n",
    "        if loss < 1e-3:\n",
    "            break\n",
    "    ces.append(loss.detach().numpy()/np.log(2))"
   ]
  },
  {
   "cell_type": "code",
   "execution_count": null,
   "id": "8310301f",
   "metadata": {
    "colab": {
     "base_uri": "https://localhost:8080/"
    },
    "id": "8310301f",
    "outputId": "a6a6b6b0-edac-40d1-8720-2fb9a66aff19"
   },
   "outputs": [
    {
     "output_type": "display_data",
     "data": {
      "image/png": "[encoded data removed]",
      "text/plain": [
       "<Figure size 432x288 with 1 Axes>"
      ]
     },
     "metadata": {
      "needs_background": "light"
     }
    }
   ],
   "source": [
    "# Constellation plot\n",
    "a_plot = np.arange(M)\n",
    "onehot_plot = np.array([one_hot(a_plot[i], M) for i in range(M)])\n",
    "learned_x = tx(torch.tensor(onehot_plot).float())\n",
    "plt.scatter(np.real(learned_x.detach().numpy()), np.imag(learned_x.detach().numpy()))\n",
    "plt.title('Learned constellation')\n",
    "plt.grid()"
   ]
  },
  {
   "cell_type": "code",
   "execution_count": null,
   "id": "ef6d92e7",
   "metadata": {
    "colab": {
     "base_uri": "https://localhost:8080/"
    },
    "id": "ef6d92e7",
    "outputId": "ddd0156b-c769-4160-cacd-e8364958e587"
   },
   "outputs": [
    {
     "output_type": "display_data",
     "data": {
      "image/png": "[encoded data removed]",
      "text/plain": [
       "<Figure size 432x288 with 1 Axes>"
      ]
     },
     "metadata": {
      "needs_background": "light"
     }
    }
   ],
   "source": [
    "yy_plot = torch.tanh(learned_x)\n",
    "plt.scatter(np.real(yy_plot.detach().numpy()), np.imag(yy_plot.detach().numpy()))\n",
    "plt.title('Constellation after tanh')\n",
    "plt.grid()"
   ]
  },
  {
   "cell_type": "markdown",
   "id": "7c81aab2",
   "metadata": {
    "id": "7c81aab2"
   },
   "source": [
    "* Now we train the mapper on the true channel."
   ]
  },
  {
   "cell_type": "code",
   "execution_count": null,
   "id": "ccd12d3b",
   "metadata": {
    "id": "ccd12d3b"
   },
   "outputs": [],
   "source": [
    "# Create data\n",
    "M = 4\n",
    "n = 100000\n",
    "a = np.random.choice(range(M), size=n)\n",
    "onehot = np.array([one_hot(a[i], M) for i in range(n)])\n",
    "onehot_t = torch.tensor(onehot).float()\n",
    "a_t = torch.tensor(a)\n",
    "a_t = a_t.type(torch.LongTensor)"
   ]
  },
  {
   "cell_type": "code",
   "execution_count": null,
   "id": "8ba07ecc",
   "metadata": {
    "colab": {
     "base_uri": "https://localhost:8080/"
    },
    "id": "8ba07ecc",
    "outputId": "f18688e0-be35-45eb-c049-16e56806d36e"
   },
   "outputs": [
    {
     "output_type": "stream",
     "name": "stdout",
     "text": [
      "--- SNR = 5 dB ---\n",
      "epoch 0: Loss = 2.1861\n",
      "epoch 1000: Loss = 1.1425\n",
      "epoch 2000: Loss = 1.1386\n",
      "epoch 3000: Loss = 1.1410\n",
      "epoch 4000: Loss = 1.1425\n",
      "--- SNR = 10 dB ---\n",
      "epoch 0: Loss = 2.3995\n",
      "epoch 1000: Loss = 0.7259\n",
      "epoch 2000: Loss = 0.7213\n",
      "epoch 3000: Loss = 0.7238\n",
      "epoch 4000: Loss = 0.7286\n",
      "--- SNR = 20 dB ---\n",
      "epoch 0: Loss = 1.9286\n",
      "epoch 1000: Loss = 0.0304\n",
      "epoch 2000: Loss = 0.0125\n",
      "epoch 3000: Loss = 0.0079\n",
      "epoch 4000: Loss = 0.0058\n"
     ]
    }
   ],
   "source": [
    "# Training with the true channel\n",
    "# Training loop\n",
    "ces_true = []\n",
    "snrdBs = [5,10,20]\n",
    "for snrdB in snrdBs:\n",
    "    print(f'--- SNR = {snrdB} dB ---')\n",
    "    snr = 10**(snrdB/10)\n",
    "    sigma2 = 1/snr\n",
    "    \n",
    "    tx = Transmitter(M)\n",
    "    rx = Receiver(M)\n",
    "    optimizer = optim.Adam(list(tx.parameters()) + list(rx.parameters()), lr=0.1)\n",
    "    \n",
    "    \n",
    "    for j in range(5000):\n",
    "        x = tx(onehot_t)\n",
    "        y = tanh_channel(x, sigma2).float()\n",
    "        l = rx(y)\n",
    "        loss = loss_fn(l, a_t)\n",
    "        optimizer.zero_grad()\n",
    "        loss.backward()\n",
    "        optimizer.step()\n",
    "\n",
    "        # Printout and visualization\n",
    "        if j % 1000 == 0:\n",
    "            print(f'epoch {j}: Loss = {loss.detach().numpy()/np.log(2) :.4f}')\n",
    "        if loss < 1e-3:\n",
    "            break\n",
    "\n",
    "    ces_true.append(loss.detach().numpy()/np.log(2))"
   ]
  },
  {
   "cell_type": "code",
   "execution_count": null,
   "id": "475cb282",
   "metadata": {
    "colab": {
     "base_uri": "https://localhost:8080/"
    },
    "id": "475cb282",
    "outputId": "fee34c3a-19af-46f4-8e58-01f214cb5dc3"
   },
   "outputs": [
    {
     "output_type": "display_data",
     "data": {
      "image/png": "[encoded data removed]",
      "text/plain": [
       "<Figure size 432x288 with 1 Axes>"
      ]
     },
     "metadata": {
      "needs_background": "light"
     }
    }
   ],
   "source": [
    "# Constellation plot\n",
    "a_plot = np.arange(M)\n",
    "onehot_plot = np.array([one_hot(a_plot[i], M) for i in range(M)])\n",
    "learned_x = tx(torch.tensor(onehot_plot).float())\n",
    "plt.scatter(np.real(learned_x.detach().numpy()), np.imag(learned_x.detach().numpy()))\n",
    "plt.title('Learned constellation')\n",
    "plt.grid()"
   ]
  },
  {
   "cell_type": "code",
   "execution_count": null,
   "id": "fbf0a672",
   "metadata": {
    "colab": {
     "base_uri": "https://localhost:8080/"
    },
    "id": "fbf0a672",
    "outputId": "23aafd05-8ae2-4f25-db4d-68667073721f"
   },
   "outputs": [
    {
     "output_type": "display_data",
     "data": {
      "image/png": "[encoded data removed]",
      "text/plain": [
       "<Figure size 432x288 with 1 Axes>"
      ]
     },
     "metadata": {
      "needs_background": "light"
     }
    }
   ],
   "source": [
    "yy_plot = torch.tanh(learned_x)\n",
    "plt.scatter(np.real(yy_plot.detach().numpy()), np.imag(yy_plot.detach().numpy()))\n",
    "plt.title('Constellation after tanh')\n",
    "plt.grid()"
   ]
  },
  {
   "cell_type": "code",
   "execution_count": null,
   "id": "4d68ab27",
   "metadata": {
    "colab": {
     "base_uri": "https://localhost:8080/"
    },
    "id": "4d68ab27",
    "outputId": "e12b1286-5efa-40a1-ebe5-da6c5638d611"
   },
   "outputs": [
    {
     "output_type": "display_data",
     "data": {
      "image/png": "[encoded data removed]",
      "text/plain": [
       "<Figure size 432x288 with 1 Axes>"
      ]
     },
     "metadata": {
      "needs_background": "light"
     }
    }
   ],
   "source": [
    "# Plot\n",
    "SNRs = 10**(np.array(snrdBs)/10)\n",
    "plt.plot(snrdBs, np.log2(4)-ces, label = 'channel model')\n",
    "plt.plot(snrdBs, np.log2(4)-ces_true, '--', label = 'true channel')\n",
    "plt.plot(snrdBs, 0.5 * np.log2(1+ SNRs), label='AWGN Capacity')\n",
    "plt.xlabel('SNR dB')\n",
    "plt.ylabel('mi')\n",
    "plt.legend()\n",
    "plt.grid()"
   ]
  },
  {
   "cell_type": "code",
   "execution_count": null,
   "id": "93fd93a1",
   "metadata": {
    "id": "93fd93a1"
   },
   "outputs": [],
   "source": []
  }
 ],
 "metadata": {
  "kernelspec": {
   "display_name": "Python 3 (ipykernel)",
   "language": "python",
   "name": "python3"
  },
  "language_info": {
   "codemirror_mode": {
    "name": "ipython",
    "version": 3
   },
   "file_extension": ".py",
   "mimetype": "text/x-python",
   "name": "python",
   "nbconvert_exporter": "python",
   "pygments_lexer": "ipython3",
   "version": "3.9.2"
  },
  "colab": {
   "name": "tut10.ipynb",
   "provenance": [],
   "include_colab_link": true
  }
 },
 "nbformat": 4,
 "nbformat_minor": 5
}
