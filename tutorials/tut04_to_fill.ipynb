{
 "cells": [
  {
   "cell_type": "markdown",
   "id": "cd1a7192",
   "metadata": {
    "colab_type": "text",
    "id": "view-in-github"
   },
   "source": [
    "<a href=\"https://colab.research.google.com/github/davideandres95/ml_comm/blob/main/tut04_to_fill.ipynb\" target=\"_parent\"><img src=\"https://colab.research.google.com/assets/colab-badge.svg\" alt=\"Open In Colab\"/></a>"
   ]
  },
  {
   "cell_type": "markdown",
   "id": "4479e7a1",
   "metadata": {
    "id": "4479e7a1"
   },
   "source": [
    "#  Tutorial 4: Bitwise Demapper\n",
    "November 11, 2021"
   ]
  },
  {
   "cell_type": "code",
   "execution_count": 1,
   "id": "17f53cb7",
   "metadata": {
    "id": "17f53cb7"
   },
   "outputs": [],
   "source": [
    "import numpy as np\n",
    "import matplotlib.pyplot as plt\n",
    "import torch\n",
    "from torch import nn, optim"
   ]
  },
  {
   "cell_type": "markdown",
   "id": "24eb4cf7",
   "metadata": {
    "id": "24eb4cf7"
   },
   "source": [
    "### Problem 4.2 - Optimality of Binary NN Demapper for AWGN\n",
    "\n",
    "Consider an additive white Gaussian noise (AWGN) channel\n",
    "$$Y = X + Z $$\n",
    "with binary phase shift keying (BPSK) input $X$ uniformly distributed on $\\{-1, 1 \\}$, Gaussian\n",
    "noise $Z\\sim\\mathcal{N} (0, \\sigma^2)$. Assume the binary label $B = b(X)$ with $b(-1) = 0$ and $b(1) = 1$.\n",
    "1. Show that\n",
    "$$L = log\\frac{P_{B|Y}(1|y)}{P_{B|Y}(0|y)}$$\n",
    "is given by \n",
    "$$ L= \\lambda y$$\n",
    "\n",
    "2. For $\\text{SNR} = [0, 1,\\dots, 5]$ train the binary NN demapper in Figure 4.3. Compare\n",
    "the weight $w$ after training with the value of $\\lambda$ that you calculated in 1."
   ]
  },
  {
   "cell_type": "code",
   "execution_count": null,
   "id": "cb1ddd56",
   "metadata": {
    "id": "cb1ddd56"
   },
   "outputs": [],
   "source": [
    "def mapper(msg, alphabet): # maps message a in [0,1,..,M-1] to alphabet symbols\n",
    "    return alphabet[msg]\n",
    "\n",
    "def awgn_channel(x, snr, seed=None): # returns Y = X+Z\n",
    "    rng = np.random.Generator(np.random.PCG64(seed))\n",
    "    power_x = np.mean(np.abs(x) ** 2)\n",
    "    noise_power = power_x / snr\n",
    "    noise = np.sqrt(noise_power) * rng.normal(size=x.shape) \n",
    "    return x + noise"
   ]
  },
  {
   "cell_type": "code",
   "execution_count": null,
   "id": "499b2389",
   "metadata": {
    "id": "499b2389"
   },
   "outputs": [],
   "source": [
    "M = 2 # cardinality of the alphabet\n",
    "a = np.random.choice(M, 10000) # messages\n",
    "x = mapper(a, np.array([ -1., 1.])) # symbols"
   ]
  },
  {
   "cell_type": "code",
   "execution_count": null,
   "id": "29f73e16",
   "metadata": {
    "id": "29f73e16"
   },
   "outputs": [],
   "source": [
    "class bin_demapper(nn.Module):\n",
    "    def __init__(self):\n",
    "        super().__init__()\n",
    "        self.h1 = nn.Linear(1,1, bias=False)\n",
    "\n",
    "    def forward(self, y):\n",
    "        return self.h1(y)"
   ]
  },
  {
   "cell_type": "code",
   "execution_count": null,
   "id": "e85a4e47",
   "metadata": {
    "colab": {
     "base_uri": "https://localhost:8080/"
    },
    "id": "e85a4e47",
    "outputId": "0cd959f6-d5af-4559-8c97-82d0f26b18a2"
   },
   "outputs": [
    {
     "name": "stdout",
     "output_type": "stream",
     "text": [
      "--- SNR is: 1.00 ---\n",
      "epoch 0: Loss = 0.4486\n",
      "epoch 50: Loss = 0.3529\n",
      "epoch 100: Loss = 0.3529\n",
      "epoch 150: Loss = 0.3529\n",
      "epoch 200: Loss = 0.3529\n",
      "epoch 250: Loss = 0.3529\n",
      "epoch 300: Loss = 0.3529\n",
      "epoch 350: Loss = 0.3529\n",
      "epoch 400: Loss = 0.3529\n",
      "epoch 450: Loss = 0.3529\n",
      "epoch 500: Loss = 0.3529\n",
      "epoch 550: Loss = 0.3529\n",
      "epoch 600: Loss = 0.3529\n",
      "epoch 650: Loss = 0.3529\n",
      "epoch 700: Loss = 0.3529\n",
      "epoch 750: Loss = 0.3529\n",
      "epoch 800: Loss = 0.3529\n",
      "epoch 850: Loss = 0.3529\n",
      "epoch 900: Loss = 0.3529\n",
      "epoch 950: Loss = 0.3529\n",
      "--- SNR is: 1.26 ---\n",
      "epoch 0: Loss = 0.9518\n",
      "epoch 50: Loss = 0.3113\n",
      "epoch 100: Loss = 0.3101\n",
      "epoch 150: Loss = 0.3101\n",
      "epoch 200: Loss = 0.3101\n",
      "epoch 250: Loss = 0.3101\n",
      "epoch 300: Loss = 0.3101\n",
      "epoch 350: Loss = 0.3101\n",
      "epoch 400: Loss = 0.3101\n",
      "epoch 450: Loss = 0.3101\n",
      "epoch 500: Loss = 0.3101\n",
      "epoch 550: Loss = 0.3101\n",
      "epoch 600: Loss = 0.3101\n",
      "epoch 650: Loss = 0.3101\n",
      "epoch 700: Loss = 0.3101\n",
      "epoch 750: Loss = 0.3101\n",
      "epoch 800: Loss = 0.3101\n",
      "epoch 850: Loss = 0.3101\n",
      "epoch 900: Loss = 0.3101\n",
      "epoch 950: Loss = 0.3101\n",
      "--- SNR is: 1.58 ---\n",
      "epoch 0: Loss = 0.5052\n",
      "epoch 50: Loss = 0.2566\n",
      "epoch 100: Loss = 0.2566\n",
      "epoch 150: Loss = 0.2566\n",
      "epoch 200: Loss = 0.2566\n",
      "epoch 250: Loss = 0.2566\n",
      "epoch 300: Loss = 0.2566\n",
      "epoch 350: Loss = 0.2566\n",
      "epoch 400: Loss = 0.2566\n",
      "epoch 450: Loss = 0.2566\n",
      "epoch 500: Loss = 0.2566\n",
      "epoch 550: Loss = 0.2566\n",
      "epoch 600: Loss = 0.2566\n",
      "epoch 650: Loss = 0.2566\n",
      "epoch 700: Loss = 0.2566\n",
      "epoch 750: Loss = 0.2566\n",
      "epoch 800: Loss = 0.2566\n",
      "epoch 850: Loss = 0.2566\n",
      "epoch 900: Loss = 0.2566\n",
      "epoch 950: Loss = 0.2566\n",
      "--- SNR is: 2.00 ---\n",
      "epoch 0: Loss = 1.0407\n",
      "epoch 50: Loss = 0.2189\n",
      "epoch 100: Loss = 0.2006\n",
      "epoch 150: Loss = 0.1967\n",
      "epoch 200: Loss = 0.1956\n",
      "epoch 250: Loss = 0.1952\n",
      "epoch 300: Loss = 0.1952\n",
      "epoch 350: Loss = 0.1951\n",
      "epoch 400: Loss = 0.1951\n",
      "epoch 450: Loss = 0.1951\n",
      "epoch 500: Loss = 0.1951\n",
      "epoch 550: Loss = 0.1951\n",
      "epoch 600: Loss = 0.1951\n",
      "epoch 650: Loss = 0.1951\n",
      "epoch 700: Loss = 0.1951\n",
      "epoch 750: Loss = 0.1951\n",
      "epoch 800: Loss = 0.1951\n",
      "epoch 850: Loss = 0.1951\n",
      "epoch 900: Loss = 0.1951\n",
      "epoch 950: Loss = 0.1951\n",
      "--- SNR is: 2.51 ---\n",
      "epoch 0: Loss = 0.3520\n",
      "epoch 50: Loss = 0.1390\n",
      "epoch 100: Loss = 0.1331\n",
      "epoch 150: Loss = 0.1322\n",
      "epoch 200: Loss = 0.1320\n",
      "epoch 250: Loss = 0.1320\n",
      "epoch 300: Loss = 0.1320\n",
      "epoch 350: Loss = 0.1320\n",
      "epoch 400: Loss = 0.1320\n",
      "epoch 450: Loss = 0.1320\n",
      "epoch 500: Loss = 0.1320\n",
      "epoch 550: Loss = 0.1320\n",
      "epoch 600: Loss = 0.1320\n",
      "epoch 650: Loss = 0.1320\n",
      "epoch 700: Loss = 0.1320\n",
      "epoch 750: Loss = 0.1320\n",
      "epoch 800: Loss = 0.1320\n",
      "epoch 850: Loss = 0.1320\n",
      "epoch 900: Loss = 0.1320\n",
      "epoch 950: Loss = 0.1320\n",
      "--- SNR is: 3.16 ---\n",
      "epoch 0: Loss = 1.3093\n",
      "epoch 50: Loss = 0.1745\n",
      "epoch 100: Loss = 0.1331\n",
      "epoch 150: Loss = 0.1199\n",
      "epoch 200: Loss = 0.1135\n",
      "epoch 250: Loss = 0.1100\n",
      "epoch 300: Loss = 0.1079\n",
      "epoch 350: Loss = 0.1067\n",
      "epoch 400: Loss = 0.1059\n",
      "epoch 450: Loss = 0.1054\n",
      "epoch 500: Loss = 0.1051\n",
      "epoch 550: Loss = 0.1049\n",
      "epoch 600: Loss = 0.1047\n",
      "epoch 650: Loss = 0.1047\n",
      "epoch 700: Loss = 0.1046\n",
      "epoch 750: Loss = 0.1046\n",
      "epoch 800: Loss = 0.1046\n",
      "epoch 850: Loss = 0.1045\n",
      "epoch 900: Loss = 0.1045\n",
      "epoch 950: Loss = 0.1045\n"
     ]
    }
   ],
   "source": [
    "SNRdBs = np.array([0,1,2,3,4,5])\n",
    "SNRs = 10**(SNRdBs/10)\n",
    "# Preallocate\n",
    "weigths = np.zeros(SNRs.size)\n",
    "logits = np.zeros((SNRs.size,10000))\n",
    "ys = np.zeros((SNRs.size,10000))\n",
    "\n",
    "# Convert labels to torch tensor\n",
    "a_t = torch.Tensor(a.reshape((-1,1)))\n",
    "# Loss function\n",
    "# Your code here\n",
    "loss_fn = nn.BCEWithLogitsLoss()\n",
    "\n",
    "for idx,snr in enumerate(SNRs):\n",
    "    print(f'--- SNR is: {snr:.2f} ---')\n",
    "    # Generate y\n",
    "    y = awgn_channel(x, snr)\n",
    "    ys[idx,:] = y\n",
    "    # Convert data\n",
    "    y_t = torch.Tensor(y.reshape(-1,1))\n",
    "    # Initialize network\n",
    "    bin_demap = bin_demapper()\n",
    "    # Optimizer\n",
    "    optimizer = optim.Adam(bin_demap.parameters(), lr=0.1)\n",
    "    for j in range(1000):\n",
    "        l = bin_demap(y_t)\n",
    "        loss = loss_fn(l, a_t)\n",
    "        optimizer.zero_grad()\n",
    "        loss.backward()\n",
    "        optimizer.step()\n",
    "\n",
    "    \n",
    "        # Printout and visualization\n",
    "        if j % 50 == 0:\n",
    "            print(f'epoch {j}: Loss = {loss.detach().numpy() :.4f}')\n",
    "    \n",
    "    weigths[idx]=bin_demap.h1.weight[0].detach().numpy()[0]\n",
    "    logits[idx,:] = l.detach().numpy().reshape((-1,))\n",
    "\n"
   ]
  },
  {
   "cell_type": "code",
   "execution_count": null,
   "id": "95397d10",
   "metadata": {
    "colab": {
     "base_uri": "https://localhost:8080/",
     "height": 317
    },
    "id": "95397d10",
    "outputId": "f4175e4a-5dce-4c9c-9bef-dbf967e4cfd1"
   },
   "outputs": [
    {
     "name": "stdout",
     "output_type": "stream",
     "text": [
      "Expected values for lambda : [2.         2.51785082 3.16978638 3.99052463 5.02377286 6.32455532]\n",
      "Value of w after the training : [2.03814054 2.45223045 3.08241153 3.97062159 5.36668777 6.09298229] \n",
      "Slopes of the plots : [2.0381405  2.45223046 3.0824114  3.97062164 5.36668782 6.09273964]\n"
     ]
    },
    {
     "data": {
      "image/png": "[encoded data removed]",
      "text/plain": [
       "<Figure size 432x288 with 1 Axes>"
      ]
     },
     "metadata": {
      "needs_background": "light"
     },
     "output_type": "display_data"
    }
   ],
   "source": [
    "for j in range(SNRs.size):\n",
    "    plt.plot(ys[j,:], logits[j,:], label=f'SNR={SNRdBs[j]} dB')\n",
    "plt.grid()\n",
    "plt.legend()\n",
    "print(f'Expected values for lambda : {2/(1/SNRs)}')\n",
    "print(f'Value of w after the training : {weigths} ')\n",
    "print(f'Slopes of the plots : {(logits[:,0]/ys[:,0])}') \n"
   ]
  },
  {
   "cell_type": "markdown",
   "id": "c4ad5b70",
   "metadata": {
    "id": "c4ad5b70"
   },
   "source": [
    "### Problem 4.3 - Function composition\n",
    "Use the function compositions developed in Section 4.4 to plot Figure 4.7."
   ]
  },
  {
   "cell_type": "code",
   "execution_count": null,
   "id": "29774d55",
   "metadata": {
    "colab": {
     "base_uri": "https://localhost:8080/",
     "height": 265
    },
    "id": "29774d55",
    "outputId": "ee765a18-c30d-4578-94eb-a7f8c2ab3326"
   },
   "outputs": [
    {
     "data": {
      "image/png": "[encoded data removed]",
      "text/plain": [
       "<Figure size 432x288 with 1 Axes>"
      ]
     },
     "metadata": {
      "needs_background": "light"
     },
     "output_type": "display_data"
    }
   ],
   "source": [
    "y = np.arange(-8,9,1)\n",
    "# Your code here\n",
    "l0 = y\n",
    "l1 = -np.abs(l0)+4\n",
    "l2 = -np.abs(l1)+2\n",
    "plt.plot(y, l0, label = 'L0')\n",
    "plt.plot(y,l1, label = 'L1')\n",
    "plt.plot(y,l2, label = 'L2')\n",
    "plt.grid()\n",
    "plt.legend()\n",
    "plt.show()"
   ]
  },
  {
   "cell_type": "markdown",
   "id": "748d47a5",
   "metadata": {
    "id": "748d47a5"
   },
   "source": [
    "### Problem 4.4 - ReLU activation \n",
    "Design an NN using linear neurons and ReLU activation that for input $y$ outputs $a \\cdot |y| + b$."
   ]
  },
  {
   "cell_type": "code",
   "execution_count": null,
   "id": "80c69d55",
   "metadata": {
    "id": "80c69d55"
   },
   "outputs": [],
   "source": [
    "class relu_nn(nn.Module):\n",
    "    def __init__(self, a, b): \n",
    "        super().__init__()\n",
    "        self.h1 = nn.Linear(1,2, bias=False)  \n",
    "        self.act = nn.ReLU()\n",
    "        self.h1.weight = nn.Parameter(torch.Tensor([[a],[-a]]))                                  \n",
    "        self.out = nn.Linear(2,1)\n",
    "        self.out.bias = nn.Parameter(torch.Tensor([b]))\n",
    "        self.out.weight = nn.Parameter(torch.Tensor([1., 1.])) \n",
    "\n",
    "    def forward(self, y):\n",
    "        y = self.out(self.act(self.h1(y)))\n",
    "        return y"
   ]
  },
  {
   "cell_type": "code",
   "execution_count": null,
   "id": "832258b7",
   "metadata": {
    "colab": {
     "base_uri": "https://localhost:8080/",
     "height": 265
    },
    "id": "832258b7",
    "outputId": "c2b42041-dbd2-4f13-dc56-0f507f07b81f"
   },
   "outputs": [
    {
     "data": {
      "image/png": "[encoded data removed]",
      "text/plain": [
       "<Figure size 432x288 with 1 Axes>"
      ]
     },
     "metadata": {
      "needs_background": "light"
     },
     "output_type": "display_data"
    }
   ],
   "source": [
    "# Plot of the expected output\n",
    "y = np.arange(-5.,6.)\n",
    "a= 0.5\n",
    "b = -1.\n",
    "plt.plot(y, a*np.abs(y)+b)\n",
    "plt.plot(y,y)\n",
    "plt.grid()"
   ]
  },
  {
   "cell_type": "code",
   "execution_count": null,
   "id": "cb6340b3",
   "metadata": {
    "colab": {
     "base_uri": "https://localhost:8080/",
     "height": 265
    },
    "id": "cb6340b3",
    "outputId": "237a8b48-3c2e-425f-86c7-bc30e34aa7da"
   },
   "outputs": [
    {
     "data": {
      "image/png": "[encoded data removed]",
      "text/plain": [
       "<Figure size 432x288 with 1 Axes>"
      ]
     },
     "metadata": {
      "needs_background": "light"
     },
     "output_type": "display_data"
    }
   ],
   "source": [
    "# Plot of the NN output\n",
    "y_t = torch.tensor(y.reshape(-1,1,1))\n",
    "net = relu_nn(a,b)\n",
    "net = net.float()\n",
    "z = net(y_t.float()).detach().numpy()\n",
    "plt.plot(y,z)\n",
    "plt.plot(y,y)\n",
    "plt.grid()"
   ]
  },
  {
   "cell_type": "markdown",
   "id": "b0b9d401",
   "metadata": {
    "id": "b0b9d401"
   },
   "source": [
    "### Problem 4.5 - Bitwise NN demapper \n",
    "Consider the Gray labeled channel input alphabet\n",
    "$$\\begin{matrix}\n",
    "\\text{symbol} & -3 &-1 &1 &3\\\\\n",
    "\\text{label} &00 &01 &11 &10\n",
    "\\end{matrix}$$\n",
    "1. For $\\text{SNR} = [5, 6,\\dots, 10]$ train the bitwise NN demapper from Figure 4.6."
   ]
  },
  {
   "cell_type": "code",
   "execution_count": null,
   "id": "5a0804e7",
   "metadata": {
    "id": "5a0804e7"
   },
   "outputs": [],
   "source": [
    "def get_gray_labeling(msg):\n",
    "    label = np.array([[0,0], [0,1], [1,1], [1,0]])\n",
    "    return label[msg, :]"
   ]
  },
  {
   "cell_type": "code",
   "execution_count": null,
   "id": "ed983248",
   "metadata": {
    "colab": {
     "base_uri": "https://localhost:8080/"
    },
    "id": "ed983248",
    "outputId": "92500e1e-7ae4-478e-c972-2a85fe15494f"
   },
   "outputs": [
    {
     "name": "stdout",
     "output_type": "stream",
     "text": [
      "(10000, 2)\n"
     ]
    }
   ],
   "source": [
    "# Create data\n",
    "M = 4 # cardinality of the alphabet\n",
    "m = 2 # number of bits per symbol\n",
    "a = np.random.choice(M,10000) # messages\n",
    "x = mapper(a, np.array([ -3., -1., 1., 3.])) # symbols\n",
    "bits = get_gray_labeling(a)\n",
    "print(bits.shape)"
   ]
  },
  {
   "cell_type": "code",
   "execution_count": null,
   "id": "d41f841e",
   "metadata": {
    "id": "d41f841e"
   },
   "outputs": [],
   "source": [
    "# Define the network\n",
    "class BitwiseNNDemapper(torch.nn.Module):\n",
    "    def __init__(self, num_bitlevels):\n",
    "        super().__init__()\n",
    "        self.num_bitlevels = num_bitlevels\n",
    "        \n",
    "        # Output neurons\n",
    "        self.param = []\n",
    "        self.lin_out = []\n",
    "        \n",
    "        for j in range(self.num_bitlevels):\n",
    "            lin_out = nn.Linear(1, 1, bias=False)\n",
    "            lin_out.weight = nn.Parameter(torch.Tensor([[1.]]))  # trainable output weight: adjust level of confidence via w\n",
    "            self.param = self.param + list(lin_out.parameters()) # prepare a list of parameters to be passed to an optimizer\n",
    "            self.lin_out.append(lin_out)\n",
    "        \n",
    "        # Intermediate neurons\n",
    "        self.lin = []\n",
    "        for j in range(1, num_bitlevels):\n",
    "            linj = nn.Linear(1, 1)\n",
    "            linj.weight = nn.Parameter(torch.Tensor([[-1.]]), requires_grad=False)\n",
    "            linj.bias = nn.Parameter(torch.tensor([2.**(num_bitlevels - j)])) # trainable bias: adjust transitions through zero. May not be\n",
    "                                                                              # exactly in the middle of two neighboring nodes, in particular \n",
    "                                                                              # in the case of low SNR\n",
    "            self.param = self.param + list(linj.parameters()) # prepare a list of parameters to be passed to an optimizer\n",
    "            self.lin.append(linj)\n",
    "    \n",
    "    def forward(self, y):\n",
    "        out = []\n",
    "        out.append(self.lin_out[0](y))\n",
    "        \n",
    "        for j in range(1, self.num_bitlevels):\n",
    "            y = torch.abs(y)\n",
    "            y = self.lin[j - 1](y)\n",
    "            out.append(self.lin_out[j](y))\n",
    "                \n",
    "        return torch.cat(out, 1)\n",
    "    \n",
    "    def parameters(self):\n",
    "        return self.param"
   ]
  },
  {
   "cell_type": "code",
   "execution_count": null,
   "id": "6c0a8429",
   "metadata": {
    "colab": {
     "base_uri": "https://localhost:8080/"
    },
    "id": "6c0a8429",
    "outputId": "6c377d5a-ef16-4c40-d384-a38a41a8eacb"
   },
   "outputs": [
    {
     "name": "stdout",
     "output_type": "stream",
     "text": [
      "--- SNR is: 3.16 ---\n",
      "epoch 0: Loss = 0.3758\n",
      "epoch 50: Loss = 0.3631\n",
      "epoch 100: Loss = 0.3598\n",
      "epoch 150: Loss = 0.3589\n",
      "epoch 200: Loss = 0.3587\n",
      "epoch 250: Loss = 0.3586\n",
      "epoch 300: Loss = 0.3586\n",
      "epoch 350: Loss = 0.3586\n",
      "epoch 400: Loss = 0.3586\n",
      "epoch 450: Loss = 0.3586\n",
      "epoch 500: Loss = 0.3586\n",
      "epoch 550: Loss = 0.3586\n",
      "epoch 600: Loss = 0.3586\n",
      "epoch 650: Loss = 0.3586\n",
      "epoch 700: Loss = 0.3586\n",
      "epoch 750: Loss = 0.3586\n",
      "epoch 800: Loss = 0.3586\n",
      "epoch 850: Loss = 0.3586\n",
      "epoch 900: Loss = 0.3586\n",
      "epoch 950: Loss = 0.3586\n",
      "--- SNR is: 3.98 ---\n",
      "epoch 0: Loss = 0.3500\n",
      "epoch 50: Loss = 0.3301\n",
      "epoch 100: Loss = 0.3215\n",
      "epoch 150: Loss = 0.3179\n",
      "epoch 200: Loss = 0.3163\n",
      "epoch 250: Loss = 0.3156\n",
      "epoch 300: Loss = 0.3153\n",
      "epoch 350: Loss = 0.3152\n",
      "epoch 400: Loss = 0.3151\n",
      "epoch 450: Loss = 0.3151\n",
      "epoch 500: Loss = 0.3151\n",
      "epoch 550: Loss = 0.3151\n",
      "epoch 600: Loss = 0.3151\n",
      "epoch 650: Loss = 0.3151\n",
      "epoch 700: Loss = 0.3151\n",
      "epoch 750: Loss = 0.3151\n",
      "epoch 800: Loss = 0.3151\n",
      "epoch 850: Loss = 0.3151\n",
      "epoch 900: Loss = 0.3151\n",
      "epoch 950: Loss = 0.3151\n",
      "--- SNR is: 5.01 ---\n",
      "epoch 0: Loss = 0.3290\n",
      "epoch 50: Loss = 0.3032\n",
      "epoch 100: Loss = 0.2895\n",
      "epoch 150: Loss = 0.2820\n",
      "epoch 200: Loss = 0.2777\n",
      "epoch 250: Loss = 0.2753\n",
      "epoch 300: Loss = 0.2739\n",
      "epoch 350: Loss = 0.2730\n",
      "epoch 400: Loss = 0.2725\n",
      "epoch 450: Loss = 0.2722\n",
      "epoch 500: Loss = 0.2721\n",
      "epoch 550: Loss = 0.2720\n",
      "epoch 600: Loss = 0.2719\n",
      "epoch 650: Loss = 0.2719\n",
      "epoch 700: Loss = 0.2719\n",
      "epoch 750: Loss = 0.2719\n",
      "epoch 800: Loss = 0.2719\n",
      "epoch 850: Loss = 0.2719\n",
      "epoch 900: Loss = 0.2718\n",
      "epoch 950: Loss = 0.2718\n",
      "--- SNR is: 6.31 ---\n",
      "epoch 0: Loss = 0.3129\n",
      "epoch 50: Loss = 0.2824\n",
      "epoch 100: Loss = 0.2645\n",
      "epoch 150: Loss = 0.2535\n",
      "epoch 200: Loss = 0.2464\n",
      "epoch 250: Loss = 0.2417\n",
      "epoch 300: Loss = 0.2385\n",
      "epoch 350: Loss = 0.2363\n",
      "epoch 400: Loss = 0.2348\n",
      "epoch 450: Loss = 0.2337\n",
      "epoch 500: Loss = 0.2330\n",
      "epoch 550: Loss = 0.2325\n",
      "epoch 600: Loss = 0.2321\n",
      "epoch 650: Loss = 0.2319\n",
      "epoch 700: Loss = 0.2317\n",
      "epoch 750: Loss = 0.2316\n",
      "epoch 800: Loss = 0.2315\n",
      "epoch 850: Loss = 0.2315\n",
      "epoch 900: Loss = 0.2314\n",
      "epoch 950: Loss = 0.2314\n",
      "--- SNR is: 7.94 ---\n",
      "epoch 0: Loss = 0.3003\n",
      "epoch 50: Loss = 0.2657\n",
      "epoch 100: Loss = 0.2440\n",
      "epoch 150: Loss = 0.2296\n",
      "epoch 200: Loss = 0.2197\n",
      "epoch 250: Loss = 0.2125\n",
      "epoch 300: Loss = 0.2072\n",
      "epoch 350: Loss = 0.2032\n",
      "epoch 400: Loss = 0.2001\n",
      "epoch 450: Loss = 0.1978\n",
      "epoch 500: Loss = 0.1960\n",
      "epoch 550: Loss = 0.1945\n",
      "epoch 600: Loss = 0.1934\n",
      "epoch 650: Loss = 0.1925\n",
      "epoch 700: Loss = 0.1918\n",
      "epoch 750: Loss = 0.1913\n",
      "epoch 800: Loss = 0.1908\n",
      "epoch 850: Loss = 0.1905\n",
      "epoch 900: Loss = 0.1902\n",
      "epoch 950: Loss = 0.1900\n",
      "--- SNR is: 10.00 ---\n",
      "epoch 0: Loss = 0.2886\n",
      "epoch 50: Loss = 0.2505\n",
      "epoch 100: Loss = 0.2254\n",
      "epoch 150: Loss = 0.2081\n",
      "epoch 200: Loss = 0.1955\n",
      "epoch 250: Loss = 0.1860\n",
      "epoch 300: Loss = 0.1787\n",
      "epoch 350: Loss = 0.1729\n",
      "epoch 400: Loss = 0.1683\n",
      "epoch 450: Loss = 0.1645\n",
      "epoch 500: Loss = 0.1614\n",
      "epoch 550: Loss = 0.1588\n",
      "epoch 600: Loss = 0.1566\n",
      "epoch 650: Loss = 0.1548\n",
      "epoch 700: Loss = 0.1533\n",
      "epoch 750: Loss = 0.1520\n",
      "epoch 800: Loss = 0.1508\n",
      "epoch 850: Loss = 0.1499\n",
      "epoch 900: Loss = 0.1491\n",
      "epoch 950: Loss = 0.1484\n"
     ]
    }
   ],
   "source": [
    "SNRdBs = np.array([5,6,7,8,9,10])\n",
    "SNRs = 10**(SNRdBs/10)\n",
    "b_t = torch.Tensor(bits)\n",
    "# Loss function\n",
    "loss_fn = nn.BCEWithLogitsLoss()\n",
    "# Preallocate\n",
    "equivocations_bw = np.zeros(SNRs.size) #bit-wise equivocations\n",
    "for idx,snr in enumerate(SNRs):\n",
    "    print(f'--- SNR is: {snr:.2f} ---')\n",
    "    y = awgn_channel(x, snr)\n",
    "    y_t = torch.Tensor(y.reshape(-1,1))\n",
    "    # Initialize network\n",
    "    demap = BitwiseNNDemapper(num_bitlevels=m)\n",
    "    # Optimizer\n",
    "    optimizer = optim.Adam(demap.parameters(), lr=0.005)\n",
    "    for j in range(1000): \n",
    "        l = demap(y_t) \n",
    "        loss = loss_fn(l, b_t)\n",
    "        optimizer.zero_grad()\n",
    "        loss.backward()\n",
    "        optimizer.step()\n",
    "\n",
    "        # Printout and visualization\n",
    "        if j % 50 == 0: \n",
    "            print(f'epoch {j}: Loss = {loss.detach().numpy() :.4f}')\n",
    "    equivocations_bw[idx]= (2*loss)/np.log(2)"
   ]
  },
  {
   "cell_type": "markdown",
   "id": "b19c0b95",
   "metadata": {
    "id": "b19c0b95"
   },
   "source": [
    "2. Plot the log probabilities $\\ell_0(y)$ and $\\ell_1(y)$ output by the trained NN demapper for $y \\in [-4,4]$."
   ]
  },
  {
   "cell_type": "code",
   "execution_count": null,
   "id": "1f9b7930",
   "metadata": {
    "colab": {
     "base_uri": "https://localhost:8080/",
     "height": 265
    },
    "id": "1f9b7930",
    "outputId": "dd519abb-6158-45cd-d0be-b72e38175180"
   },
   "outputs": [
    {
     "data": {
      "image/png": "[encoded data removed]",
      "text/plain": [
       "<Figure size 432x288 with 1 Axes>"
      ]
     },
     "metadata": {
      "needs_background": "light"
     },
     "output_type": "display_data"
    }
   ],
   "source": [
    "y = np.arange(-4,4,0.1)\n",
    "ll = demap(torch.tensor(y.reshape(-1,1)).float()).detach().numpy()\n",
    "plt.plot(y,ll[:,0],label='L0')\n",
    "plt.plot(y,ll[:,1],label='L1')\n",
    "plt.plot(np.array([-3.,-1.,1.,3.]), np.zeros(4), linestyle='', marker='*', label='channel input alphabet')\n",
    "plt.legend()\n",
    "plt.grid()\n"
   ]
  },
  {
   "cell_type": "markdown",
   "id": "5a8bb974",
   "metadata": {
    "id": "5a8bb974"
   },
   "source": [
    "3. For the trained NN demapper, estimate the sum of the bitwise equivocations.\n",
    "$$H(B_0|Y) + H(B_1|Y) $$\n",
    "How does it compare to the equivocation achieved by the symbolwise NN demapper\n",
    "from Problem 3.2?"
   ]
  },
  {
   "cell_type": "code",
   "execution_count": null,
   "id": "878c2187",
   "metadata": {
    "id": "878c2187"
   },
   "outputs": [],
   "source": [
    "class awgn_demapper(nn.Module):\n",
    "    def __init__(self):\n",
    "        super().__init__()\n",
    "        self.out = nn.Linear(1, 4)\n",
    "\n",
    "    def forward(self, y):\n",
    "        y = self.out(y)\n",
    "        return y"
   ]
  },
  {
   "cell_type": "code",
   "execution_count": null,
   "id": "87a46dea",
   "metadata": {
    "colab": {
     "base_uri": "https://localhost:8080/"
    },
    "id": "87a46dea",
    "outputId": "1fca7181-2ea7-4ec2-f663-ffb42d0243ea"
   },
   "outputs": [
    {
     "name": "stdout",
     "output_type": "stream",
     "text": [
      "---- SNR is: 3.16\n",
      "epoch 0: Loss = 1.2847\n",
      "epoch 50: Loss = 0.7271\n",
      "epoch 100: Loss = 0.7164\n",
      "epoch 150: Loss = 0.7160\n",
      "epoch 200: Loss = 0.7159\n",
      "epoch 250: Loss = 0.7159\n",
      "epoch 300: Loss = 0.7159\n",
      "epoch 350: Loss = 0.7159\n",
      "epoch 400: Loss = 0.7159\n",
      "epoch 450: Loss = 0.7159\n",
      "epoch 500: Loss = 0.7159\n",
      "epoch 550: Loss = 0.7159\n",
      "epoch 600: Loss = 0.7159\n",
      "epoch 650: Loss = 0.7159\n",
      "epoch 700: Loss = 0.7159\n",
      "epoch 750: Loss = 0.7159\n",
      "epoch 800: Loss = 0.7159\n",
      "epoch 850: Loss = 0.7159\n",
      "epoch 900: Loss = 0.7159\n",
      "epoch 950: Loss = 0.7159\n",
      "---- SNR is: 3.98\n",
      "epoch 0: Loss = 1.3298\n",
      "epoch 50: Loss = 0.6614\n",
      "epoch 100: Loss = 0.6312\n",
      "epoch 150: Loss = 0.6268\n",
      "epoch 200: Loss = 0.6260\n",
      "epoch 250: Loss = 0.6259\n",
      "epoch 300: Loss = 0.6259\n",
      "epoch 350: Loss = 0.6259\n",
      "epoch 400: Loss = 0.6259\n",
      "epoch 450: Loss = 0.6259\n",
      "epoch 500: Loss = 0.6259\n",
      "epoch 550: Loss = 0.6259\n",
      "epoch 600: Loss = 0.6259\n",
      "epoch 650: Loss = 0.6259\n",
      "epoch 700: Loss = 0.6259\n",
      "epoch 750: Loss = 0.6259\n",
      "epoch 800: Loss = 0.6259\n",
      "epoch 850: Loss = 0.6259\n",
      "epoch 900: Loss = 0.6259\n",
      "epoch 950: Loss = 0.6259\n",
      "---- SNR is: 5.01\n",
      "epoch 0: Loss = 1.8555\n",
      "epoch 50: Loss = 0.6239\n",
      "epoch 100: Loss = 0.5707\n",
      "epoch 150: Loss = 0.5537\n",
      "epoch 200: Loss = 0.5471\n",
      "epoch 250: Loss = 0.5444\n",
      "epoch 300: Loss = 0.5433\n",
      "epoch 350: Loss = 0.5429\n",
      "epoch 400: Loss = 0.5427\n",
      "epoch 450: Loss = 0.5427\n",
      "epoch 500: Loss = 0.5426\n",
      "epoch 550: Loss = 0.5426\n",
      "epoch 600: Loss = 0.5426\n",
      "epoch 650: Loss = 0.5426\n",
      "epoch 700: Loss = 0.5426\n",
      "epoch 750: Loss = 0.5426\n",
      "epoch 800: Loss = 0.5426\n",
      "epoch 850: Loss = 0.5426\n",
      "epoch 900: Loss = 0.5426\n",
      "epoch 950: Loss = 0.5426\n",
      "---- SNR is: 6.31\n",
      "epoch 0: Loss = 1.1904\n",
      "epoch 50: Loss = 0.5091\n",
      "epoch 100: Loss = 0.4715\n",
      "epoch 150: Loss = 0.4619\n",
      "epoch 200: Loss = 0.4590\n",
      "epoch 250: Loss = 0.4582\n",
      "epoch 300: Loss = 0.4579\n",
      "epoch 350: Loss = 0.4579\n",
      "epoch 400: Loss = 0.4578\n",
      "epoch 450: Loss = 0.4578\n",
      "epoch 500: Loss = 0.4578\n",
      "epoch 550: Loss = 0.4578\n",
      "epoch 600: Loss = 0.4578\n",
      "epoch 650: Loss = 0.4578\n",
      "epoch 700: Loss = 0.4578\n",
      "epoch 750: Loss = 0.4578\n",
      "epoch 800: Loss = 0.4578\n",
      "epoch 850: Loss = 0.4578\n",
      "epoch 900: Loss = 0.4578\n",
      "epoch 950: Loss = 0.4578\n",
      "---- SNR is: 7.94\n",
      "epoch 0: Loss = 1.2867\n",
      "epoch 50: Loss = 0.5247\n",
      "epoch 100: Loss = 0.4421\n",
      "epoch 150: Loss = 0.4089\n",
      "epoch 200: Loss = 0.3926\n",
      "epoch 250: Loss = 0.3840\n",
      "epoch 300: Loss = 0.3793\n",
      "epoch 350: Loss = 0.3767\n",
      "epoch 400: Loss = 0.3752\n",
      "epoch 450: Loss = 0.3743\n",
      "epoch 500: Loss = 0.3739\n",
      "epoch 550: Loss = 0.3736\n",
      "epoch 600: Loss = 0.3735\n",
      "epoch 650: Loss = 0.3734\n",
      "epoch 700: Loss = 0.3734\n",
      "epoch 750: Loss = 0.3733\n",
      "epoch 800: Loss = 0.3733\n",
      "epoch 850: Loss = 0.3733\n",
      "epoch 900: Loss = 0.3733\n",
      "epoch 950: Loss = 0.3733\n",
      "---- SNR is: 10.00\n",
      "epoch 0: Loss = 1.4463\n",
      "epoch 50: Loss = 0.4943\n",
      "epoch 100: Loss = 0.3853\n",
      "epoch 150: Loss = 0.3419\n",
      "epoch 200: Loss = 0.3196\n",
      "epoch 250: Loss = 0.3069\n",
      "epoch 300: Loss = 0.2993\n",
      "epoch 350: Loss = 0.2945\n",
      "epoch 400: Loss = 0.2914\n",
      "epoch 450: Loss = 0.2894\n",
      "epoch 500: Loss = 0.2881\n",
      "epoch 550: Loss = 0.2872\n",
      "epoch 600: Loss = 0.2866\n",
      "epoch 650: Loss = 0.2862\n",
      "epoch 700: Loss = 0.2860\n",
      "epoch 750: Loss = 0.2858\n",
      "epoch 800: Loss = 0.2857\n",
      "epoch 850: Loss = 0.2856\n",
      "epoch 900: Loss = 0.2856\n",
      "epoch 950: Loss = 0.2855\n"
     ]
    }
   ],
   "source": [
    "# Code from Tutorial 3\n",
    "# Prepare data\n",
    "a_t = torch.Tensor(a.reshape(-1,))\n",
    "a_t = a_t.type(torch.LongTensor)\n",
    "# Loss function\n",
    "loss_fn = nn.CrossEntropyLoss()\n",
    "# Trainings loop\n",
    "equivocations_sw = np.zeros(SNRs.size) #symbol-wise equivocation\n",
    "for idx,snr in enumerate(SNRs):\n",
    "    print(f'---- SNR is: {snr:.2f}')\n",
    "    y = awgn_channel(x, snr)\n",
    "    y_t = torch.Tensor(y.reshape(-1, 1))\n",
    "    # Initialize network\n",
    "    demap = awgn_demapper()\n",
    "    # Optimizer\n",
    "    optimizer = optim.Adam(demap.parameters(), lr=0.05)\n",
    "    for j in range(1000):\n",
    "        logit = demap(y_t).reshape(-1, 4)\n",
    "        loss = loss_fn(logit, a_t)\n",
    "        optimizer.zero_grad()\n",
    "        loss.backward()\n",
    "        optimizer.step()\n",
    "\n",
    "        # Printout and visualization\n",
    "        if j % 50 == 0:\n",
    "            print(f'epoch {j}: Loss = {loss.detach().numpy() :.4f}')\n",
    "    equivocations_sw[idx] = loss / np.log(2) "
   ]
  },
  {
   "cell_type": "code",
   "execution_count": null,
   "id": "9df767b6",
   "metadata": {
    "colab": {
     "base_uri": "https://localhost:8080/",
     "height": 265
    },
    "id": "9df767b6",
    "outputId": "51547f1d-699e-41a8-aca4-7912fdf3eb18"
   },
   "outputs": [
    {
     "data": {
      "image/png": "[encoded data removed]",
      "text/plain": [
       "<Figure size 432x288 with 1 Axes>"
      ]
     },
     "metadata": {
      "needs_background": "light"
     },
     "output_type": "display_data"
    }
   ],
   "source": [
    "plt.plot(SNRdBs, equivocations_sw, label='Eq symbolwise')\n",
    "plt.plot(SNRdBs, equivocations_bw, label='Eq bitwise')\n",
    "plt.legend()\n",
    "plt.grid()"
   ]
  },
  {
   "cell_type": "code",
   "execution_count": null,
   "id": "11c7823f",
   "metadata": {
    "id": "11c7823f"
   },
   "outputs": [],
   "source": []
  }
 ],
 "metadata": {
  "@webio": {
   "lastCommId": null,
   "lastKernelId": null
  },
  "colab": {
   "collapsed_sections": [],
   "include_colab_link": true,
   "name": "tut04_to_fill.ipynb",
   "provenance": []
  },
  "kernelspec": {
   "display_name": "Python 3 (ipykernel)",
   "language": "python",
   "name": "python3"
  },
  "language_info": {
   "codemirror_mode": {
    "name": "ipython",
    "version": 3
   },
   "file_extension": ".py",
   "mimetype": "text/x-python",
   "name": "python",
   "nbconvert_exporter": "python",
   "pygments_lexer": "ipython3",
   "version": "3.8.10"
  }
 },
 "nbformat": 4,
 "nbformat_minor": 5
}
