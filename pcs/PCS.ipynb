{
 "cells": [
  {
   "cell_type": "code",
   "execution_count": 1,
   "id": "e3dd0037",
   "metadata": {},
   "outputs": [],
   "source": [
    "import numpy as np\n",
    "import matplotlib.pyplot as plt\n",
    "import torch\n",
    "from torch import nn, optim"
   ]
  },
  {
   "cell_type": "code",
   "execution_count": 41,
   "id": "3a9c25b8",
   "metadata": {},
   "outputs": [],
   "source": [
    "#Parameters\n",
    "P = 1\n",
    "\n",
    "# Generate data\n",
    "M = 16\n",
    "B = 1000"
   ]
  },
  {
   "cell_type": "code",
   "execution_count": 3,
   "id": "2a2aaa12",
   "metadata": {},
   "outputs": [],
   "source": [
    "def one_hot(a, M):\n",
    "    onehot = np.zeros(M)\n",
    "    onehot[a] = 1\n",
    "    return onehot"
   ]
  },
  {
   "cell_type": "code",
   "execution_count": 4,
   "id": "2698c61c",
   "metadata": {},
   "outputs": [],
   "source": [
    "def get_norm_factor(x, P, P_M):\n",
    "    return np.sum(P_M*np.abs(x)**2)"
   ]
  },
  {
   "cell_type": "code",
   "execution_count": 5,
   "id": "dc23eeac",
   "metadata": {},
   "outputs": [],
   "source": [
    "def awgn(x, sigma2):\n",
    "    noise_t = np.sqrt(sigma2)*torch.randn(x.shape, dtype=torch.cfloat)\n",
    "    return torch.add(x, noise_t)"
   ]
  },
  {
   "cell_type": "code",
   "execution_count": 6,
   "id": "800490f7",
   "metadata": {},
   "outputs": [],
   "source": [
    "def p_norm(p, x, fun=lambda x: np.square(np.abs(x))):\n",
    "    return np.sum(p * fun(x))"
   ]
  },
  {
   "cell_type": "code",
   "execution_count": 7,
   "id": "17141eae",
   "metadata": {},
   "outputs": [],
   "source": [
    "def get_norm_qam(M, P, P_M):\n",
    "    r = np.arange(np.array(np.sqrt(M)))\n",
    "    r = 2*(r-np.mean(r))\n",
    "    r = np.meshgrid(r,r)\n",
    "    constellation = np.expand_dims(np.reshape(r[0]+1j*r[1],[-1]),axis=0)\n",
    "    norm_factor = np.sqrt(P/get_norm_factor(constellation, P, P_M))\n",
    "    norm_constellation = norm_factor * constellation\n",
    "    return norm_constellation"
   ]
  },
  {
   "cell_type": "code",
   "execution_count": 8,
   "id": "e5cd0945",
   "metadata": {},
   "outputs": [
    {
     "name": "stdout",
     "output_type": "stream",
     "text": [
      "[[-0.9486833 -0.9486833j  -0.31622777-0.9486833j   0.31622777-0.9486833j\n",
      "   0.9486833 -0.9486833j  -0.9486833 -0.31622777j -0.31622777-0.31622777j\n",
      "   0.31622777-0.31622777j  0.9486833 -0.31622777j -0.9486833 +0.31622777j\n",
      "  -0.31622777+0.31622777j  0.31622777+0.31622777j  0.9486833 +0.31622777j\n",
      "  -0.9486833 +0.9486833j  -0.31622777+0.9486833j   0.31622777+0.9486833j\n",
      "   0.9486833 +0.9486833j ]]\n"
     ]
    },
    {
     "data": {
      "image/png": "[encoded data removed]",
      "text/plain": [
       "<Figure size 432x288 with 1 Axes>"
      ]
     },
     "metadata": {
      "needs_background": "light"
     },
     "output_type": "display_data"
    }
   ],
   "source": [
    "P_M = np.ones(1)*1/M\n",
    "data = get_norm_qam(M, 1, P_M)\n",
    "print(data)\n",
    "x = data.real\n",
    "# extract imaginary part using numpy array\n",
    "y = data.imag\n",
    "  \n",
    "# plot the complex numbers\n",
    "plt.plot(x, y, 'g*')\n",
    "plt.ylabel('Imaginary')\n",
    "plt.xlabel('Real')\n",
    "plt.show()"
   ]
  },
  {
   "cell_type": "code",
   "execution_count": 20,
   "id": "6af901af",
   "metadata": {},
   "outputs": [],
   "source": [
    "def sampler(P_M, B):\n",
    "    samples = np.zeros((np.sum(np.rint(B*P_M).astype(int)),0))\n",
    "    for idx, p in enumerate(P_M):\n",
    "        occurrences = np.rint(B*p).astype(int)\n",
    "        samples = np.append(samples, np.ones(occurrences)*idx)\n",
    "    np.random.shuffle(samples)\n",
    "    return samples.astype(int)"
   ]
  },
  {
   "cell_type": "code",
   "execution_count": 21,
   "id": "e5966a4f",
   "metadata": {},
   "outputs": [],
   "source": [
    "class Dist_Generator(nn.Module):\n",
    "    def __init__(self, M):\n",
    "        super().__init__()\n",
    "        self.lin1 = nn.Linear(M, M)\n",
    "        self.lin1.weight = nn.Parameter(torch.full((M,M), 1/M)) # set weigths equal to uniform distribution\n",
    "        \n",
    "    def forward(self, y):\n",
    "        return self.lin1(y)"
   ]
  },
  {
   "cell_type": "code",
   "execution_count": 22,
   "id": "8ac4268d",
   "metadata": {},
   "outputs": [],
   "source": [
    "class Mapper(nn.Module):\n",
    "    def __init__(self, M):\n",
    "        super().__init__()\n",
    "        self.lin1 = nn.Linear(M, 1)\n",
    "        \n",
    "    def forward(self, y):\n",
    "        return self.lin1(y)"
   ]
  },
  {
   "cell_type": "code",
   "execution_count": 23,
   "id": "e27db4c8",
   "metadata": {},
   "outputs": [],
   "source": [
    "class Demapper(nn.Module):\n",
    "    def __init__(self, M):\n",
    "        super().__init__()\n",
    "        self.type(torch.complex64)\n",
    "        self.lin1 = nn.Linear(2, 2*M)\n",
    "        self.act1 = nn.ReLU()\n",
    "        self.lin2 = nn.Linear(2*M, 2*M)\n",
    "        self.act2 = nn.ReLU()\n",
    "        self.lin3 = nn.Linear(2*M, 2*M)\n",
    "        self.act3 = nn.ReLU()\n",
    "        self.lin4 = nn.Linear(2*M, 2*M)\n",
    "        self.act4 = nn.ReLU()\n",
    "        self.lin5 = nn.Linear(2*M, M)\n",
    "        \n",
    "    def forward(self, y):\n",
    "        y = self.act1(self.lin1(y))\n",
    "        y = self.act2(self.lin2(y))\n",
    "        y = self.act3(self.lin3(y))\n",
    "        return self.lin5(self.act4(self.lin4(y)))"
   ]
  },
  {
   "cell_type": "code",
   "execution_count": 13,
   "id": "2ea09277",
   "metadata": {},
   "outputs": [],
   "source": [
    "def calculate_py_given_x(z, sigma2):\n",
    "    return (1/(np.sqrt(2*np.pi*sigma2))) * np.exp(-(y-x)**2/sigma2/2) "
   ]
  },
  {
   "cell_type": "code",
   "execution_count": 35,
   "id": "54622c2b",
   "metadata": {},
   "outputs": [],
   "source": [
    "# CE loss function and correct with additional term\n",
    "def custom_loss_fn(CE, logit, indices_t, zhat, sigma2):\n",
    "    term_1 = CE(logit, indices_t)\n",
    "    q = nn.functional.softmax(logit, 1).detach().numpy()\n",
    "    term_2 = np.mean(calculate_py_given_x(zhat, sigma2)*np.log2(q))\n",
    "    return term_1 + term_2"
   ]
  },
  {
   "cell_type": "code",
   "execution_count": 15,
   "id": "8ffe6463",
   "metadata": {},
   "outputs": [],
   "source": [
    "def complex2real(x):\n",
    "    real = torch.flatten(x.real)\n",
    "    imag = torch.flatten(x.imag)\n",
    "    result = torch.transpose(torch.stack((real, imag)), 0, 1)\n",
    "    return result"
   ]
  },
  {
   "cell_type": "code",
   "execution_count": 16,
   "id": "636997d3",
   "metadata": {},
   "outputs": [],
   "source": [
    "def plot_2D_PDF(constellation, PCS):\n",
    "    fig = plt.figure()\n",
    "\n",
    "    # syntax for 3-D projection\n",
    "    #ax = plt.axes(projection ='3d')\n",
    "\n",
    "    # defining axes\n",
    "    s = PCS*100+100\n",
    "    x = constellation.real\n",
    "    y = constellation.imag\n",
    "    #c = PCS\n",
    "    plt.scatter(x, y, s, c=\"g\")\n",
    "\n",
    "    # syntax for plotting\n",
    "    #ax.set_title('PCS')\n",
    "    plt.show()"
   ]
  },
  {
   "cell_type": "code",
   "execution_count": 42,
   "id": "b525941c",
   "metadata": {},
   "outputs": [
    {
     "name": "stdout",
     "output_type": "stream",
     "text": [
      "---SNR = 0 dB---\n",
      "epoch 0: Loss = 2.4085 dB\n",
      "epoch 500: Loss = 0.7815 dB\n"
     ]
    },
    {
     "ename": "KeyboardInterrupt",
     "evalue": "",
     "output_type": "error",
     "traceback": [
      "\u001b[0;31m---------------------------------------------------------------------------\u001b[0m",
      "\u001b[0;31mKeyboardInterrupt\u001b[0m                         Traceback (most recent call last)",
      "\u001b[0;32m/tmp/ipykernel_4208/2634511047.py\u001b[0m in \u001b[0;36m<module>\u001b[0;34m\u001b[0m\n\u001b[1;32m     23\u001b[0m \u001b[0;34m\u001b[0m\u001b[0m\n\u001b[1;32m     24\u001b[0m         \u001b[0;31m# Sample indexes\u001b[0m\u001b[0;34m\u001b[0m\u001b[0;34m\u001b[0m\u001b[0;34m\u001b[0m\u001b[0m\n\u001b[0;32m---> 25\u001b[0;31m         \u001b[0mindices\u001b[0m \u001b[0;34m=\u001b[0m \u001b[0msampler\u001b[0m\u001b[0;34m(\u001b[0m\u001b[0mP_M\u001b[0m\u001b[0;34m,\u001b[0m \u001b[0mB\u001b[0m\u001b[0;34m)\u001b[0m\u001b[0;34m\u001b[0m\u001b[0;34m\u001b[0m\u001b[0m\n\u001b[0m\u001b[1;32m     26\u001b[0m         \u001b[0;31m# get onehot from sampled indices\u001b[0m\u001b[0;34m\u001b[0m\u001b[0;34m\u001b[0m\u001b[0;34m\u001b[0m\u001b[0m\n\u001b[1;32m     27\u001b[0m         \u001b[0monehot\u001b[0m \u001b[0;34m=\u001b[0m \u001b[0mnp\u001b[0m\u001b[0;34m.\u001b[0m\u001b[0marray\u001b[0m\u001b[0;34m(\u001b[0m\u001b[0;34m[\u001b[0m\u001b[0mone_hot\u001b[0m\u001b[0;34m(\u001b[0m\u001b[0mi\u001b[0m\u001b[0;34m,\u001b[0m \u001b[0mM\u001b[0m\u001b[0;34m)\u001b[0m \u001b[0;32mfor\u001b[0m \u001b[0mi\u001b[0m \u001b[0;32min\u001b[0m \u001b[0mindices\u001b[0m\u001b[0;34m]\u001b[0m\u001b[0;34m)\u001b[0m\u001b[0;34m\u001b[0m\u001b[0;34m\u001b[0m\u001b[0m\n",
      "\u001b[0;32m/tmp/ipykernel_4208/3682181572.py\u001b[0m in \u001b[0;36msampler\u001b[0;34m(P_M, B)\u001b[0m\n\u001b[1;32m      3\u001b[0m     \u001b[0;32mfor\u001b[0m \u001b[0midx\u001b[0m\u001b[0;34m,\u001b[0m \u001b[0mp\u001b[0m \u001b[0;32min\u001b[0m \u001b[0menumerate\u001b[0m\u001b[0;34m(\u001b[0m\u001b[0mP_M\u001b[0m\u001b[0;34m)\u001b[0m\u001b[0;34m:\u001b[0m\u001b[0;34m\u001b[0m\u001b[0;34m\u001b[0m\u001b[0m\n\u001b[1;32m      4\u001b[0m         \u001b[0moccurrences\u001b[0m \u001b[0;34m=\u001b[0m \u001b[0mnp\u001b[0m\u001b[0;34m.\u001b[0m\u001b[0mrint\u001b[0m\u001b[0;34m(\u001b[0m\u001b[0mB\u001b[0m\u001b[0;34m*\u001b[0m\u001b[0mp\u001b[0m\u001b[0;34m)\u001b[0m\u001b[0;34m.\u001b[0m\u001b[0mastype\u001b[0m\u001b[0;34m(\u001b[0m\u001b[0mint\u001b[0m\u001b[0;34m)\u001b[0m\u001b[0;34m\u001b[0m\u001b[0;34m\u001b[0m\u001b[0m\n\u001b[0;32m----> 5\u001b[0;31m         \u001b[0msamples\u001b[0m \u001b[0;34m=\u001b[0m \u001b[0mnp\u001b[0m\u001b[0;34m.\u001b[0m\u001b[0mappend\u001b[0m\u001b[0;34m(\u001b[0m\u001b[0msamples\u001b[0m\u001b[0;34m,\u001b[0m \u001b[0mnp\u001b[0m\u001b[0;34m.\u001b[0m\u001b[0mones\u001b[0m\u001b[0;34m(\u001b[0m\u001b[0moccurrences\u001b[0m\u001b[0;34m)\u001b[0m\u001b[0;34m*\u001b[0m\u001b[0midx\u001b[0m\u001b[0;34m)\u001b[0m\u001b[0;34m\u001b[0m\u001b[0;34m\u001b[0m\u001b[0m\n\u001b[0m\u001b[1;32m      6\u001b[0m     \u001b[0mnp\u001b[0m\u001b[0;34m.\u001b[0m\u001b[0mrandom\u001b[0m\u001b[0;34m.\u001b[0m\u001b[0mshuffle\u001b[0m\u001b[0;34m(\u001b[0m\u001b[0msamples\u001b[0m\u001b[0;34m)\u001b[0m\u001b[0;34m\u001b[0m\u001b[0;34m\u001b[0m\u001b[0m\n\u001b[1;32m      7\u001b[0m     \u001b[0;32mreturn\u001b[0m \u001b[0msamples\u001b[0m\u001b[0;34m.\u001b[0m\u001b[0mastype\u001b[0m\u001b[0;34m(\u001b[0m\u001b[0mint\u001b[0m\u001b[0;34m)\u001b[0m\u001b[0;34m\u001b[0m\u001b[0;34m\u001b[0m\u001b[0m\n",
      "\u001b[0;32m<__array_function__ internals>\u001b[0m in \u001b[0;36mappend\u001b[0;34m(*args, **kwargs)\u001b[0m\n",
      "\u001b[0;32m~/ml_comm/lib/python3.8/site-packages/numpy/lib/function_base.py\u001b[0m in \u001b[0;36mappend\u001b[0;34m(arr, values, axis)\u001b[0m\n\u001b[1;32m   4815\u001b[0m         \u001b[0mvalues\u001b[0m \u001b[0;34m=\u001b[0m \u001b[0mravel\u001b[0m\u001b[0;34m(\u001b[0m\u001b[0mvalues\u001b[0m\u001b[0;34m)\u001b[0m\u001b[0;34m\u001b[0m\u001b[0;34m\u001b[0m\u001b[0m\n\u001b[1;32m   4816\u001b[0m         \u001b[0maxis\u001b[0m \u001b[0;34m=\u001b[0m \u001b[0marr\u001b[0m\u001b[0;34m.\u001b[0m\u001b[0mndim\u001b[0m\u001b[0;34m-\u001b[0m\u001b[0;36m1\u001b[0m\u001b[0;34m\u001b[0m\u001b[0;34m\u001b[0m\u001b[0m\n\u001b[0;32m-> 4817\u001b[0;31m     \u001b[0;32mreturn\u001b[0m \u001b[0mconcatenate\u001b[0m\u001b[0;34m(\u001b[0m\u001b[0;34m(\u001b[0m\u001b[0marr\u001b[0m\u001b[0;34m,\u001b[0m \u001b[0mvalues\u001b[0m\u001b[0;34m)\u001b[0m\u001b[0;34m,\u001b[0m \u001b[0maxis\u001b[0m\u001b[0;34m=\u001b[0m\u001b[0maxis\u001b[0m\u001b[0;34m)\u001b[0m\u001b[0;34m\u001b[0m\u001b[0;34m\u001b[0m\u001b[0m\n\u001b[0m\u001b[1;32m   4818\u001b[0m \u001b[0;34m\u001b[0m\u001b[0m\n\u001b[1;32m   4819\u001b[0m \u001b[0;34m\u001b[0m\u001b[0m\n",
      "\u001b[0;32m<__array_function__ internals>\u001b[0m in \u001b[0;36mconcatenate\u001b[0;34m(*args, **kwargs)\u001b[0m\n",
      "\u001b[0;31mKeyboardInterrupt\u001b[0m: "
     ]
    }
   ],
   "source": [
    "P = 1 # normalization parameter\n",
    "SNRdBs = np.array([0, 2, 4, 6, 8, 10]) \n",
    "SNRs = 10**(SNRdBs/10)\n",
    "\n",
    "# Initialize network\n",
    "dist_generator = Dist_Generator(M)\n",
    "mapper = Mapper(M)\n",
    "demap = Demapper(M)\n",
    "loss_fn = nn.CrossEntropyLoss()\n",
    "\n",
    "for (k,snr) in enumerate(SNRs):\n",
    "    sigma2 = P/snr\n",
    "    print(f'---SNR = {SNRdBs[k]} dB---')\n",
    "\n",
    "    # Optimizer\n",
    "    optimizer = optim.Adam(list(demap.parameters()) + list(dist_generator.parameters()), lr=0.01)\n",
    "    \n",
    "    # Training loop\n",
    "    for j in range(4001):\n",
    "        # first generate the distribution\n",
    "        l_M = dist_generator(torch.ones(M)).reshape(-1, M)\n",
    "        P_M = nn.functional.softmax(l_M, 1).detach().numpy()[0]\n",
    "\n",
    "        # Sample indexes\n",
    "        indices = sampler(P_M, B)\n",
    "        # get onehot from sampled indices\n",
    "        onehot = np.array([one_hot(i, M) for i in indices])\n",
    "        # convert array to tensors\n",
    "        onehot_t = torch.tensor(onehot)\n",
    "        indices_t = torch.tensor(indices) #labels\n",
    "\n",
    "        # Get normalized constellation\n",
    "        constellation = torch.tensor(get_norm_qam(M, P, P_M)).cfloat()\n",
    "        \n",
    "        xhat = torch.matmul(onehot_t.cfloat(), torch.transpose(constellation, 0, 1)) # equivalent to GCS with QAM fixed shape\n",
    "        yhat = awgn(xhat, sigma2)\n",
    "        l = demap(complex2real(yhat))\n",
    "        loss = custom_loss_fn(loss_fn, l, indices_t, complex2real(yhat-xhat), sigma2) #handle complex\n",
    "        #loss = loss_fn(l, indices_t)\n",
    "        optimizer.zero_grad()\n",
    "        loss.backward()\n",
    "        optimizer.step()\n",
    "\n",
    "        # Printout and visualization\n",
    "        if j % 500 == 0:\n",
    "            print(f'epoch {j}: Loss = {loss.detach().numpy()/np.log(2) :.4f} dB')\n",
    "        if loss < 1e-3:\n",
    "            break\n",
    "    # Data for the plots\n",
    "    L_M = dist_generator(torch.ones(M)).reshape(-1, M)\n",
    "    PCS = nn.functional.softmax(L_M, 1).detach().numpy()[0]\n",
    "    constellation = get_norm_qam(M, 1, PCS)\n",
    "    plot_2D_PDF(constellation, PCS)"
   ]
  },
  {
   "cell_type": "code",
   "execution_count": null,
   "id": "6d4d01b0",
   "metadata": {},
   "outputs": [],
   "source": []
  }
 ],
 "metadata": {
  "kernelspec": {
   "display_name": "Python 3 (ipykernel)",
   "language": "python",
   "name": "python3"
  },
  "language_info": {
   "codemirror_mode": {
    "name": "ipython",
    "version": 3
   },
   "file_extension": ".py",
   "mimetype": "text/x-python",
   "name": "python",
   "nbconvert_exporter": "python",
   "pygments_lexer": "ipython3",
   "version": "3.8.10"
  }
 },
 "nbformat": 4,
 "nbformat_minor": 5
}
