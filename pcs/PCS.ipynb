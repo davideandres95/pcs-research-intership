{
 "cells": [
  {
   "cell_type": "code",
   "execution_count": 1,
   "id": "e3dd0037",
   "metadata": {},
   "outputs": [],
   "source": [
    "import numpy as np\n",
    "import matplotlib.pyplot as plt\n",
    "import torch\n",
    "from torch import nn, optim"
   ]
  },
  {
   "cell_type": "code",
   "execution_count": 2,
   "id": "3a9c25b8",
   "metadata": {},
   "outputs": [],
   "source": [
    "#Parameters\n",
    "P = 1\n",
    "\n",
    "# Generate data\n",
    "M = 16\n",
    "B = 10000"
   ]
  },
  {
   "cell_type": "markdown",
   "source": [
    "## Helper Functions"
   ],
   "metadata": {
    "collapsed": false,
    "pycharm": {
     "name": "#%% md\n"
    }
   }
  },
  {
   "cell_type": "code",
   "execution_count": 3,
   "id": "2a2aaa12",
   "metadata": {},
   "outputs": [],
   "source": [
    "def one_hot(a, M):\n",
    "    onehot = np.zeros(M)\n",
    "    onehot[a] = 1\n",
    "    return onehot"
   ]
  },
  {
   "cell_type": "code",
   "execution_count": 4,
   "id": "2698c61c",
   "metadata": {},
   "outputs": [],
   "source": [
    "def get_norm_factor(x, P, P_M):\n",
    "    return np.sum(P_M*np.abs(x)**2)"
   ]
  },
  {
   "cell_type": "code",
   "execution_count": 5,
   "id": "dc23eeac",
   "metadata": {},
   "outputs": [],
   "source": [
    "def awgn(x, sigma2):\n",
    "    noise_t = np.sqrt(sigma2)*torch.randn(x.shape)\n",
    "    return torch.add(x, noise_t)"
   ]
  },
  {
   "cell_type": "code",
   "execution_count": 6,
   "outputs": [],
   "source": [
    "def normalization(x, P):\n",
    "    c = torch.mean(x**2)\n",
    "    return torch.sqrt(P / c) * x"
   ],
   "metadata": {
    "collapsed": false,
    "pycharm": {
     "name": "#%%\n"
    }
   }
  },
  {
   "cell_type": "code",
   "execution_count": 7,
   "id": "17141eae",
   "metadata": {},
   "outputs": [],
   "source": [
    "def get_norm_qam(M, P, P_M):\n",
    "    r = np.arange(np.array(np.sqrt(M)))\n",
    "    r = 2*(r-np.mean(r))\n",
    "    r = np.meshgrid(r,r)\n",
    "    const = np.expand_dims(np.reshape(r[0]+1j*r[1],[-1]),axis=0)\n",
    "    norm_factor = np.sqrt(P/get_norm_factor(const, P, P_M))\n",
    "    norm_constellation = norm_factor * const\n",
    "    return norm_constellation"
   ]
  },
  {
   "cell_type": "code",
   "execution_count": 8,
   "id": "e5cd0945",
   "metadata": {},
   "outputs": [
    {
     "data": {
      "text/plain": "<Figure size 432x288 with 1 Axes>",
      "image/png": "[encoded data removed]"
     },
     "metadata": {
      "needs_background": "light"
     },
     "output_type": "display_data"
    }
   ],
   "source": [
    "# Test the constellation retrieval\n",
    "P_M = np.ones(M)*1/M\n",
    "data = get_norm_qam(M, 1, P_M)\n",
    "x = data.real\n",
    "# extract imaginary part using numpy array\n",
    "y = data.imag\n",
    "  \n",
    "# plot the complex numbers\n",
    "plt.plot(x, y, 'g*')\n",
    "plt.ylabel('Imaginary')\n",
    "plt.xlabel('Real')\n",
    "plt.show()"
   ]
  },
  {
   "cell_type": "code",
   "execution_count": 9,
   "id": "6af901af",
   "metadata": {},
   "outputs": [],
   "source": [
    "def sampler(P_M, B):\n",
    "    samples = np.zeros((np.sum(np.rint(B*P_M).astype(int)),0))\n",
    "    for idx, p in enumerate(P_M):\n",
    "        occurrences = np.rint(B*p).astype(int)\n",
    "        samples = np.append(samples, np.ones(occurrences)*idx)\n",
    "    np.random.shuffle(samples)\n",
    "    return samples.astype(int)"
   ]
  },
  {
   "cell_type": "code",
   "execution_count": 10,
   "outputs": [],
   "source": [
    "def softmax(x):\n",
    "    return np.exp(x)/sum(np.exp(x))"
   ],
   "metadata": {
    "collapsed": false,
    "pycharm": {
     "name": "#%%\n"
    }
   }
  },
  {
   "cell_type": "code",
   "execution_count": 11,
   "outputs": [
    {
     "name": "stdout",
     "output_type": "stream",
     "text": [
      "[4.21603092e-04 1.14603602e-03 3.11524890e-03 8.46812447e-03\n",
      " 2.30187489e-02 6.25714468e-02 1.70086827e-01 4.62343930e-01\n",
      " 1.70086827e-01 6.25714468e-02 2.30187489e-02 8.46812447e-03\n",
      " 3.11524890e-03 1.14603602e-03 4.21603092e-04]\n",
      "0.9999999999999998\n",
      "[0.02721088 0.05442177 0.08163265 0.         0.10884354 0.13605442\n",
      " 0.16326531 0.         0.19047619 0.16326531 0.13605442 0.\n",
      " 0.10884354 0.08163265 0.05442177 0.02721088]\n"
     ]
    },
    {
     "data": {
      "text/plain": "<Figure size 432x288 with 1 Axes>",
      "image/png": "[encoded data removed]"
     },
     "metadata": {
      "needs_background": "light"
     },
     "output_type": "display_data"
    }
   ],
   "source": [
    "# Test the sampler mechanism\n",
    "# mu, sigma = 0, 8\n",
    "# norm = scipy.stats.norm(mu, sigma)\n",
    "# P_M = [norm.pdf(i) for i in range(-9, 8)]\n",
    "#print(P_M)\n",
    "p = np.ones(M)*1/M\n",
    "p1 = np.arange(0,7)\n",
    "p2 = np.flip(np.arange(0,8))\n",
    "p = np.append(p1,p2)\n",
    "print(np.exp(p)/sum(np.exp(p))) #softmax\n",
    "print(np.sum(np.exp(p)/sum(np.exp(p)))) #sum of softmax should add 1.0\n",
    "\n",
    "x = sampler(p, 1000)\n",
    "\n",
    "# the histogram of the data\n",
    "n, bins, patches = plt.hist(x, M, density=True, facecolor='g', alpha=0.75)\n",
    "print(n)\n",
    "\n",
    "plt.xlabel('Symbol')\n",
    "plt.ylabel('Probability')\n",
    "plt.title('Histogram of PCS')\n",
    "plt.grid(True)\n",
    "plt.show()\n"
   ],
   "metadata": {
    "collapsed": false,
    "pycharm": {
     "name": "#%%\n"
    }
   }
  },
  {
   "cell_type": "markdown",
   "source": [
    "## Definition of required NN"
   ],
   "metadata": {
    "collapsed": false,
    "pycharm": {
     "name": "#%% md\n"
    }
   }
  },
  {
   "cell_type": "code",
   "execution_count": 12,
   "id": "e5966a4f",
   "metadata": {},
   "outputs": [],
   "source": [
    "class Dist_Generator(nn.Module):\n",
    "    def __init__(self, M):\n",
    "        super().__init__()\n",
    "        self.lin1 = nn.Linear(M, M)\n",
    "        self.lin1.weight = nn.Parameter(torch.full((M,M), 1/M)) # set weigths equal to uniform distribution\n",
    "        \n",
    "    def forward(self, y):\n",
    "        return self.lin1(y)"
   ]
  },
  {
   "cell_type": "code",
   "execution_count": 13,
   "id": "8ac4268d",
   "metadata": {},
   "outputs": [],
   "source": [
    "class Mapper(nn.Module):\n",
    "    def __init__(self, M):\n",
    "        super().__init__()\n",
    "        self.lin1 = nn.Linear(M, 2)\n",
    "        \n",
    "    def forward(self, y):\n",
    "        return self.lin1(y)"
   ]
  },
  {
   "cell_type": "code",
   "execution_count": 14,
   "id": "e27db4c8",
   "metadata": {},
   "outputs": [],
   "source": [
    "class Demapper(nn.Module):\n",
    "    def __init__(self, M):\n",
    "        super().__init__()\n",
    "        self.lin1 = nn.Linear(2, 2*M)\n",
    "        self.act1 = nn.ReLU()\n",
    "        self.lin2 = nn.Linear(2*M, 2*M)\n",
    "        self.act2 = nn.ReLU()\n",
    "        self.lin3 = nn.Linear(2*M, 2*M)\n",
    "        self.act3 = nn.ReLU()\n",
    "        self.lin4 = nn.Linear(2*M, 2*M)\n",
    "        self.act4 = nn.ReLU()\n",
    "        self.lin5 = nn.Linear(2*M, M)\n",
    "        \n",
    "    def forward(self, y):\n",
    "        y = self.act1(self.lin1(y))\n",
    "        y = self.act2(self.lin2(y))\n",
    "        y = self.act3(self.lin3(y))\n",
    "        return self.lin5(self.act4(self.lin4(y)))"
   ]
  },
  {
   "cell_type": "markdown",
   "source": [
    "## Loss Function\n",
    "The Cross Equivocation must be corrected with an additional term to account for the changing statistics of the information source:\n",
    "$$CE_{loss} + \\sum \\limits_{Y_{n}} P(Y_{n}|c_{i})log_{2}(Q_{\\theta,P_{M},C_{M}}(c_{m}|Y_{n})$$\n",
    "Regarding the prior term, the complex representation is reduced from (N,2) to N by means of multiplication. This is because we have a complex AWGN where the Noise is circularly symmetric.\n",
    "This means:\n",
    "$$P(Y_{R}Y_{I}|X_{R}X_{I}) = P(Y_{R}|X_{R})P(Y_{I}|_{R}X_{I})$$\n",
    "While the posterior term is computed from the learned distribution and taking the max."
   ],
   "metadata": {
    "collapsed": false,
    "pycharm": {
     "name": "#%% md\n"
    }
   }
  },
  {
   "cell_type": "code",
   "execution_count": 15,
   "outputs": [],
   "source": [
    "def calculate_py_given_x(z, sig2):\n",
    "    return (1 / (np.sqrt(2 * np.pi * sig2))) * np.exp(-z ** 2 / sig2 / 2)"
   ],
   "metadata": {
    "collapsed": false,
    "pycharm": {
     "name": "#%%\n"
    }
   }
  },
  {
   "cell_type": "code",
   "execution_count": 39,
   "outputs": [],
   "source": [
    "# CE loss function and correct with additional term\n",
    "def custom_loss_fn(ce, logit, ind, zhat, sig2):\n",
    "    #print(logit.shape)\n",
    "    term_1 = ce(logit, ind)\n",
    "    #print('term 1: ', term_1)\n",
    "    q = np.amax(nn.functional.softmax(logit, 1).detach().numpy(), 1)# Q(c_i|Y_n) <-- learned\n",
    "    p = np.multiply.reduce(calculate_py_given_x(zhat, sig2), 1)# P(Y_n|c_i), as we have complex circularly symmetric, distributions are indep. Reduction is multiplication, therefore.\n",
    "    #print('q.shape: ', q.shape)\n",
    "    #print('p.shape: ', p.shape)\n",
    "    term_2 = np.mean(p*np.log2(q))\n",
    "    return term_1 + term_2"
   ],
   "metadata": {
    "collapsed": false,
    "pycharm": {
     "name": "#%%\n"
    }
   }
  },
  {
   "cell_type": "code",
   "execution_count": 17,
   "id": "8ffe6463",
   "metadata": {},
   "outputs": [],
   "source": [
    "def complex2real(cplx):\n",
    "    real = torch.flatten(cplx.real)\n",
    "    imag = torch.flatten(cplx.imag)\n",
    "    result = torch.transpose(torch.stack((real, imag)), 0, 1)\n",
    "    return result"
   ]
  },
  {
   "cell_type": "code",
   "execution_count": 18,
   "id": "636997d3",
   "metadata": {},
   "outputs": [],
   "source": [
    "def plot_2D_PDF(const, pmf):\n",
    "    s = pmf*100+100\n",
    "    plt.scatter(const.real, const.imag, s, c=\"g\")\n",
    "    plt.show()"
   ]
  },
  {
   "cell_type": "markdown",
   "source": [
    "## Training Loop"
   ],
   "metadata": {
    "collapsed": false,
    "pycharm": {
     "name": "#%% md\n"
    }
   }
  },
  {
   "cell_type": "code",
   "execution_count": 40,
   "id": "b525941c",
   "metadata": {
    "pycharm": {
     "name": "#%%\n"
    }
   },
   "outputs": [
    {
     "name": "stdout",
     "output_type": "stream",
     "text": [
      "---SNR = 0 dB---\n",
      "epoch 0: Loss = 3.5101 dB\n",
      "epoch 500: Loss = 3.0630 dB\n",
      "epoch 1000: Loss = 3.0608 dB\n",
      "epoch 1500: Loss = 3.0672 dB\n",
      "epoch 2000: Loss = 3.0560 dB\n",
      "epoch 2500: Loss = 3.0583 dB\n",
      "epoch 3000: Loss = 3.0544 dB\n",
      "epoch 3500: Loss = 3.0466 dB\n",
      "epoch 4000: Loss = 3.0635 dB\n"
     ]
    },
    {
     "data": {
      "text/plain": "<Figure size 432x288 with 1 Axes>",
      "image/png": "[encoded data removed]"
     },
     "metadata": {
      "needs_background": "light"
     },
     "output_type": "display_data"
    },
    {
     "name": "stdout",
     "output_type": "stream",
     "text": [
      "---SNR = 2 dB---\n",
      "epoch 0: Loss = 2.6866 dB\n",
      "epoch 500: Loss = 2.7151 dB\n",
      "epoch 1000: Loss = 2.7290 dB\n",
      "epoch 1500: Loss = 2.7138 dB\n",
      "epoch 2000: Loss = 2.6942 dB\n",
      "epoch 2500: Loss = 2.6987 dB\n",
      "epoch 3000: Loss = 2.6955 dB\n",
      "epoch 3500: Loss = 2.7062 dB\n",
      "epoch 4000: Loss = 2.7162 dB\n"
     ]
    },
    {
     "data": {
      "text/plain": "<Figure size 432x288 with 1 Axes>",
      "image/png": "[encoded data removed]"
     },
     "metadata": {
      "needs_background": "light"
     },
     "output_type": "display_data"
    },
    {
     "name": "stdout",
     "output_type": "stream",
     "text": [
      "---SNR = 4 dB---\n",
      "epoch 0: Loss = 2.2549 dB\n",
      "epoch 500: Loss = 2.2662 dB\n",
      "epoch 1000: Loss = 2.3014 dB\n",
      "epoch 1500: Loss = 2.2972 dB\n",
      "epoch 2000: Loss = 2.3184 dB\n",
      "epoch 2500: Loss = 2.2841 dB\n",
      "epoch 3000: Loss = 2.2881 dB\n",
      "epoch 3500: Loss = 2.2891 dB\n",
      "epoch 4000: Loss = 2.2795 dB\n"
     ]
    },
    {
     "data": {
      "text/plain": "<Figure size 432x288 with 1 Axes>",
      "image/png": "[encoded data removed]"
     },
     "metadata": {
      "needs_background": "light"
     },
     "output_type": "display_data"
    },
    {
     "name": "stdout",
     "output_type": "stream",
     "text": [
      "---SNR = 6 dB---\n",
      "epoch 0: Loss = 1.7446 dB\n",
      "epoch 500: Loss = 1.8280 dB\n",
      "epoch 1000: Loss = 1.8017 dB\n",
      "epoch 1500: Loss = 1.8263 dB\n",
      "epoch 2000: Loss = 1.7852 dB\n",
      "epoch 2500: Loss = 1.8451 dB\n",
      "epoch 3000: Loss = 1.8246 dB\n",
      "epoch 3500: Loss = 1.8306 dB\n",
      "epoch 4000: Loss = 1.8147 dB\n"
     ]
    },
    {
     "data": {
      "text/plain": "<Figure size 432x288 with 1 Axes>",
      "image/png": "[encoded data removed]"
     },
     "metadata": {
      "needs_background": "light"
     },
     "output_type": "display_data"
    },
    {
     "name": "stdout",
     "output_type": "stream",
     "text": [
      "---SNR = 8 dB---\n",
      "epoch 0: Loss = 1.2144 dB\n",
      "epoch 500: Loss = 1.2902 dB\n",
      "epoch 1000: Loss = 1.3069 dB\n",
      "epoch 1500: Loss = 1.2632 dB\n",
      "epoch 2000: Loss = 1.3269 dB\n",
      "epoch 2500: Loss = 1.2993 dB\n",
      "epoch 3000: Loss = 1.3309 dB\n",
      "epoch 3500: Loss = 1.3270 dB\n",
      "epoch 4000: Loss = 1.3153 dB\n"
     ]
    },
    {
     "data": {
      "text/plain": "<Figure size 432x288 with 1 Axes>",
      "image/png": "[encoded data removed]"
     },
     "metadata": {
      "needs_background": "light"
     },
     "output_type": "display_data"
    },
    {
     "name": "stdout",
     "output_type": "stream",
     "text": [
      "---SNR = 10 dB---\n",
      "epoch 0: Loss = 0.6560 dB\n",
      "epoch 500: Loss = 0.8278 dB\n",
      "epoch 1000: Loss = 0.8498 dB\n",
      "epoch 1500: Loss = 0.8461 dB\n",
      "epoch 2000: Loss = 0.8732 dB\n",
      "epoch 2500: Loss = 0.8247 dB\n",
      "epoch 3000: Loss = 0.8415 dB\n",
      "epoch 3500: Loss = 0.8564 dB\n",
      "epoch 4000: Loss = 0.8490 dB\n"
     ]
    },
    {
     "data": {
      "text/plain": "<Figure size 432x288 with 1 Axes>",
      "image/png": "[encoded data removed]"
     },
     "metadata": {
      "needs_background": "light"
     },
     "output_type": "display_data"
    }
   ],
   "source": [
    "P = 1 # normalization parameter\n",
    "SNRdBs = np.array([0, 2, 4, 6, 8, 10]) \n",
    "SNRs = 10**(SNRdBs/10)\n",
    "\n",
    "# Initialize network\n",
    "dist_generator = Dist_Generator(M)\n",
    "mapper = Mapper(M)\n",
    "demap = Demapper(M)\n",
    "loss_fn = nn.CrossEntropyLoss()\n",
    "pcs_only = True\n",
    "\n",
    "for (k,snr) in enumerate(SNRs):\n",
    "    sigma2 = P/snr\n",
    "    print(f'---SNR = {SNRdBs[k]} dB---')\n",
    "\n",
    "    # Optimizer\n",
    "    if pcs_only:\n",
    "        optimizer = optim.Adam(list(demap.parameters()) + list(dist_generator.parameters()), lr=0.01)\n",
    "    else:\n",
    "        optimizer = optim.Adam(list(mapper.parameters()) + list(demap.parameters()) + list(dist_generator.parameters()), lr=0.01)\n",
    "    \n",
    "    # Training loop\n",
    "    for j in range(4001):\n",
    "        # first generate the distribution\n",
    "        l_M = dist_generator(torch.ones(M)).reshape(-1, M)\n",
    "        P_M = nn.functional.softmax(l_M, 1).detach().numpy()[0]\n",
    "\n",
    "        # Sample indexes\n",
    "        indices = sampler(P_M, B)\n",
    "        # get onehot from sampled indices\n",
    "        onehot = np.array([one_hot(i, M) for i in indices])\n",
    "        # convert array to tensors\n",
    "        onehot_t = torch.tensor(onehot).float()\n",
    "        indices_t = torch.tensor(indices)\n",
    "        indices_t = indices_t.type(torch.LongTensor)#labels\n",
    "\n",
    "        # Get normalized constellation\n",
    "        constellation = complex2real(torch.tensor(get_norm_qam(M, P, P_M)))\n",
    "\n",
    "        if(pcs_only):\n",
    "            #xhat = torch.matmul(onehot_t, torch.transpose(constellation, 0, 1)) # equivalent to GCS with QAM fixed shape\n",
    "            xhat = torch.matmul(onehot_t, constellation.float()).float()\n",
    "        else:\n",
    "            xhat = mapper(onehot_t)\n",
    "        yhat = normalization(awgn(xhat, sigma2), P)\n",
    "\n",
    "        l = demap(yhat)\n",
    "        if pcs_only:\n",
    "            zhat = (yhat-xhat).detach().numpy()\n",
    "            loss = custom_loss_fn(loss_fn, l, indices_t, zhat, sigma2)\n",
    "        else:\n",
    "            loss = loss_fn(l, indices_t)\n",
    "        optimizer.zero_grad()\n",
    "        loss.backward()\n",
    "        optimizer.step()\n",
    "\n",
    "        # Printout and visualization\n",
    "        if j % 500 == 0:\n",
    "            print(f'epoch {j}: Loss = {loss.detach().numpy()/np.log(2) :.4f} dB')\n",
    "        if loss < 1e-3:\n",
    "            break\n",
    "    # Data for the plots\n",
    "    if pcs_only:\n",
    "        L_M = dist_generator(torch.ones(M)).reshape(-1, M)\n",
    "        PCS = nn.functional.softmax(L_M, 1).detach().numpy()\n",
    "        constellation = get_norm_qam(M, 1, PCS)\n",
    "        plot_2D_PDF(constellation, PCS)\n",
    "    else:\n",
    "        a_plot = np.arange(M)\n",
    "        onehot_plot = np.array([one_hot(a_plot[i], M) for i in range(M)])\n",
    "        #learned_x = map(torch.tensor(onehot_plot).float()).detach().numpy()\n",
    "        learned_x = mapper(torch.tensor(onehot_plot).float())\n",
    "        learned_x = normalization(learned_x, P).detach().numpy()\n",
    "        plt.scatter(learned_x[:,0], learned_x[:,1])\n",
    "        plt.title(f'Learned Constellation for SNR = {SNRdBs[k]} dB')\n",
    "        plt.grid()\n",
    "        plt.show()"
   ]
  }
 ],
 "metadata": {
  "kernelspec": {
   "display_name": "Python 3 (ipykernel)",
   "language": "python",
   "name": "python3"
  },
  "language_info": {
   "codemirror_mode": {
    "name": "ipython",
    "version": 3
   },
   "file_extension": ".py",
   "mimetype": "text/x-python",
   "name": "python",
   "nbconvert_exporter": "python",
   "pygments_lexer": "ipython3",
   "version": "3.8.10"
  }
 },
 "nbformat": 4,
 "nbformat_minor": 5
}