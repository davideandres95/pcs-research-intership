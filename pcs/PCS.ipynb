{
 "cells": [
  {
   "cell_type": "code",
   "execution_count": 1,
   "id": "e3dd0037",
   "metadata": {
    "collapsed": true
   },
   "outputs": [],
   "source": [
    "import numpy as np\n",
    "import matplotlib.pyplot as plt\n",
    "import torch\n",
    "from torch import nn, optim"
   ]
  },
  {
   "cell_type": "code",
   "execution_count": 5,
   "id": "3a9c25b8",
   "metadata": {},
   "outputs": [],
   "source": [
    "#Parameters\n",
    "P = 1\n",
    "snrdB = 6 \n",
    "sigma2 = P/(10**(snrdB/10))\n",
    "\n",
    "#Data\n",
    "M = 4 # cardinality of the alphabet\n",
    "chi = [-3., -1., 1., 3.] # alphabet\n",
    "a = np.random.choice(M,10000) # messages"
   ]
  },
  {
   "cell_type": "code",
   "execution_count": 2,
   "id": "2698c61c",
   "metadata": {},
   "outputs": [],
   "source": [
    "def normalization(x, P):\n",
    "    c = torch.mean(x**2)\n",
    "    return torch.sqrt(P / c) * x"
   ]
  },
  {
   "cell_type": "code",
   "execution_count": 3,
   "id": "dc23eeac",
   "metadata": {},
   "outputs": [],
   "source": [
    "def awgn(x, sigma2):\n",
    "    noise_t = np.sqrt(sigma2)*torch.randn(x.shape)\n",
    "    return torch.add(x, noise_t)"
   ]
  },
  {
   "cell_type": "code",
   "execution_count": null,
   "id": "2ea09277",
   "metadata": {},
   "outputs": [],
   "source": [
    "def calculate_py_given_x(x, y):\n",
    "    return (1/(np.sqrt(2*np.pi*sigma2))) * np.exp(-(y-x)**2/sigma2/2) "
   ]
  },
  {
   "cell_type": "code",
   "execution_count": 4,
   "id": "54622c2b",
   "metadata": {},
   "outputs": [],
   "source": [
    "#receive the logit from the CE loss function and correct with additional term\n",
    "def loss_fn(logit, received_symbols, true_symbols):\n",
    "    Q = nn.functional.softmax(logit, 1)\n",
    "    c = mapper(true_symbols) #to-do: define the mapper\n",
    "    term_1 = nn.CrossEntropyLoss(logit, c)\n",
    "    term_2 = np.mean([np.sum(calculate_py_given_x(received_symbols, c_i)*np.log2(logit[c_i,:])) for c_i in c]) #is it correct to take the mean?\n",
    "\n",
    "    return term_1 + term_2"
   ]
  }
 ],
 "metadata": {
  "kernelspec": {
   "display_name": "Python 3 (ipykernel)",
   "language": "python",
   "name": "python3"
  },
  "language_info": {
   "codemirror_mode": {
    "name": "ipython",
    "version": 3
   },
   "file_extension": ".py",
   "mimetype": "text/x-python",
   "name": "python",
   "nbconvert_exporter": "python",
   "pygments_lexer": "ipython3",
   "version": "3.8.10"
  }
 },
 "nbformat": 4,
 "nbformat_minor": 5
}
